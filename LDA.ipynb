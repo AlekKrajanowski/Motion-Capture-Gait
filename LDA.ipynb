{
 "cells": [
  {
   "cell_type": "code",
   "execution_count": 3,
   "metadata": {},
   "outputs": [],
   "source": [
    "from ipynb.fs.full.create_h5_file import *\n",
    "from ipynb.fs.full.jrd_feature import *\n",
    "import glob\n",
    "import h5py\n",
    "import pandas as pd\n",
    "import numpy as np\n",
    "\n",
    "data_h5 = []\n",
    "# data_file_names = []\n",
    "# data_time = []\n",
    "\n",
    "for file_path in glob.glob('C:/Users/alekk/data/healthy/*.c3d'):\n",
    "    feature = jrd_method('LANK', 'RANK', file_path)\n",
    "    \n",
    "    data_h5.append(feature)\n",
    "    \n",
    "\n",
    "# file_path = \"data.c3d\"\n",
    "new_path_h5 = \"new5.h5\"\n",
    "create_h5_b(new_path_h5, data_h5)"
   ]
  },
  {
   "cell_type": "code",
   "execution_count": 4,
   "metadata": {},
   "outputs": [
    {
     "data": {
      "text/plain": [
       "(15, 2, 300)"
      ]
     },
     "execution_count": 4,
     "metadata": {},
     "output_type": "execute_result"
    }
   ],
   "source": [
    "x = np.stack(data_h5)\n",
    "x.shape"
   ]
  },
  {
   "cell_type": "code",
   "execution_count": 5,
   "metadata": {},
   "outputs": [
    {
     "name": "stdout",
     "output_type": "stream",
     "text": [
      "[[[289.26944157 289.27494599 289.28126005 ... 543.38903079 522.10373382\n",
      "   499.56619423]\n",
      "  [  0.           1.           2.         ... 297.         298.\n",
      "   299.        ]]\n",
      "\n",
      " [[338.75196776 338.83398901 338.91026361 ... 285.47237723 267.96484922\n",
      "   252.54707333]\n",
      "  [  0.           1.           2.         ... 297.         298.\n",
      "   299.        ]]\n",
      "\n",
      " [[245.91699289 245.92244562 245.92703991 ... 586.99710673 585.87201933\n",
      "   583.79508753]\n",
      "  [  0.           1.           2.         ... 297.         298.\n",
      "   299.        ]]\n",
      "\n",
      " ...\n",
      "\n",
      " [[230.66993167 230.71456637 230.74635318 ... 260.02421385 242.05192761\n",
      "   225.45206274]\n",
      "  [  0.           1.           2.         ... 297.         298.\n",
      "   299.        ]]\n",
      "\n",
      " [[198.13512542 198.13171165 198.1320372  ... 180.4788009  174.3880154\n",
      "   176.14197681]\n",
      "  [  0.           1.           2.         ... 297.         298.\n",
      "   299.        ]]\n",
      "\n",
      " [[200.58537747 200.65231108 200.70329956 ... 254.22883515 276.21598671\n",
      "   300.24537858]\n",
      "  [  0.           1.           2.         ... 297.         298.\n",
      "   299.        ]]]\n"
     ]
    }
   ],
   "source": [
    "print(x)"
   ]
  },
  {
   "cell_type": "code",
   "execution_count": 12,
   "metadata": {},
   "outputs": [
    {
     "name": "stdout",
     "output_type": "stream",
     "text": [
      "['feature']\n",
      "[[[289.26944157 289.27494599 289.28126005 ... 543.38903079 522.10373382\n",
      "   499.56619423]\n",
      "  [  0.           1.           2.         ... 297.         298.\n",
      "   299.        ]]\n",
      "\n",
      " [[338.75196776 338.83398901 338.91026361 ... 285.47237723 267.96484922\n",
      "   252.54707333]\n",
      "  [  0.           1.           2.         ... 297.         298.\n",
      "   299.        ]]\n",
      "\n",
      " [[245.91699289 245.92244562 245.92703991 ... 586.99710673 585.87201933\n",
      "   583.79508753]\n",
      "  [  0.           1.           2.         ... 297.         298.\n",
      "   299.        ]]\n",
      "\n",
      " ...\n",
      "\n",
      " [[230.66993167 230.71456637 230.74635318 ... 260.02421385 242.05192761\n",
      "   225.45206274]\n",
      "  [  0.           1.           2.         ... 297.         298.\n",
      "   299.        ]]\n",
      "\n",
      " [[198.13512542 198.13171165 198.1320372  ... 180.4788009  174.3880154\n",
      "   176.14197681]\n",
      "  [  0.           1.           2.         ... 297.         298.\n",
      "   299.        ]]\n",
      "\n",
      " [[200.58537747 200.65231108 200.70329956 ... 254.22883515 276.21598671\n",
      "   300.24537858]\n",
      "  [  0.           1.           2.         ... 297.         298.\n",
      "   299.        ]]]\n"
     ]
    }
   ],
   "source": [
    "import pandas as pd\n",
    "import matplotlib.pyplot as plt\n",
    "import numpy as np\n",
    "from sklearn.discriminant_analysis import LinearDiscriminantAnalysis\n",
    "\n",
    "f = h5py.File(new_path_h5, 'r')\n",
    "\n",
    "print(list(f.keys()))\n",
    "\n",
    "x = f['feature'][:,:]\n",
    "print(x)\n"
   ]
  },
  {
   "cell_type": "code",
   "execution_count": 4,
   "metadata": {},
   "outputs": [],
   "source": [
    "nsamples, nx, ny = x.shape\n",
    "d2_x = x.reshape((nsamples,nx*ny))"
   ]
  },
  {
   "cell_type": "code",
   "execution_count": 5,
   "metadata": {},
   "outputs": [],
   "source": [
    "from sklearn.preprocessing import StandardScaler\n",
    "scaler = StandardScaler()\n",
    "scaler.fit(d2_x)\n",
    "scaled_data = scaler.transform(d2_x)"
   ]
  },
  {
   "cell_type": "code",
   "execution_count": 9,
   "metadata": {},
   "outputs": [
    {
     "data": {
      "text/plain": [
       "array([[ 0.14337037,  0.13458154,  0.12334629, ...,  0.        ,\n",
       "         0.        ,  0.        ],\n",
       "       [ 0.76911122,  0.74063098,  0.71386123, ...,  0.        ,\n",
       "         0.        ,  0.        ],\n",
       "       [-0.4048514 , -0.39556911, -0.3925076 , ...,  0.        ,\n",
       "         0.        ,  0.        ],\n",
       "       ...,\n",
       "       [-0.59766106, -0.58154378, -0.5731363 , ...,  0.        ,\n",
       "         0.        ,  0.        ],\n",
       "       [-1.00908625, -0.97999419, -0.96120053, ...,  0.        ,\n",
       "         0.        ,  0.        ],\n",
       "       [-0.97810111, -0.94917019, -0.93060614, ...,  0.        ,\n",
       "         0.        ,  0.        ]])"
      ]
     },
     "execution_count": 9,
     "metadata": {},
     "output_type": "execute_result"
    }
   ],
   "source": [
    "scaled_data"
   ]
  },
  {
   "cell_type": "code",
   "execution_count": 8,
   "metadata": {},
   "outputs": [],
   "source": [
    "scaled_data[:] = np.nan_to_num(scaled_data)"
   ]
  },
  {
   "cell_type": "code",
   "execution_count": 11,
   "metadata": {},
   "outputs": [],
   "source": [
    "from sklearn.discriminant_analysis import LinearDiscriminantAnalysis\n",
    "\n",
    "lda = LinearDiscriminantAnalysis(n_components=15)\n"
   ]
  },
  {
   "cell_type": "code",
   "execution_count": null,
   "metadata": {},
   "outputs": [],
   "source": []
  }
 ],
 "metadata": {
  "kernelspec": {
   "display_name": "Python 3",
   "language": "python",
   "name": "python3"
  },
  "language_info": {
   "codemirror_mode": {
    "name": "ipython",
    "version": 3
   },
   "file_extension": ".py",
   "mimetype": "text/x-python",
   "name": "python",
   "nbconvert_exporter": "python",
   "pygments_lexer": "ipython3",
   "version": "3.7.6"
  }
 },
 "nbformat": 4,
 "nbformat_minor": 4
}
