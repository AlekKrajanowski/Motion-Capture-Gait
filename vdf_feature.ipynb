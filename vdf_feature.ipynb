{
 "cells": [
  {
   "cell_type": "code",
   "execution_count": null,
   "metadata": {},
   "outputs": [],
   "source": [
    "from pyomeca import Markers\n",
    "import math\n",
    "import matplotlib.pyplot as plt\n",
    "from statistics import mean\n",
    "import numpy as np\n",
    "from scipy.stats import skew \n",
    "\n",
    "data_path = \"data/data.c3d\"\n",
    "\n",
    "def Average(lst): \n",
    "    return mean(lst)\n",
    "\n",
    "def vdf_method():\n",
    "    channels = ['RFHD','RWRA','RSHO','RANK','LANK','RHEE','LHEE']\n",
    "    markers_body = Markers.from_c3d(data_path, usecols=channels)\n",
    "    \n",
    "    channels_sym = ['HEDA','CentreOfMass','CentreOfMassFloor']\n",
    "    markers_sym = Markers.from_c3d(data_path, usecols=channels_sym)\n",
    "    \n",
    "    #vd1 HEIGHT\n",
    "    vd1 = []\n",
    "    vd1_y = 0\n",
    "    #vd2 WRIST RIGHT\n",
    "    vd2 = []\n",
    "    vd2_y = 0\n",
    "    #vd3 SHOULDER RIGHT\n",
    "    vd3 = []\n",
    "    vd3_y = 0\n",
    "    #vd4 ANKLE RIGHT\n",
    "    vd4 = []\n",
    "    vd4_y = 0\n",
    "    #vd5 ANKLE LEFT\n",
    "    vd5 = []\n",
    "    vd5_y = 0\n",
    "    #vd6 DIST. FOOT LEFT AND RIGHT\n",
    "    vd6 = []\n",
    "    vd6_y = 0\n",
    "    \n",
    "    #variables\n",
    "    meanV = []\n",
    "    stdV = []\n",
    "    VDF = [] \n",
    "    vdf = []\n",
    "    time = []\n",
    "    i = 0\n",
    "    \n",
    "    while i < 485\n",
    "    \n",
    "    "
   ]
  },
  {
   "cell_type": "code",
   "execution_count": null,
   "metadata": {},
   "outputs": [],
   "source": []
  }
 ],
 "metadata": {
  "kernelspec": {
   "display_name": "Python 3",
   "language": "python",
   "name": "python3"
  },
  "language_info": {
   "codemirror_mode": {
    "name": "ipython",
    "version": 3
   },
   "file_extension": ".py",
   "mimetype": "text/x-python",
   "name": "python",
   "nbconvert_exporter": "python",
   "pygments_lexer": "ipython3",
   "version": "3.7.6"
  }
 },
 "nbformat": 4,
 "nbformat_minor": 4
}
