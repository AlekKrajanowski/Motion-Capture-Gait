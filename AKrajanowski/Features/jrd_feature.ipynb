{
 "cells": [
  {
   "cell_type": "code",
   "execution_count": 5,
   "metadata": {},
   "outputs": [],
   "source": [
    "from pyomeca import Markers\n",
    "import math\n",
    "import matplotlib.pyplot as plt\n",
    "import numpy as np\n",
    "import pandas as pd\n",
    "\n",
    "data_path = \"degeneration_09.c3d\"\n",
    "\n",
    "def jrd_method(m1,m2,data_path):\n",
    "    channels = [m1, m2]\n",
    "    markers = Markers.from_c3d(data_path, usecols=channels)\n",
    "\n",
    "    arr_distance_jrd = []\n",
    "    arr_left = []\n",
    "    arr_right = []\n",
    "    time = []\n",
    "    i = 0\n",
    "    x_2 = 0\n",
    "    y_2 = 0\n",
    "    z_2 = 0\n",
    "\n",
    "#     while i < 127:\n",
    "    \n",
    "#         x_2 = (np.array(markers[0][0][i]) - np.array(markers[0][1][i])) ** 2\n",
    "#         y_2 = (np.array(markers[1][0][i]) - np.array(markers[1][1][i])) ** 2\n",
    "#         z_2 = (np.array(markers[2][0][i]) - np.array(markers[2][1][i])) ** 2\n",
    "#         distance = math.sqrt(x_2+y_2+z_2)\n",
    "        \n",
    "#         time.append(i)\n",
    "#         arr_left.append(markers[2][0][i])\n",
    "#         arr_right.append(markers[2][1][i])\n",
    "#         arr_distance_jrd.append(distance)\n",
    "    \n",
    "#         i += 1\n",
    "        \n",
    "    return arr_distance_jrd, time\n",
    "\n",
    "#     fig, axs = plt.subplots(1, 3)\n",
    "#     axs[0].plot(time, arr_distance_jrd, 'tab:red')\n",
    "#     axs[0].set_title('JRD Feature') \n",
    "#     axs[1].plot(time, arr_left, 'tab:red')\n",
    "#     axs[1].set_title('Left/' + m1)\n",
    "#     axs[2].plot(time, arr_right, 'tab:red')\n",
    "#     axs[2].set_title('Right/' + m2)\n",
    "    \n",
    "#     for ax in axs.flat:\n",
    "#         ax.set(xlabel='time(h)', ylabel='distance/position')       \n",
    "#     for ax in axs.flat:\n",
    "#         ax.label_outer()\n",
    "\n",
    "# dat = jrd_method('LANK', 'RANK',data_path)\n"
   ]
  },
  {
   "cell_type": "code",
   "execution_count": 7,
   "metadata": {},
   "outputs": [
    {
     "data": {
      "text/plain": [
       "(108, 1)"
      ]
     },
     "execution_count": 7,
     "metadata": {},
     "output_type": "execute_result"
    }
   ],
   "source": [
    "channels = ['LANK', 'RANK']\n",
    "markers = Markers.from_c3d(data_path, usecols=channels)\n",
    "\n",
    "dat = pd.DataFrame(markers[0][0])\n",
    "dat.shape"
   ]
  },
  {
   "cell_type": "code",
   "execution_count": null,
   "metadata": {},
   "outputs": [],
   "source": []
  },
  {
   "cell_type": "code",
   "execution_count": null,
   "metadata": {},
   "outputs": [],
   "source": []
  }
 ],
 "metadata": {
  "kernelspec": {
   "display_name": "Python 3",
   "language": "python",
   "name": "python3"
  },
  "language_info": {
   "codemirror_mode": {
    "name": "ipython",
    "version": 3
   },
   "file_extension": ".py",
   "mimetype": "text/x-python",
   "name": "python",
   "nbconvert_exporter": "python",
   "pygments_lexer": "ipython3",
   "version": "3.7.9"
  }
 },
 "nbformat": 4,
 "nbformat_minor": 4
}
