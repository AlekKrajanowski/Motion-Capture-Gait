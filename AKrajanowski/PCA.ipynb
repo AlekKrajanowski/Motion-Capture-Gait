{
 "cells": [
  {
   "cell_type": "code",
   "execution_count": 1,
   "metadata": {},
   "outputs": [],
   "source": [
    "import h5py\n",
    "import numpy as np\n",
    "import matplotlib.pyplot as plt\n",
    "import pandas as pd"
   ]
  },
  {
   "cell_type": "code",
   "execution_count": 2,
   "metadata": {},
   "outputs": [
    {
     "name": "stdout",
     "output_type": "stream",
     "text": [
      "['x', 'y']\n",
      "(samples, timesteps, features) (samples,label)->  (26, 127, 7) (26, 1)\n"
     ]
    }
   ],
   "source": [
    "f=h5py.File(r'features_db_test2.h5', 'r')\n",
    "print(list(f.keys()))\n",
    "x = f['x'][:,:,:]\n",
    "y = f['y']\n",
    "print('(samples, timesteps, features) (samples,label)-> ', x.shape, y.shape)"
   ]
  },
  {
   "cell_type": "code",
   "execution_count": 3,
   "metadata": {},
   "outputs": [],
   "source": [
    "nsamples, nx, ny = x.shape\n",
    "d2_x = x.reshape((nsamples,nx*ny))"
   ]
  },
  {
   "cell_type": "code",
   "execution_count": 4,
   "metadata": {},
   "outputs": [],
   "source": [
    "from sklearn.preprocessing import StandardScaler\n",
    "scaler = StandardScaler()\n",
    "scaler.fit(d2_x)\n",
    "scaled_data = scaler.transform(d2_x)"
   ]
  },
  {
   "cell_type": "code",
   "execution_count": 5,
   "metadata": {},
   "outputs": [
    {
     "data": {
      "text/plain": [
       "array([[-0.7748531 , -0.59336901, -0.56461661, ...,  0.11605285,\n",
       "        -1.03232044,  0.16619385],\n",
       "       [-1.47623321,  1.74714384, -0.26142155, ..., -2.02504325,\n",
       "        -1.03757513,  0.17922123],\n",
       "       [-0.68220187,  1.03983698, -1.37098329, ..., -0.10403847,\n",
       "        -0.34287008, -1.85556473],\n",
       "       ...,\n",
       "       [ 0.49368627, -0.67516007, -0.71896647, ..., -0.5706464 ,\n",
       "         0.69551665, -0.57638395],\n",
       "       [ 1.06535692, -0.74849501, -1.08032358, ...,  0.7339762 ,\n",
       "         1.70379596,  2.33031393],\n",
       "       [ 1.06535692, -0.74849501, -1.08032358, ...,  0.7339762 ,\n",
       "         1.70379596,  2.33031393]])"
      ]
     },
     "execution_count": 5,
     "metadata": {},
     "output_type": "execute_result"
    }
   ],
   "source": [
    "scaled_data"
   ]
  },
  {
   "cell_type": "code",
   "execution_count": 6,
   "metadata": {},
   "outputs": [
    {
     "data": {
      "text/plain": [
       "array([[-0.7748531 , -0.59336901, -0.56461661, ...,  0.11605285,\n",
       "        -1.03232044,  0.16619385],\n",
       "       [-1.47623321,  1.74714384, -0.26142155, ..., -2.02504325,\n",
       "        -1.03757513,  0.17922123],\n",
       "       [-0.68220187,  1.03983698, -1.37098329, ..., -0.10403847,\n",
       "        -0.34287008, -1.85556473],\n",
       "       ...,\n",
       "       [ 0.49368627, -0.67516007, -0.71896647, ..., -0.5706464 ,\n",
       "         0.69551665, -0.57638395],\n",
       "       [ 1.06535692, -0.74849501, -1.08032358, ...,  0.7339762 ,\n",
       "         1.70379596,  2.33031393],\n",
       "       [ 1.06535692, -0.74849501, -1.08032358, ...,  0.7339762 ,\n",
       "         1.70379596,  2.33031393]])"
      ]
     },
     "execution_count": 6,
     "metadata": {},
     "output_type": "execute_result"
    }
   ],
   "source": [
    "scaled_data[:] = np.nan_to_num(scaled_data)\n",
    "scaled_data"
   ]
  },
  {
   "cell_type": "code",
   "execution_count": 7,
   "metadata": {},
   "outputs": [
    {
     "name": "stdout",
     "output_type": "stream",
     "text": [
      "original shape:    (26, 889)\n",
      "transformed shape: (26, 26)\n"
     ]
    }
   ],
   "source": [
    "from sklearn.decomposition import PCA\n",
    "\n",
    "pca = PCA(n_components=26) # liczba głównych składowych\n",
    "pca.fit(scaled_data)\n",
    "x_pca = pca.transform(scaled_data)\n",
    "x_new = pca.inverse_transform(x_pca)\n",
    "print(\"original shape:   \", scaled_data.shape)\n",
    "print(\"transformed shape:\", x_pca.shape)"
   ]
  },
  {
   "cell_type": "code",
   "execution_count": 8,
   "metadata": {},
   "outputs": [
    {
     "data": {
      "text/plain": [
       "Text(0, 0.5, 'Second Principal Component')"
      ]
     },
     "execution_count": 8,
     "metadata": {},
     "output_type": "execute_result"
    },
    {
     "data": {
      "image/png": "[encoded data removed]",
      "text/plain": [
       "<Figure size 720x720 with 1 Axes>"
      ]
     },
     "metadata": {
      "needs_background": "light"
     },
     "output_type": "display_data"
    }
   ],
   "source": [
    "plt.figure(figsize=(10,10))\n",
    "plt.scatter(x_pca[:,0],x_pca[:,1])\n",
    "plt.xlabel('First principal component')\n",
    "plt.ylabel('Second Principal Component')"
   ]
  },
  {
   "cell_type": "code",
   "execution_count": 9,
   "metadata": {},
   "outputs": [
    {
     "data": {
      "text/plain": [
       "array([[-0.04188311,  0.0277799 , -0.01707885, ..., -0.02138968,\n",
       "        -0.04850778, -0.01544908],\n",
       "       [-0.00302822,  0.01640283,  0.04826555, ...,  0.02122738,\n",
       "        -0.03385308, -0.00264557],\n",
       "       [ 0.00909062,  0.00702771,  0.0371317 , ..., -0.05554269,\n",
       "        -0.00549817, -0.02432319],\n",
       "       ...,\n",
       "       [ 0.04319046,  0.00314377,  0.00339353, ...,  0.03626275,\n",
       "        -0.02356282, -0.01099713],\n",
       "       [-0.21111458, -0.33848035,  0.02120484, ..., -0.00962051,\n",
       "         0.01280226, -0.00460962],\n",
       "       [ 0.01619407, -0.0373525 ,  0.01631032, ..., -0.0058089 ,\n",
       "         0.00444406, -0.00183268]])"
      ]
     },
     "execution_count": 9,
     "metadata": {},
     "output_type": "execute_result"
    }
   ],
   "source": [
    "pca.components_"
   ]
  },
  {
   "cell_type": "code",
   "execution_count": 21,
   "metadata": {},
   "outputs": [
    {
     "data": {
      "image/png": "[encoded data removed]",
      "text/plain": [
       "<Figure size 432x288 with 2 Axes>"
      ]
     },
     "metadata": {
      "needs_background": "light"
     },
     "output_type": "display_data"
    }
   ],
   "source": [
    "digits = [1,1,1,1,1,1,1,1,1,1,1,1,1,1,1,2,2,2,2,2,2,2,2,2,2,2] #1-pliki chorej osoby, 2- pliki zdrowej osoby\n",
    "\n",
    "plt.scatter(x_pca[:, 0], x_pca[:, 1],\n",
    "            c=digits, edgecolor='none', alpha=0.8,\n",
    "            cmap=plt.cm.get_cmap(\"Spectral\", 2))\n",
    "plt.xlabel('component 1')\n",
    "plt.ylabel('component 2')\n",
    "plt.colorbar();"
   ]
  },
  {
   "cell_type": "markdown",
   "metadata": {},
   "source": [
    "<li>Podział na chorych(czerwony) i zdrowych(fioletowy). Klasyfikator rozróżnił dwie oczekiwane klasy. Nie są one idealnie widoczne, lecz po naniesienu kolorów widać skupiska elementó danej klasy.\n",
    "<li>Problem w dokładniejszych wysunięciu wniosków spowodowany jest przygotowaniem za małej bazy danych, która nie pozwala nam na dokładniejszą analizę.\n"
   ]
  },
  {
   "cell_type": "code",
   "execution_count": 16,
   "metadata": {},
   "outputs": [
    {
     "data": {
      "image/png": "[encoded data removed]",
      "text/plain": [
       "<Figure size 432x288 with 1 Axes>"
      ]
     },
     "metadata": {
      "needs_background": "light"
     },
     "output_type": "display_data"
    }
   ],
   "source": [
    "pca = PCA().fit(scaled_data)\n",
    "plt.plot(np.cumsum(pca.explained_variance_ratio_))\n",
    "plt.xlabel('number of components')\n",
    "plt.ylabel('cumulative explained variance');"
   ]
  },
  {
   "cell_type": "code",
   "execution_count": null,
   "metadata": {},
   "outputs": [],
   "source": []
  }
 ],
 "metadata": {
  "kernelspec": {
   "display_name": "Python 3",
   "language": "python",
   "name": "python3"
  },
  "language_info": {
   "codemirror_mode": {
    "name": "ipython",
    "version": 3
   },
   "file_extension": ".py",
   "mimetype": "text/x-python",
   "name": "python",
   "nbconvert_exporter": "python",
   "pygments_lexer": "ipython3",
   "version": "3.7.9"
  }
 },
 "nbformat": 4,
 "nbformat_minor": 4
}
