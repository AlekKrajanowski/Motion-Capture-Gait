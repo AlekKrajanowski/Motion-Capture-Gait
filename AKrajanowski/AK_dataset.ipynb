{
 "cells": [
  {
   "cell_type": "markdown",
   "metadata": {},
   "source": [
    "### Przygotowanie bazy danych "
   ]
  },
  {
   "cell_type": "code",
   "execution_count": 3,
   "metadata": {},
   "outputs": [],
   "source": [
    "from pyomeca import Markers\n",
    "from ezc3d import c3d\n",
    "import importlib\n",
    "import numpy as np\n",
    "import pandas as pd"
   ]
  },
  {
   "cell_type": "code",
   "execution_count": 4,
   "metadata": {},
   "outputs": [],
   "source": [
    "path = f'medical_dataset_AK\\healthy\\healthy_15.c3d'"
   ]
  },
  {
   "cell_type": "code",
   "execution_count": 5,
   "metadata": {},
   "outputs": [],
   "source": [
    "sample = c3d(path)"
   ]
  },
  {
   "cell_type": "code",
   "execution_count": 6,
   "metadata": {},
   "outputs": [
    {
     "data": {
      "text/plain": [
       "<ezc3d.c3d at 0x1b2331954c8>"
      ]
     },
     "execution_count": 6,
     "metadata": {},
     "output_type": "execute_result"
    }
   ],
   "source": [
    "sample"
   ]
  },
  {
   "cell_type": "code",
   "execution_count": 7,
   "metadata": {},
   "outputs": [
    {
     "name": "stdout",
     "output_type": "stream",
     "text": [
      "długość nagrania: 981\n"
     ]
    }
   ],
   "source": [
    "print('długość nagrania:', sample['parameters']['POINT']['FRAMES']['value'][0])"
   ]
  },
  {
   "cell_type": "code",
   "execution_count": 8,
   "metadata": {},
   "outputs": [],
   "source": [
    "e_label = pd.DataFrame(sample['parameters']['EVENT']['LABELS']['value'])\n",
    "e_contexts = pd.DataFrame(sample['parameters']['EVENT']['CONTEXTS']['value'])\n",
    "\n",
    "times = sample['parameters']['EVENT']['TIMES']['value']"
   ]
  },
  {
   "cell_type": "code",
   "execution_count": 9,
   "metadata": {},
   "outputs": [],
   "source": [
    "# p = np.concatenate((times[0], times[1]))"
   ]
  },
  {
   "cell_type": "code",
   "execution_count": 10,
   "metadata": {},
   "outputs": [
    {
     "data": {
      "text/plain": [
       "array([[0.        , 0.        , 0.        , 0.        , 0.        ,\n",
       "        0.        , 0.        , 0.        , 0.        , 0.        ,\n",
       "        0.        , 0.        , 0.        , 0.        , 0.        ,\n",
       "        0.        , 0.        , 0.        , 0.        ],\n",
       "       [3.6500001 , 4.34000015, 2.25      , 5.01000023, 6.36999989,\n",
       "        1.46000004, 2.98000002, 5.71000004, 7.09000015, 5.80999994,\n",
       "        1.71000004, 3.0999999 , 4.44000006, 7.25      , 2.44000006,\n",
       "        3.74000001, 5.11000013, 6.46000004, 8.02000046]])"
      ]
     },
     "execution_count": 10,
     "metadata": {},
     "output_type": "execute_result"
    }
   ],
   "source": [
    "times"
   ]
  },
  {
   "cell_type": "code",
   "execution_count": 11,
   "metadata": {},
   "outputs": [
    {
     "ename": "ValueError",
     "evalue": "The truth value of an array with more than one element is ambiguous. Use a.any() or a.all()",
     "output_type": "error",
     "traceback": [
      "\u001b[1;31m---------------------------------------------------------------------------\u001b[0m",
      "\u001b[1;31mValueError\u001b[0m                                Traceback (most recent call last)",
      "\u001b[1;32m<ipython-input-11-285313b60357>\u001b[0m in \u001b[0;36m<module>\u001b[1;34m\u001b[0m\n\u001b[1;32m----> 1\u001b[1;33m \u001b[0me_frames\u001b[0m \u001b[1;33m=\u001b[0m \u001b[0mpd\u001b[0m\u001b[1;33m.\u001b[0m\u001b[0mDataFrame\u001b[0m\u001b[1;33m(\u001b[0m\u001b[1;33m[\u001b[0m\u001b[0mvalue\u001b[0m \u001b[1;33m*\u001b[0m \u001b[1;36m100\u001b[0m \u001b[1;32mfor\u001b[0m \u001b[0mvalue\u001b[0m \u001b[1;32min\u001b[0m \u001b[0mtimes\u001b[0m \u001b[1;32mif\u001b[0m \u001b[0mvalue\u001b[0m \u001b[1;33m!=\u001b[0m \u001b[1;36m0\u001b[0m\u001b[1;33m]\u001b[0m\u001b[1;33m)\u001b[0m\u001b[1;33m.\u001b[0m\u001b[0mastype\u001b[0m\u001b[1;33m(\u001b[0m\u001b[0mint\u001b[0m\u001b[1;33m)\u001b[0m\u001b[1;33m\u001b[0m\u001b[1;33m\u001b[0m\u001b[0m\n\u001b[0m",
      "\u001b[1;32m<ipython-input-11-285313b60357>\u001b[0m in \u001b[0;36m<listcomp>\u001b[1;34m(.0)\u001b[0m\n\u001b[1;32m----> 1\u001b[1;33m \u001b[0me_frames\u001b[0m \u001b[1;33m=\u001b[0m \u001b[0mpd\u001b[0m\u001b[1;33m.\u001b[0m\u001b[0mDataFrame\u001b[0m\u001b[1;33m(\u001b[0m\u001b[1;33m[\u001b[0m\u001b[0mvalue\u001b[0m \u001b[1;33m*\u001b[0m \u001b[1;36m100\u001b[0m \u001b[1;32mfor\u001b[0m \u001b[0mvalue\u001b[0m \u001b[1;32min\u001b[0m \u001b[0mtimes\u001b[0m \u001b[1;32mif\u001b[0m \u001b[0mvalue\u001b[0m \u001b[1;33m!=\u001b[0m \u001b[1;36m0\u001b[0m\u001b[1;33m]\u001b[0m\u001b[1;33m)\u001b[0m\u001b[1;33m.\u001b[0m\u001b[0mastype\u001b[0m\u001b[1;33m(\u001b[0m\u001b[0mint\u001b[0m\u001b[1;33m)\u001b[0m\u001b[1;33m\u001b[0m\u001b[1;33m\u001b[0m\u001b[0m\n\u001b[0m",
      "\u001b[1;31mValueError\u001b[0m: The truth value of an array with more than one element is ambiguous. Use a.any() or a.all()"
     ]
    }
   ],
   "source": [
    "e_frames = pd.DataFrame([value * 100 for value in times if value != 0]).astype(int)"
   ]
  },
  {
   "cell_type": "code",
   "execution_count": 2,
   "metadata": {},
   "outputs": [],
   "source": [
    "def read_labels(sample):\n",
    "    e_label = pd.DataFrame(sample['parameters']['EVENT']['LABELS']['value'])\n",
    "    e_contexts = pd.DataFrame(sample['parameters']['EVENT']['CONTEXTS']['value'])\n",
    "\n",
    "    times = sample['parameters']['EVENT']['TIMES']['value']\n",
    "    e_frames = pd.DataFrame(times[1] * 100).astype(int)\n",
    "\n",
    "    event = pd.concat([e_label, e_contexts, e_frames], axis=1)\n",
    "    event.columns = ['label', 'context', 'frames']\n",
    "    event = event.set_index('frames')\n",
    "    event = event.sort_index(axis=0)\n",
    "\n",
    "    return event"
   ]
  },
  {
   "cell_type": "code",
   "execution_count": 3,
   "metadata": {},
   "outputs": [
    {
     "data": {
      "text/html": [
       "<div>\n",
       "<style scoped>\n",
       "    .dataframe tbody tr th:only-of-type {\n",
       "        vertical-align: middle;\n",
       "    }\n",
       "\n",
       "    .dataframe tbody tr th {\n",
       "        vertical-align: top;\n",
       "    }\n",
       "\n",
       "    .dataframe thead th {\n",
       "        text-align: right;\n",
       "    }\n",
       "</style>\n",
       "<table border=\"1\" class=\"dataframe\">\n",
       "  <thead>\n",
       "    <tr style=\"text-align: right;\">\n",
       "      <th></th>\n",
       "      <th>label</th>\n",
       "      <th>context</th>\n",
       "    </tr>\n",
       "    <tr>\n",
       "      <th>frames</th>\n",
       "      <th></th>\n",
       "      <th></th>\n",
       "    </tr>\n",
       "  </thead>\n",
       "  <tbody>\n",
       "    <tr>\n",
       "      <th>211</th>\n",
       "      <td>Foot Strike</td>\n",
       "      <td>Right</td>\n",
       "    </tr>\n",
       "    <tr>\n",
       "      <th>269</th>\n",
       "      <td>Foot Strike</td>\n",
       "      <td>Left</td>\n",
       "    </tr>\n",
       "    <tr>\n",
       "      <th>282</th>\n",
       "      <td>Foot Off</td>\n",
       "      <td>Right</td>\n",
       "    </tr>\n",
       "    <tr>\n",
       "      <th>326</th>\n",
       "      <td>Foot Strike</td>\n",
       "      <td>Right</td>\n",
       "    </tr>\n",
       "    <tr>\n",
       "      <th>341</th>\n",
       "      <td>Foot Off</td>\n",
       "      <td>Left</td>\n",
       "    </tr>\n",
       "    <tr>\n",
       "      <th>383</th>\n",
       "      <td>Foot Strike</td>\n",
       "      <td>Left</td>\n",
       "    </tr>\n",
       "  </tbody>\n",
       "</table>\n",
       "</div>"
      ],
      "text/plain": [
       "              label context\n",
       "frames                     \n",
       "211     Foot Strike   Right\n",
       "269     Foot Strike    Left\n",
       "282        Foot Off   Right\n",
       "326     Foot Strike   Right\n",
       "341        Foot Off    Left\n",
       "383     Foot Strike    Left"
      ]
     },
     "execution_count": 3,
     "metadata": {},
     "output_type": "execute_result"
    }
   ],
   "source": [
    "from pyomeca import Markers\n",
    "from ezc3d import c3d\n",
    "import importlib\n",
    "import numpy as np\n",
    "import pandas as pd\n",
    "\n",
    "path = f'medical_dataset_AK\\healthy\\healthy_02.c3d'\n",
    "\n",
    "read_labels(c3d(path))"
   ]
  },
  {
   "cell_type": "code",
   "execution_count": 83,
   "metadata": {},
   "outputs": [],
   "source": [
    "def get_event_frames(sample, label, context):\n",
    "    df = read_labels(sample)\n",
    "\n",
    "    return [frame for frame in df.index if df['label'][frame] == label and df['context'][frame] == context]"
   ]
  },
  {
   "cell_type": "code",
   "execution_count": 84,
   "metadata": {},
   "outputs": [
    {
     "data": {
      "text/plain": [
       "[146, 298, 434, 571, 709]"
      ]
     },
     "execution_count": 84,
     "metadata": {},
     "output_type": "execute_result"
    }
   ],
   "source": [
    "get_event_frames(sample, 'Foot Strike', 'Right')"
   ]
  },
  {
   "cell_type": "code",
   "execution_count": 85,
   "metadata": {},
   "outputs": [],
   "source": [
    "def get_one_step_time(sample, label, context):\n",
    "    df = read_labels(sample)\n",
    "    temp = [frame for frame in df.index if df['label'][frame] == label and df['context'][frame] == context]\n",
    "\n",
    "    return temp[0], temp[1]"
   ]
  },
  {
   "cell_type": "code",
   "execution_count": 86,
   "metadata": {},
   "outputs": [
    {
     "data": {
      "text/plain": [
       "(146, 298)"
      ]
     },
     "execution_count": 86,
     "metadata": {},
     "output_type": "execute_result"
    }
   ],
   "source": [
    "get_one_step_time(sample, 'Foot Strike', 'Right')"
   ]
  },
  {
   "cell_type": "code",
   "execution_count": 87,
   "metadata": {},
   "outputs": [],
   "source": [
    "d = Markers.from_c3d(path, ['LFHD','RFHD']).meca.to_wide_dataframe()"
   ]
  },
  {
   "cell_type": "code",
   "execution_count": 88,
   "metadata": {},
   "outputs": [
    {
     "data": {
      "text/html": [
       "<div>\n",
       "<style scoped>\n",
       "    .dataframe tbody tr th:only-of-type {\n",
       "        vertical-align: middle;\n",
       "    }\n",
       "\n",
       "    .dataframe tbody tr th {\n",
       "        vertical-align: top;\n",
       "    }\n",
       "\n",
       "    .dataframe thead th {\n",
       "        text-align: right;\n",
       "    }\n",
       "</style>\n",
       "<table border=\"1\" class=\"dataframe\">\n",
       "  <thead>\n",
       "    <tr style=\"text-align: right;\">\n",
       "      <th></th>\n",
       "      <th>ones_LFHD</th>\n",
       "      <th>ones_RFHD</th>\n",
       "      <th>x_LFHD</th>\n",
       "      <th>x_RFHD</th>\n",
       "      <th>y_LFHD</th>\n",
       "      <th>y_RFHD</th>\n",
       "      <th>z_LFHD</th>\n",
       "      <th>z_RFHD</th>\n",
       "    </tr>\n",
       "    <tr>\n",
       "      <th>time</th>\n",
       "      <th></th>\n",
       "      <th></th>\n",
       "      <th></th>\n",
       "      <th></th>\n",
       "      <th></th>\n",
       "      <th></th>\n",
       "      <th></th>\n",
       "      <th></th>\n",
       "    </tr>\n",
       "  </thead>\n",
       "  <tbody>\n",
       "    <tr>\n",
       "      <th>0.00</th>\n",
       "      <td>1.0</td>\n",
       "      <td>1.0</td>\n",
       "      <td>-45.353775</td>\n",
       "      <td>-187.919693</td>\n",
       "      <td>2176.733154</td>\n",
       "      <td>2167.717773</td>\n",
       "      <td>1511.754395</td>\n",
       "      <td>1522.853760</td>\n",
       "    </tr>\n",
       "    <tr>\n",
       "      <th>0.01</th>\n",
       "      <td>1.0</td>\n",
       "      <td>1.0</td>\n",
       "      <td>-45.363224</td>\n",
       "      <td>-187.928894</td>\n",
       "      <td>2176.910400</td>\n",
       "      <td>2167.882324</td>\n",
       "      <td>1511.799927</td>\n",
       "      <td>1522.909912</td>\n",
       "    </tr>\n",
       "    <tr>\n",
       "      <th>0.02</th>\n",
       "      <td>1.0</td>\n",
       "      <td>1.0</td>\n",
       "      <td>-45.373493</td>\n",
       "      <td>-187.939102</td>\n",
       "      <td>2177.087646</td>\n",
       "      <td>2168.051270</td>\n",
       "      <td>1511.844604</td>\n",
       "      <td>1522.962891</td>\n",
       "    </tr>\n",
       "    <tr>\n",
       "      <th>0.03</th>\n",
       "      <td>1.0</td>\n",
       "      <td>1.0</td>\n",
       "      <td>-45.384571</td>\n",
       "      <td>-187.950333</td>\n",
       "      <td>2177.265137</td>\n",
       "      <td>2168.224365</td>\n",
       "      <td>1511.888550</td>\n",
       "      <td>1523.012573</td>\n",
       "    </tr>\n",
       "    <tr>\n",
       "      <th>0.04</th>\n",
       "      <td>1.0</td>\n",
       "      <td>1.0</td>\n",
       "      <td>-45.396469</td>\n",
       "      <td>-187.962555</td>\n",
       "      <td>2177.442627</td>\n",
       "      <td>2168.401855</td>\n",
       "      <td>1511.931763</td>\n",
       "      <td>1523.059082</td>\n",
       "    </tr>\n",
       "    <tr>\n",
       "      <th>...</th>\n",
       "      <td>...</td>\n",
       "      <td>...</td>\n",
       "      <td>...</td>\n",
       "      <td>...</td>\n",
       "      <td>...</td>\n",
       "      <td>...</td>\n",
       "      <td>...</td>\n",
       "      <td>...</td>\n",
       "    </tr>\n",
       "    <tr>\n",
       "      <th>9.76</th>\n",
       "      <td>1.0</td>\n",
       "      <td>1.0</td>\n",
       "      <td>-68.102509</td>\n",
       "      <td>-141.728165</td>\n",
       "      <td>-2693.305908</td>\n",
       "      <td>-2572.364746</td>\n",
       "      <td>1543.184692</td>\n",
       "      <td>1545.306152</td>\n",
       "    </tr>\n",
       "    <tr>\n",
       "      <th>9.77</th>\n",
       "      <td>1.0</td>\n",
       "      <td>1.0</td>\n",
       "      <td>-69.261848</td>\n",
       "      <td>-141.430359</td>\n",
       "      <td>-2694.498291</td>\n",
       "      <td>-2572.820557</td>\n",
       "      <td>1543.076050</td>\n",
       "      <td>1545.338135</td>\n",
       "    </tr>\n",
       "    <tr>\n",
       "      <th>9.78</th>\n",
       "      <td>1.0</td>\n",
       "      <td>1.0</td>\n",
       "      <td>-70.453659</td>\n",
       "      <td>-141.190079</td>\n",
       "      <td>-2695.618896</td>\n",
       "      <td>-2573.258057</td>\n",
       "      <td>1542.972656</td>\n",
       "      <td>1545.383667</td>\n",
       "    </tr>\n",
       "    <tr>\n",
       "      <th>9.79</th>\n",
       "      <td>1.0</td>\n",
       "      <td>1.0</td>\n",
       "      <td>-71.677933</td>\n",
       "      <td>-141.007416</td>\n",
       "      <td>-2696.667969</td>\n",
       "      <td>-2573.676758</td>\n",
       "      <td>1542.874390</td>\n",
       "      <td>1545.442627</td>\n",
       "    </tr>\n",
       "    <tr>\n",
       "      <th>9.80</th>\n",
       "      <td>1.0</td>\n",
       "      <td>1.0</td>\n",
       "      <td>-72.934647</td>\n",
       "      <td>-140.882385</td>\n",
       "      <td>-2697.645264</td>\n",
       "      <td>-2574.077148</td>\n",
       "      <td>1542.781372</td>\n",
       "      <td>1545.515137</td>\n",
       "    </tr>\n",
       "  </tbody>\n",
       "</table>\n",
       "<p>981 rows × 8 columns</p>\n",
       "</div>"
      ],
      "text/plain": [
       "      ones_LFHD  ones_RFHD     x_LFHD      x_RFHD       y_LFHD       y_RFHD  \\\n",
       "time                                                                          \n",
       "0.00        1.0        1.0 -45.353775 -187.919693  2176.733154  2167.717773   \n",
       "0.01        1.0        1.0 -45.363224 -187.928894  2176.910400  2167.882324   \n",
       "0.02        1.0        1.0 -45.373493 -187.939102  2177.087646  2168.051270   \n",
       "0.03        1.0        1.0 -45.384571 -187.950333  2177.265137  2168.224365   \n",
       "0.04        1.0        1.0 -45.396469 -187.962555  2177.442627  2168.401855   \n",
       "...         ...        ...        ...         ...          ...          ...   \n",
       "9.76        1.0        1.0 -68.102509 -141.728165 -2693.305908 -2572.364746   \n",
       "9.77        1.0        1.0 -69.261848 -141.430359 -2694.498291 -2572.820557   \n",
       "9.78        1.0        1.0 -70.453659 -141.190079 -2695.618896 -2573.258057   \n",
       "9.79        1.0        1.0 -71.677933 -141.007416 -2696.667969 -2573.676758   \n",
       "9.80        1.0        1.0 -72.934647 -140.882385 -2697.645264 -2574.077148   \n",
       "\n",
       "           z_LFHD       z_RFHD  \n",
       "time                            \n",
       "0.00  1511.754395  1522.853760  \n",
       "0.01  1511.799927  1522.909912  \n",
       "0.02  1511.844604  1522.962891  \n",
       "0.03  1511.888550  1523.012573  \n",
       "0.04  1511.931763  1523.059082  \n",
       "...           ...          ...  \n",
       "9.76  1543.184692  1545.306152  \n",
       "9.77  1543.076050  1545.338135  \n",
       "9.78  1542.972656  1545.383667  \n",
       "9.79  1542.874390  1545.442627  \n",
       "9.80  1542.781372  1545.515137  \n",
       "\n",
       "[981 rows x 8 columns]"
      ]
     },
     "execution_count": 88,
     "metadata": {},
     "output_type": "execute_result"
    }
   ],
   "source": [
    "d"
   ]
  },
  {
   "cell_type": "code",
   "execution_count": 89,
   "metadata": {},
   "outputs": [],
   "source": [
    "start, stop =get_one_step_time(sample, 'Foot Strike', 'Right')"
   ]
  },
  {
   "cell_type": "code",
   "execution_count": 90,
   "metadata": {
    "scrolled": true
   },
   "outputs": [
    {
     "ename": "KeyError",
     "evalue": "\"['index'] not found in axis\"",
     "output_type": "error",
     "traceback": [
      "\u001b[1;31m---------------------------------------------------------------------------\u001b[0m",
      "\u001b[1;31mKeyError\u001b[0m                                  Traceback (most recent call last)",
      "\u001b[1;32m<ipython-input-90-4cf665487228>\u001b[0m in \u001b[0;36m<module>\u001b[1;34m\u001b[0m\n\u001b[1;32m----> 1\u001b[1;33m \u001b[0mres\u001b[0m \u001b[1;33m=\u001b[0m \u001b[0md\u001b[0m\u001b[1;33m[\u001b[0m\u001b[0mstart\u001b[0m\u001b[1;33m:\u001b[0m\u001b[0mstart\u001b[0m \u001b[1;33m+\u001b[0m \u001b[1;36m113\u001b[0m\u001b[1;33m]\u001b[0m\u001b[1;33m.\u001b[0m\u001b[0mreset_index\u001b[0m\u001b[1;33m(\u001b[0m\u001b[1;33m)\u001b[0m\u001b[1;33m.\u001b[0m\u001b[0mdrop\u001b[0m\u001b[1;33m(\u001b[0m\u001b[1;33m[\u001b[0m\u001b[1;34m'index'\u001b[0m\u001b[1;33m]\u001b[0m\u001b[1;33m,\u001b[0m \u001b[0maxis\u001b[0m\u001b[1;33m=\u001b[0m\u001b[1;36m1\u001b[0m\u001b[1;33m)\u001b[0m\u001b[1;33m\u001b[0m\u001b[1;33m\u001b[0m\u001b[0m\n\u001b[0m",
      "\u001b[1;32m~\\Anaconda3\\lib\\site-packages\\pandas\\core\\frame.py\u001b[0m in \u001b[0;36mdrop\u001b[1;34m(self, labels, axis, index, columns, level, inplace, errors)\u001b[0m\n\u001b[0;32m   4162\u001b[0m             \u001b[0mlevel\u001b[0m\u001b[1;33m=\u001b[0m\u001b[0mlevel\u001b[0m\u001b[1;33m,\u001b[0m\u001b[1;33m\u001b[0m\u001b[1;33m\u001b[0m\u001b[0m\n\u001b[0;32m   4163\u001b[0m             \u001b[0minplace\u001b[0m\u001b[1;33m=\u001b[0m\u001b[0minplace\u001b[0m\u001b[1;33m,\u001b[0m\u001b[1;33m\u001b[0m\u001b[1;33m\u001b[0m\u001b[0m\n\u001b[1;32m-> 4164\u001b[1;33m             \u001b[0merrors\u001b[0m\u001b[1;33m=\u001b[0m\u001b[0merrors\u001b[0m\u001b[1;33m,\u001b[0m\u001b[1;33m\u001b[0m\u001b[1;33m\u001b[0m\u001b[0m\n\u001b[0m\u001b[0;32m   4165\u001b[0m         )\n\u001b[0;32m   4166\u001b[0m \u001b[1;33m\u001b[0m\u001b[0m\n",
      "\u001b[1;32m~\\Anaconda3\\lib\\site-packages\\pandas\\core\\generic.py\u001b[0m in \u001b[0;36mdrop\u001b[1;34m(self, labels, axis, index, columns, level, inplace, errors)\u001b[0m\n\u001b[0;32m   3876\u001b[0m         \u001b[1;32mfor\u001b[0m \u001b[0maxis\u001b[0m\u001b[1;33m,\u001b[0m \u001b[0mlabels\u001b[0m \u001b[1;32min\u001b[0m \u001b[0maxes\u001b[0m\u001b[1;33m.\u001b[0m\u001b[0mitems\u001b[0m\u001b[1;33m(\u001b[0m\u001b[1;33m)\u001b[0m\u001b[1;33m:\u001b[0m\u001b[1;33m\u001b[0m\u001b[1;33m\u001b[0m\u001b[0m\n\u001b[0;32m   3877\u001b[0m             \u001b[1;32mif\u001b[0m \u001b[0mlabels\u001b[0m \u001b[1;32mis\u001b[0m \u001b[1;32mnot\u001b[0m \u001b[1;32mNone\u001b[0m\u001b[1;33m:\u001b[0m\u001b[1;33m\u001b[0m\u001b[1;33m\u001b[0m\u001b[0m\n\u001b[1;32m-> 3878\u001b[1;33m                 \u001b[0mobj\u001b[0m \u001b[1;33m=\u001b[0m \u001b[0mobj\u001b[0m\u001b[1;33m.\u001b[0m\u001b[0m_drop_axis\u001b[0m\u001b[1;33m(\u001b[0m\u001b[0mlabels\u001b[0m\u001b[1;33m,\u001b[0m \u001b[0maxis\u001b[0m\u001b[1;33m,\u001b[0m \u001b[0mlevel\u001b[0m\u001b[1;33m=\u001b[0m\u001b[0mlevel\u001b[0m\u001b[1;33m,\u001b[0m \u001b[0merrors\u001b[0m\u001b[1;33m=\u001b[0m\u001b[0merrors\u001b[0m\u001b[1;33m)\u001b[0m\u001b[1;33m\u001b[0m\u001b[1;33m\u001b[0m\u001b[0m\n\u001b[0m\u001b[0;32m   3879\u001b[0m \u001b[1;33m\u001b[0m\u001b[0m\n\u001b[0;32m   3880\u001b[0m         \u001b[1;32mif\u001b[0m \u001b[0minplace\u001b[0m\u001b[1;33m:\u001b[0m\u001b[1;33m\u001b[0m\u001b[1;33m\u001b[0m\u001b[0m\n",
      "\u001b[1;32m~\\Anaconda3\\lib\\site-packages\\pandas\\core\\generic.py\u001b[0m in \u001b[0;36m_drop_axis\u001b[1;34m(self, labels, axis, level, errors)\u001b[0m\n\u001b[0;32m   3910\u001b[0m                 \u001b[0mnew_axis\u001b[0m \u001b[1;33m=\u001b[0m \u001b[0maxis\u001b[0m\u001b[1;33m.\u001b[0m\u001b[0mdrop\u001b[0m\u001b[1;33m(\u001b[0m\u001b[0mlabels\u001b[0m\u001b[1;33m,\u001b[0m \u001b[0mlevel\u001b[0m\u001b[1;33m=\u001b[0m\u001b[0mlevel\u001b[0m\u001b[1;33m,\u001b[0m \u001b[0merrors\u001b[0m\u001b[1;33m=\u001b[0m\u001b[0merrors\u001b[0m\u001b[1;33m)\u001b[0m\u001b[1;33m\u001b[0m\u001b[1;33m\u001b[0m\u001b[0m\n\u001b[0;32m   3911\u001b[0m             \u001b[1;32melse\u001b[0m\u001b[1;33m:\u001b[0m\u001b[1;33m\u001b[0m\u001b[1;33m\u001b[0m\u001b[0m\n\u001b[1;32m-> 3912\u001b[1;33m                 \u001b[0mnew_axis\u001b[0m \u001b[1;33m=\u001b[0m \u001b[0maxis\u001b[0m\u001b[1;33m.\u001b[0m\u001b[0mdrop\u001b[0m\u001b[1;33m(\u001b[0m\u001b[0mlabels\u001b[0m\u001b[1;33m,\u001b[0m \u001b[0merrors\u001b[0m\u001b[1;33m=\u001b[0m\u001b[0merrors\u001b[0m\u001b[1;33m)\u001b[0m\u001b[1;33m\u001b[0m\u001b[1;33m\u001b[0m\u001b[0m\n\u001b[0m\u001b[0;32m   3913\u001b[0m             \u001b[0mresult\u001b[0m \u001b[1;33m=\u001b[0m \u001b[0mself\u001b[0m\u001b[1;33m.\u001b[0m\u001b[0mreindex\u001b[0m\u001b[1;33m(\u001b[0m\u001b[1;33m**\u001b[0m\u001b[1;33m{\u001b[0m\u001b[0maxis_name\u001b[0m\u001b[1;33m:\u001b[0m \u001b[0mnew_axis\u001b[0m\u001b[1;33m}\u001b[0m\u001b[1;33m)\u001b[0m\u001b[1;33m\u001b[0m\u001b[1;33m\u001b[0m\u001b[0m\n\u001b[0;32m   3914\u001b[0m \u001b[1;33m\u001b[0m\u001b[0m\n",
      "\u001b[1;32m~\\Anaconda3\\lib\\site-packages\\pandas\\core\\indexes\\base.py\u001b[0m in \u001b[0;36mdrop\u001b[1;34m(self, labels, errors)\u001b[0m\n\u001b[0;32m   5274\u001b[0m         \u001b[1;32mif\u001b[0m \u001b[0mmask\u001b[0m\u001b[1;33m.\u001b[0m\u001b[0many\u001b[0m\u001b[1;33m(\u001b[0m\u001b[1;33m)\u001b[0m\u001b[1;33m:\u001b[0m\u001b[1;33m\u001b[0m\u001b[1;33m\u001b[0m\u001b[0m\n\u001b[0;32m   5275\u001b[0m             \u001b[1;32mif\u001b[0m \u001b[0merrors\u001b[0m \u001b[1;33m!=\u001b[0m \u001b[1;34m\"ignore\"\u001b[0m\u001b[1;33m:\u001b[0m\u001b[1;33m\u001b[0m\u001b[1;33m\u001b[0m\u001b[0m\n\u001b[1;32m-> 5276\u001b[1;33m                 \u001b[1;32mraise\u001b[0m \u001b[0mKeyError\u001b[0m\u001b[1;33m(\u001b[0m\u001b[1;34mf\"{labels[mask]} not found in axis\"\u001b[0m\u001b[1;33m)\u001b[0m\u001b[1;33m\u001b[0m\u001b[1;33m\u001b[0m\u001b[0m\n\u001b[0m\u001b[0;32m   5277\u001b[0m             \u001b[0mindexer\u001b[0m \u001b[1;33m=\u001b[0m \u001b[0mindexer\u001b[0m\u001b[1;33m[\u001b[0m\u001b[1;33m~\u001b[0m\u001b[0mmask\u001b[0m\u001b[1;33m]\u001b[0m\u001b[1;33m\u001b[0m\u001b[1;33m\u001b[0m\u001b[0m\n\u001b[0;32m   5278\u001b[0m         \u001b[1;32mreturn\u001b[0m \u001b[0mself\u001b[0m\u001b[1;33m.\u001b[0m\u001b[0mdelete\u001b[0m\u001b[1;33m(\u001b[0m\u001b[0mindexer\u001b[0m\u001b[1;33m)\u001b[0m\u001b[1;33m\u001b[0m\u001b[1;33m\u001b[0m\u001b[0m\n",
      "\u001b[1;31mKeyError\u001b[0m: \"['index'] not found in axis\""
     ]
    }
   ],
   "source": [
    "res = d[start:start + 113].reset_index().drop(['index'], axis=1)"
   ]
  },
  {
   "cell_type": "code",
   "execution_count": 91,
   "metadata": {},
   "outputs": [],
   "source": [
    "def read_labels(data_path):\n",
    "    c3d_to_compare= c3d(data_path)\n",
    "    event = c3d_to_compare['parameters']['EVENT']['LABELS']['value']\n",
    "    time = np.around(c3d_to_compare['parameters']['EVENT']['TIMES']['value'][1]*1000)\n",
    "    \n",
    "    return [event, time]"
   ]
  },
  {
   "cell_type": "code",
   "execution_count": 92,
   "metadata": {},
   "outputs": [
    {
     "data": {
      "text/plain": [
       "[['Foot Strike',\n",
       "  'Foot Strike',\n",
       "  'Foot Strike',\n",
       "  'Foot Strike',\n",
       "  'Foot Strike',\n",
       "  'Foot Strike',\n",
       "  'Foot Strike',\n",
       "  'Foot Strike',\n",
       "  'Foot Strike',\n",
       "  'Foot Off',\n",
       "  'Foot Off',\n",
       "  'Foot Off',\n",
       "  'Foot Off',\n",
       "  'Foot Off',\n",
       "  'Foot Off',\n",
       "  'Foot Off',\n",
       "  'Foot Off',\n",
       "  'Foot Off',\n",
       "  'Foot Off'],\n",
       " 3650.0]"
      ]
     },
     "execution_count": 92,
     "metadata": {},
     "output_type": "execute_result"
    }
   ],
   "source": [
    "read_labels(path)"
   ]
  },
  {
   "cell_type": "code",
   "execution_count": 93,
   "metadata": {},
   "outputs": [],
   "source": [
    "def data_markers(data_path, marker_list):\n",
    "    \"\"\"\n",
    "    Funkcja wczytujaca markery z pliku i zwracajaca tablice z danymi\n",
    "    \"\"\"\n",
    "\n",
    "    \n",
    "    data_markers = Markers.from_c3d(data_path, marker_list)\n",
    "    data_markers = data_markers.meca.to_wide_dataframe()\n",
    "     \n",
    "        \n",
    "    cols = [c for c in data_markers.columns if c.lower()[:4] != 'ones']\n",
    "    markers_dataframe = data_markers[cols]\n",
    "    return markers_dataframe"
   ]
  },
  {
   "cell_type": "code",
   "execution_count": 94,
   "metadata": {},
   "outputs": [
    {
     "data": {
      "text/html": [
       "<div>\n",
       "<style scoped>\n",
       "    .dataframe tbody tr th:only-of-type {\n",
       "        vertical-align: middle;\n",
       "    }\n",
       "\n",
       "    .dataframe tbody tr th {\n",
       "        vertical-align: top;\n",
       "    }\n",
       "\n",
       "    .dataframe thead th {\n",
       "        text-align: right;\n",
       "    }\n",
       "</style>\n",
       "<table border=\"1\" class=\"dataframe\">\n",
       "  <thead>\n",
       "    <tr style=\"text-align: right;\">\n",
       "      <th></th>\n",
       "      <th>x_LFHD</th>\n",
       "      <th>x_RFHD</th>\n",
       "      <th>y_LFHD</th>\n",
       "      <th>y_RFHD</th>\n",
       "      <th>z_LFHD</th>\n",
       "      <th>z_RFHD</th>\n",
       "    </tr>\n",
       "    <tr>\n",
       "      <th>time</th>\n",
       "      <th></th>\n",
       "      <th></th>\n",
       "      <th></th>\n",
       "      <th></th>\n",
       "      <th></th>\n",
       "      <th></th>\n",
       "    </tr>\n",
       "  </thead>\n",
       "  <tbody>\n",
       "    <tr>\n",
       "      <th>0.00</th>\n",
       "      <td>-45.353775</td>\n",
       "      <td>-187.919693</td>\n",
       "      <td>2176.733154</td>\n",
       "      <td>2167.717773</td>\n",
       "      <td>1511.754395</td>\n",
       "      <td>1522.853760</td>\n",
       "    </tr>\n",
       "    <tr>\n",
       "      <th>0.01</th>\n",
       "      <td>-45.363224</td>\n",
       "      <td>-187.928894</td>\n",
       "      <td>2176.910400</td>\n",
       "      <td>2167.882324</td>\n",
       "      <td>1511.799927</td>\n",
       "      <td>1522.909912</td>\n",
       "    </tr>\n",
       "    <tr>\n",
       "      <th>0.02</th>\n",
       "      <td>-45.373493</td>\n",
       "      <td>-187.939102</td>\n",
       "      <td>2177.087646</td>\n",
       "      <td>2168.051270</td>\n",
       "      <td>1511.844604</td>\n",
       "      <td>1522.962891</td>\n",
       "    </tr>\n",
       "    <tr>\n",
       "      <th>0.03</th>\n",
       "      <td>-45.384571</td>\n",
       "      <td>-187.950333</td>\n",
       "      <td>2177.265137</td>\n",
       "      <td>2168.224365</td>\n",
       "      <td>1511.888550</td>\n",
       "      <td>1523.012573</td>\n",
       "    </tr>\n",
       "    <tr>\n",
       "      <th>0.04</th>\n",
       "      <td>-45.396469</td>\n",
       "      <td>-187.962555</td>\n",
       "      <td>2177.442627</td>\n",
       "      <td>2168.401855</td>\n",
       "      <td>1511.931763</td>\n",
       "      <td>1523.059082</td>\n",
       "    </tr>\n",
       "    <tr>\n",
       "      <th>...</th>\n",
       "      <td>...</td>\n",
       "      <td>...</td>\n",
       "      <td>...</td>\n",
       "      <td>...</td>\n",
       "      <td>...</td>\n",
       "      <td>...</td>\n",
       "    </tr>\n",
       "    <tr>\n",
       "      <th>9.76</th>\n",
       "      <td>-68.102509</td>\n",
       "      <td>-141.728165</td>\n",
       "      <td>-2693.305908</td>\n",
       "      <td>-2572.364746</td>\n",
       "      <td>1543.184692</td>\n",
       "      <td>1545.306152</td>\n",
       "    </tr>\n",
       "    <tr>\n",
       "      <th>9.77</th>\n",
       "      <td>-69.261848</td>\n",
       "      <td>-141.430359</td>\n",
       "      <td>-2694.498291</td>\n",
       "      <td>-2572.820557</td>\n",
       "      <td>1543.076050</td>\n",
       "      <td>1545.338135</td>\n",
       "    </tr>\n",
       "    <tr>\n",
       "      <th>9.78</th>\n",
       "      <td>-70.453659</td>\n",
       "      <td>-141.190079</td>\n",
       "      <td>-2695.618896</td>\n",
       "      <td>-2573.258057</td>\n",
       "      <td>1542.972656</td>\n",
       "      <td>1545.383667</td>\n",
       "    </tr>\n",
       "    <tr>\n",
       "      <th>9.79</th>\n",
       "      <td>-71.677933</td>\n",
       "      <td>-141.007416</td>\n",
       "      <td>-2696.667969</td>\n",
       "      <td>-2573.676758</td>\n",
       "      <td>1542.874390</td>\n",
       "      <td>1545.442627</td>\n",
       "    </tr>\n",
       "    <tr>\n",
       "      <th>9.80</th>\n",
       "      <td>-72.934647</td>\n",
       "      <td>-140.882385</td>\n",
       "      <td>-2697.645264</td>\n",
       "      <td>-2574.077148</td>\n",
       "      <td>1542.781372</td>\n",
       "      <td>1545.515137</td>\n",
       "    </tr>\n",
       "  </tbody>\n",
       "</table>\n",
       "<p>981 rows × 6 columns</p>\n",
       "</div>"
      ],
      "text/plain": [
       "         x_LFHD      x_RFHD       y_LFHD       y_RFHD       z_LFHD  \\\n",
       "time                                                                 \n",
       "0.00 -45.353775 -187.919693  2176.733154  2167.717773  1511.754395   \n",
       "0.01 -45.363224 -187.928894  2176.910400  2167.882324  1511.799927   \n",
       "0.02 -45.373493 -187.939102  2177.087646  2168.051270  1511.844604   \n",
       "0.03 -45.384571 -187.950333  2177.265137  2168.224365  1511.888550   \n",
       "0.04 -45.396469 -187.962555  2177.442627  2168.401855  1511.931763   \n",
       "...         ...         ...          ...          ...          ...   \n",
       "9.76 -68.102509 -141.728165 -2693.305908 -2572.364746  1543.184692   \n",
       "9.77 -69.261848 -141.430359 -2694.498291 -2572.820557  1543.076050   \n",
       "9.78 -70.453659 -141.190079 -2695.618896 -2573.258057  1542.972656   \n",
       "9.79 -71.677933 -141.007416 -2696.667969 -2573.676758  1542.874390   \n",
       "9.80 -72.934647 -140.882385 -2697.645264 -2574.077148  1542.781372   \n",
       "\n",
       "           z_RFHD  \n",
       "time               \n",
       "0.00  1522.853760  \n",
       "0.01  1522.909912  \n",
       "0.02  1522.962891  \n",
       "0.03  1523.012573  \n",
       "0.04  1523.059082  \n",
       "...           ...  \n",
       "9.76  1545.306152  \n",
       "9.77  1545.338135  \n",
       "9.78  1545.383667  \n",
       "9.79  1545.442627  \n",
       "9.80  1545.515137  \n",
       "\n",
       "[981 rows x 6 columns]"
      ]
     },
     "execution_count": 94,
     "metadata": {},
     "output_type": "execute_result"
    }
   ],
   "source": [
    "result = data_markers(path, ['LFHD','RFHD'])\n",
    "result"
   ]
  },
  {
   "cell_type": "code",
   "execution_count": 95,
   "metadata": {},
   "outputs": [],
   "source": [
    "start= start/100\n",
    "stop = stop/100"
   ]
  },
  {
   "cell_type": "code",
   "execution_count": 99,
   "metadata": {},
   "outputs": [
    {
     "data": {
      "text/plain": [
       "(1.46, 2.98)"
      ]
     },
     "execution_count": 99,
     "metadata": {},
     "output_type": "execute_result"
    }
   ],
   "source": [
    "start, stop"
   ]
  },
  {
   "cell_type": "code",
   "execution_count": 100,
   "metadata": {},
   "outputs": [],
   "source": [
    "\n",
    "res = result[start:start + 1.13].reset_index().drop(['time'], axis=1)"
   ]
  },
  {
   "cell_type": "code",
   "execution_count": 101,
   "metadata": {},
   "outputs": [
    {
     "data": {
      "text/html": [
       "<div>\n",
       "<style scoped>\n",
       "    .dataframe tbody tr th:only-of-type {\n",
       "        vertical-align: middle;\n",
       "    }\n",
       "\n",
       "    .dataframe tbody tr th {\n",
       "        vertical-align: top;\n",
       "    }\n",
       "\n",
       "    .dataframe thead th {\n",
       "        text-align: right;\n",
       "    }\n",
       "</style>\n",
       "<table border=\"1\" class=\"dataframe\">\n",
       "  <thead>\n",
       "    <tr style=\"text-align: right;\">\n",
       "      <th></th>\n",
       "      <th>x_LFHD</th>\n",
       "      <th>x_RFHD</th>\n",
       "      <th>y_LFHD</th>\n",
       "      <th>y_RFHD</th>\n",
       "      <th>z_LFHD</th>\n",
       "      <th>z_RFHD</th>\n",
       "    </tr>\n",
       "  </thead>\n",
       "  <tbody>\n",
       "    <tr>\n",
       "      <th>0</th>\n",
       "      <td>15.800202</td>\n",
       "      <td>-126.989876</td>\n",
       "      <td>2023.417358</td>\n",
       "      <td>2023.035278</td>\n",
       "      <td>1497.511108</td>\n",
       "      <td>1506.785522</td>\n",
       "    </tr>\n",
       "    <tr>\n",
       "      <th>1</th>\n",
       "      <td>14.887028</td>\n",
       "      <td>-127.905403</td>\n",
       "      <td>2018.893311</td>\n",
       "      <td>2018.175049</td>\n",
       "      <td>1497.349487</td>\n",
       "      <td>1506.576050</td>\n",
       "    </tr>\n",
       "    <tr>\n",
       "      <th>2</th>\n",
       "      <td>13.901535</td>\n",
       "      <td>-128.893295</td>\n",
       "      <td>2014.257812</td>\n",
       "      <td>2013.211060</td>\n",
       "      <td>1497.241821</td>\n",
       "      <td>1506.416504</td>\n",
       "    </tr>\n",
       "    <tr>\n",
       "      <th>3</th>\n",
       "      <td>12.848536</td>\n",
       "      <td>-129.948715</td>\n",
       "      <td>2009.508057</td>\n",
       "      <td>2008.142456</td>\n",
       "      <td>1497.190063</td>\n",
       "      <td>1506.309692</td>\n",
       "    </tr>\n",
       "    <tr>\n",
       "      <th>4</th>\n",
       "      <td>11.733487</td>\n",
       "      <td>-131.066116</td>\n",
       "      <td>2004.641968</td>\n",
       "      <td>2002.968872</td>\n",
       "      <td>1497.195557</td>\n",
       "      <td>1506.258301</td>\n",
       "    </tr>\n",
       "    <tr>\n",
       "      <th>...</th>\n",
       "      <td>...</td>\n",
       "      <td>...</td>\n",
       "      <td>...</td>\n",
       "      <td>...</td>\n",
       "      <td>...</td>\n",
       "      <td>...</td>\n",
       "    </tr>\n",
       "    <tr>\n",
       "      <th>109</th>\n",
       "      <td>-1.568620</td>\n",
       "      <td>-144.236572</td>\n",
       "      <td>1387.730713</td>\n",
       "      <td>1382.597900</td>\n",
       "      <td>1514.150757</td>\n",
       "      <td>1526.363403</td>\n",
       "    </tr>\n",
       "    <tr>\n",
       "      <th>110</th>\n",
       "      <td>-0.766825</td>\n",
       "      <td>-143.459076</td>\n",
       "      <td>1381.317871</td>\n",
       "      <td>1376.433960</td>\n",
       "      <td>1514.841309</td>\n",
       "      <td>1526.926514</td>\n",
       "    </tr>\n",
       "    <tr>\n",
       "      <th>111</th>\n",
       "      <td>0.002196</td>\n",
       "      <td>-142.713913</td>\n",
       "      <td>1374.935425</td>\n",
       "      <td>1370.309448</td>\n",
       "      <td>1515.513306</td>\n",
       "      <td>1527.472412</td>\n",
       "    </tr>\n",
       "    <tr>\n",
       "      <th>112</th>\n",
       "      <td>0.737760</td>\n",
       "      <td>-142.001617</td>\n",
       "      <td>1368.582642</td>\n",
       "      <td>1364.221924</td>\n",
       "      <td>1516.163818</td>\n",
       "      <td>1527.998047</td>\n",
       "    </tr>\n",
       "    <tr>\n",
       "      <th>113</th>\n",
       "      <td>1.439175</td>\n",
       "      <td>-141.322754</td>\n",
       "      <td>1362.258911</td>\n",
       "      <td>1358.168701</td>\n",
       "      <td>1516.789795</td>\n",
       "      <td>1528.500977</td>\n",
       "    </tr>\n",
       "  </tbody>\n",
       "</table>\n",
       "<p>114 rows × 6 columns</p>\n",
       "</div>"
      ],
      "text/plain": [
       "        x_LFHD      x_RFHD       y_LFHD       y_RFHD       z_LFHD       z_RFHD\n",
       "0    15.800202 -126.989876  2023.417358  2023.035278  1497.511108  1506.785522\n",
       "1    14.887028 -127.905403  2018.893311  2018.175049  1497.349487  1506.576050\n",
       "2    13.901535 -128.893295  2014.257812  2013.211060  1497.241821  1506.416504\n",
       "3    12.848536 -129.948715  2009.508057  2008.142456  1497.190063  1506.309692\n",
       "4    11.733487 -131.066116  2004.641968  2002.968872  1497.195557  1506.258301\n",
       "..         ...         ...          ...          ...          ...          ...\n",
       "109  -1.568620 -144.236572  1387.730713  1382.597900  1514.150757  1526.363403\n",
       "110  -0.766825 -143.459076  1381.317871  1376.433960  1514.841309  1526.926514\n",
       "111   0.002196 -142.713913  1374.935425  1370.309448  1515.513306  1527.472412\n",
       "112   0.737760 -142.001617  1368.582642  1364.221924  1516.163818  1527.998047\n",
       "113   1.439175 -141.322754  1362.258911  1358.168701  1516.789795  1528.500977\n",
       "\n",
       "[114 rows x 6 columns]"
      ]
     },
     "execution_count": 101,
     "metadata": {},
     "output_type": "execute_result"
    }
   ],
   "source": [
    "res"
   ]
  },
  {
   "cell_type": "code",
   "execution_count": 59,
   "metadata": {},
   "outputs": [
    {
     "name": "stdout",
     "output_type": "stream",
     "text": [
      "<class 'pandas.core.frame.DataFrame'>\n",
      "RangeIndex: 0 entries\n",
      "Data columns (total 6 columns):\n",
      " #   Column  Non-Null Count  Dtype  \n",
      "---  ------  --------------  -----  \n",
      " 0   x_LFHD  0 non-null      float64\n",
      " 1   x_RFHD  0 non-null      float64\n",
      " 2   y_LFHD  0 non-null      float64\n",
      " 3   y_RFHD  0 non-null      float64\n",
      " 4   z_LFHD  0 non-null      float64\n",
      " 5   z_RFHD  0 non-null      float64\n",
      "dtypes: float64(6)\n",
      "memory usage: 124.0 bytes\n"
     ]
    }
   ],
   "source": [
    "res.info()"
   ]
  },
  {
   "cell_type": "code",
   "execution_count": 1,
   "metadata": {},
   "outputs": [],
   "source": [
    "import glob\n",
    "from pyomeca import Markers\n",
    "from ezc3d import c3d\n",
    "import importlib\n",
    "import numpy as np\n",
    "import pandas as pd"
   ]
  },
  {
   "cell_type": "code",
   "execution_count": 2,
   "metadata": {},
   "outputs": [],
   "source": [
    "path = f'medical_dataset_AK'\n"
   ]
  },
  {
   "cell_type": "code",
   "execution_count": 3,
   "metadata": {},
   "outputs": [],
   "source": [
    "filelist =[]\n",
    "for file in glob.glob(f'{path}\\\\**\\\\*.c3d',recursive = True):\n",
    "    filelist.append(file)"
   ]
  },
  {
   "cell_type": "code",
   "execution_count": 4,
   "metadata": {},
   "outputs": [],
   "source": [
    "sample = c3d(filelist[1])\n",
    "# get_one_step_time(sample, 'Foot Strike', 'Right')\n",
    "    \n",
    "    "
   ]
  },
  {
   "cell_type": "code",
   "execution_count": 5,
   "metadata": {},
   "outputs": [
    {
     "data": {
      "text/plain": [
       "<ezc3d.c3d at 0x13647133bc8>"
      ]
     },
     "execution_count": 5,
     "metadata": {},
     "output_type": "execute_result"
    }
   ],
   "source": [
    "sample"
   ]
  },
  {
   "cell_type": "code",
   "execution_count": 9,
   "metadata": {},
   "outputs": [],
   "source": [
    "def read_labels(sample):\n",
    "    e_label = pd.DataFrame(sample['parameters']['EVENT']['LABELS']['value'])\n",
    "    e_contexts = pd.DataFrame(sample['parameters']['EVENT']['CONTEXTS']['value'])\n",
    "\n",
    "    times = (sample['parameters']['EVENT']['TIMES']['value'][1]*100).astype(int)\n",
    "    e_frames = pd.DataFrame([value * 100 for value in times if value != 0]).astype(int)\n",
    "\n",
    "    event = pd.concat([e_label, e_contexts, times], axis=1)\n",
    "    event.columns = ['label', 'context', 'frames']\n",
    "    event = event.set_index('frames')\n",
    "    event = event.sort_index(axis=0)\n",
    "\n",
    "    return event"
   ]
  },
  {
   "cell_type": "code",
   "execution_count": 10,
   "metadata": {},
   "outputs": [
    {
     "ename": "TypeError",
     "evalue": "cannot concatenate object of type '<class 'numpy.ndarray'>'; only Series and DataFrame objs are valid",
     "output_type": "error",
     "traceback": [
      "\u001b[1;31m---------------------------------------------------------------------------\u001b[0m",
      "\u001b[1;31mTypeError\u001b[0m                                 Traceback (most recent call last)",
      "\u001b[1;32m<ipython-input-10-daf49525c7a0>\u001b[0m in \u001b[0;36m<module>\u001b[1;34m\u001b[0m\n\u001b[0;32m      1\u001b[0m \u001b[0mtemp\u001b[0m \u001b[1;33m=\u001b[0m\u001b[1;33m[\u001b[0m\u001b[1;33m]\u001b[0m\u001b[1;33m\u001b[0m\u001b[1;33m\u001b[0m\u001b[0m\n\u001b[1;32m----> 2\u001b[1;33m \u001b[0mread_labels\u001b[0m\u001b[1;33m(\u001b[0m\u001b[0msample\u001b[0m\u001b[1;33m)\u001b[0m\u001b[1;33m\u001b[0m\u001b[1;33m\u001b[0m\u001b[0m\n\u001b[0m\u001b[0;32m      3\u001b[0m \u001b[0mstart\u001b[0m\u001b[1;33m,\u001b[0m \u001b[0mstop\u001b[0m \u001b[1;33m=\u001b[0m \u001b[0mget_one_step_time\u001b[0m\u001b[1;33m(\u001b[0m\u001b[0msample\u001b[0m\u001b[1;33m,\u001b[0m \u001b[1;34m'Foot Strike'\u001b[0m\u001b[1;33m,\u001b[0m \u001b[1;34m'Right'\u001b[0m\u001b[1;33m)\u001b[0m\u001b[1;33m\u001b[0m\u001b[1;33m\u001b[0m\u001b[0m\n\u001b[0;32m      4\u001b[0m \u001b[0mtemp\u001b[0m\u001b[1;33m.\u001b[0m\u001b[0mappend\u001b[0m\u001b[1;33m(\u001b[0m\u001b[0mstop\u001b[0m \u001b[1;33m-\u001b[0m \u001b[0mstart\u001b[0m\u001b[1;33m)\u001b[0m\u001b[1;33m\u001b[0m\u001b[1;33m\u001b[0m\u001b[0m\n",
      "\u001b[1;32m<ipython-input-9-fc28d9794961>\u001b[0m in \u001b[0;36mread_labels\u001b[1;34m(sample)\u001b[0m\n\u001b[0;32m      6\u001b[0m     \u001b[0me_frames\u001b[0m \u001b[1;33m=\u001b[0m \u001b[0mpd\u001b[0m\u001b[1;33m.\u001b[0m\u001b[0mDataFrame\u001b[0m\u001b[1;33m(\u001b[0m\u001b[1;33m[\u001b[0m\u001b[0mvalue\u001b[0m \u001b[1;33m*\u001b[0m \u001b[1;36m100\u001b[0m \u001b[1;32mfor\u001b[0m \u001b[0mvalue\u001b[0m \u001b[1;32min\u001b[0m \u001b[0mtimes\u001b[0m \u001b[1;32mif\u001b[0m \u001b[0mvalue\u001b[0m \u001b[1;33m!=\u001b[0m \u001b[1;36m0\u001b[0m\u001b[1;33m]\u001b[0m\u001b[1;33m)\u001b[0m\u001b[1;33m.\u001b[0m\u001b[0mastype\u001b[0m\u001b[1;33m(\u001b[0m\u001b[0mint\u001b[0m\u001b[1;33m)\u001b[0m\u001b[1;33m\u001b[0m\u001b[1;33m\u001b[0m\u001b[0m\n\u001b[0;32m      7\u001b[0m \u001b[1;33m\u001b[0m\u001b[0m\n\u001b[1;32m----> 8\u001b[1;33m     \u001b[0mevent\u001b[0m \u001b[1;33m=\u001b[0m \u001b[0mpd\u001b[0m\u001b[1;33m.\u001b[0m\u001b[0mconcat\u001b[0m\u001b[1;33m(\u001b[0m\u001b[1;33m[\u001b[0m\u001b[0me_label\u001b[0m\u001b[1;33m,\u001b[0m \u001b[0me_contexts\u001b[0m\u001b[1;33m,\u001b[0m \u001b[0mtimes\u001b[0m\u001b[1;33m]\u001b[0m\u001b[1;33m,\u001b[0m \u001b[0maxis\u001b[0m\u001b[1;33m=\u001b[0m\u001b[1;36m1\u001b[0m\u001b[1;33m)\u001b[0m\u001b[1;33m\u001b[0m\u001b[1;33m\u001b[0m\u001b[0m\n\u001b[0m\u001b[0;32m      9\u001b[0m     \u001b[0mevent\u001b[0m\u001b[1;33m.\u001b[0m\u001b[0mcolumns\u001b[0m \u001b[1;33m=\u001b[0m \u001b[1;33m[\u001b[0m\u001b[1;34m'label'\u001b[0m\u001b[1;33m,\u001b[0m \u001b[1;34m'context'\u001b[0m\u001b[1;33m,\u001b[0m \u001b[1;34m'frames'\u001b[0m\u001b[1;33m]\u001b[0m\u001b[1;33m\u001b[0m\u001b[1;33m\u001b[0m\u001b[0m\n\u001b[0;32m     10\u001b[0m     \u001b[0mevent\u001b[0m \u001b[1;33m=\u001b[0m \u001b[0mevent\u001b[0m\u001b[1;33m.\u001b[0m\u001b[0mset_index\u001b[0m\u001b[1;33m(\u001b[0m\u001b[1;34m'frames'\u001b[0m\u001b[1;33m)\u001b[0m\u001b[1;33m\u001b[0m\u001b[1;33m\u001b[0m\u001b[0m\n",
      "\u001b[1;32m~\\anaconda3\\lib\\site-packages\\pandas\\core\\reshape\\concat.py\u001b[0m in \u001b[0;36mconcat\u001b[1;34m(objs, axis, join, ignore_index, keys, levels, names, verify_integrity, sort, copy)\u001b[0m\n\u001b[0;32m    282\u001b[0m         \u001b[0mverify_integrity\u001b[0m\u001b[1;33m=\u001b[0m\u001b[0mverify_integrity\u001b[0m\u001b[1;33m,\u001b[0m\u001b[1;33m\u001b[0m\u001b[1;33m\u001b[0m\u001b[0m\n\u001b[0;32m    283\u001b[0m         \u001b[0mcopy\u001b[0m\u001b[1;33m=\u001b[0m\u001b[0mcopy\u001b[0m\u001b[1;33m,\u001b[0m\u001b[1;33m\u001b[0m\u001b[1;33m\u001b[0m\u001b[0m\n\u001b[1;32m--> 284\u001b[1;33m         \u001b[0msort\u001b[0m\u001b[1;33m=\u001b[0m\u001b[0msort\u001b[0m\u001b[1;33m,\u001b[0m\u001b[1;33m\u001b[0m\u001b[1;33m\u001b[0m\u001b[0m\n\u001b[0m\u001b[0;32m    285\u001b[0m     )\n\u001b[0;32m    286\u001b[0m \u001b[1;33m\u001b[0m\u001b[0m\n",
      "\u001b[1;32m~\\anaconda3\\lib\\site-packages\\pandas\\core\\reshape\\concat.py\u001b[0m in \u001b[0;36m__init__\u001b[1;34m(self, objs, axis, join, keys, levels, names, ignore_index, verify_integrity, copy, sort)\u001b[0m\n\u001b[0;32m    357\u001b[0m                     \u001b[1;34m\"only Series and DataFrame objs are valid\"\u001b[0m\u001b[1;33m\u001b[0m\u001b[1;33m\u001b[0m\u001b[0m\n\u001b[0;32m    358\u001b[0m                 )\n\u001b[1;32m--> 359\u001b[1;33m                 \u001b[1;32mraise\u001b[0m \u001b[0mTypeError\u001b[0m\u001b[1;33m(\u001b[0m\u001b[0mmsg\u001b[0m\u001b[1;33m)\u001b[0m\u001b[1;33m\u001b[0m\u001b[1;33m\u001b[0m\u001b[0m\n\u001b[0m\u001b[0;32m    360\u001b[0m \u001b[1;33m\u001b[0m\u001b[0m\n\u001b[0;32m    361\u001b[0m             \u001b[1;31m# consolidate\u001b[0m\u001b[1;33m\u001b[0m\u001b[1;33m\u001b[0m\u001b[1;33m\u001b[0m\u001b[0m\n",
      "\u001b[1;31mTypeError\u001b[0m: cannot concatenate object of type '<class 'numpy.ndarray'>'; only Series and DataFrame objs are valid"
     ]
    }
   ],
   "source": [
    "temp =[]\n",
    "read_labels(sample)\n",
    "start, stop = get_one_step_time(sample, 'Foot Strike', 'Right')\n",
    "temp.append(stop - start)"
   ]
  },
  {
   "cell_type": "code",
   "execution_count": 8,
   "metadata": {},
   "outputs": [
    {
     "ename": "NameError",
     "evalue": "name 'get_one_step_time' is not defined",
     "output_type": "error",
     "traceback": [
      "\u001b[1;31m---------------------------------------------------------------------------\u001b[0m",
      "\u001b[1;31mNameError\u001b[0m                                 Traceback (most recent call last)",
      "\u001b[1;32m<ipython-input-8-b6cd4d857562>\u001b[0m in \u001b[0;36m<module>\u001b[1;34m\u001b[0m\n\u001b[1;32m----> 1\u001b[1;33m \u001b[0mget_one_step_time\u001b[0m\u001b[1;33m(\u001b[0m\u001b[0msample\u001b[0m\u001b[1;33m,\u001b[0m \u001b[1;34m'Foot Strike'\u001b[0m\u001b[1;33m,\u001b[0m \u001b[1;34m'Right'\u001b[0m\u001b[1;33m)\u001b[0m\u001b[1;33m\u001b[0m\u001b[1;33m\u001b[0m\u001b[0m\n\u001b[0m",
      "\u001b[1;31mNameError\u001b[0m: name 'get_one_step_time' is not defined"
     ]
    }
   ],
   "source": [
    "get_one_step_time(sample, 'Foot Strike', 'Right')"
   ]
  },
  {
   "cell_type": "code",
   "execution_count": 200,
   "metadata": {
    "scrolled": true
   },
   "outputs": [
    {
     "name": "stdout",
     "output_type": "stream",
     "text": [
      "Avarange one step time 1.28\n"
     ]
    }
   ],
   "source": [
    "path = f'cut_one_gait_cycle_right'\n",
    "\n",
    "filelist =[]\n",
    "for file in glob.glob(f'{path}\\\\**\\\\*.c3d',recursive = True):\n",
    "    filelist.append(file)\n",
    "\n",
    "temp = []\n",
    "for f in filelist:\n",
    "    sample = c3d(f)\n",
    "    read_labels(sample)\n",
    "    start, stop = get_one_step_time(sample, 'Foot Strike', 'Right')\n",
    "    temp.append(stop - start)\n",
    "    \n",
    "print('Avarange one step time', round(np.average(temp)/100,2))"
   ]
  },
  {
   "cell_type": "code",
   "execution_count": 185,
   "metadata": {},
   "outputs": [
    {
     "data": {
      "text/plain": [
       "[152,\n",
       " 160,\n",
       " 136,\n",
       " 130,\n",
       " 130,\n",
       " 165,\n",
       " 159,\n",
       " 163,\n",
       " 107,\n",
       " 134,\n",
       " 166,\n",
       " 121,\n",
       " 117,\n",
       " 151,\n",
       " 115,\n",
       " 110,\n",
       " 115,\n",
       " 112,\n",
       " 130,\n",
       " 120,\n",
       " 152,\n",
       " 125,\n",
       " 110,\n",
       " 96,\n",
       " 110,\n",
       " 112,\n",
       " 110,\n",
       " 108,\n",
       " 106]"
      ]
     },
     "execution_count": 185,
     "metadata": {},
     "output_type": "execute_result"
    }
   ],
   "source": [
    "temp"
   ]
  },
  {
   "cell_type": "code",
   "execution_count": 186,
   "metadata": {},
   "outputs": [
    {
     "data": {
      "text/plain": [
       "128.3448275862069"
      ]
     },
     "execution_count": 186,
     "metadata": {},
     "output_type": "execute_result"
    }
   ],
   "source": [
    "np.average(temp)"
   ]
  },
  {
   "cell_type": "code",
   "execution_count": null,
   "metadata": {},
   "outputs": [],
   "source": []
  }
 ],
 "metadata": {
  "kernelspec": {
   "display_name": "Python 3",
   "language": "python",
   "name": "python3"
  },
  "language_info": {
   "codemirror_mode": {
    "name": "ipython",
    "version": 3
   },
   "file_extension": ".py",
   "mimetype": "text/x-python",
   "name": "python",
   "nbconvert_exporter": "python",
   "pygments_lexer": "ipython3",
   "version": "3.7.9"
  }
 },
 "nbformat": 4,
 "nbformat_minor": 4
}
