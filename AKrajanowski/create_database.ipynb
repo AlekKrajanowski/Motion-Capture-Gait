{
 "cells": [
  {
   "cell_type": "code",
   "execution_count": 1,
   "metadata": {},
   "outputs": [],
   "source": [
    "import btk\n",
    "from ezc3d import c3d\n",
    "import pandas as pd\n",
    "import numpy as np\n",
    "import glob"
   ]
  },
  {
   "cell_type": "code",
   "execution_count": 2,
   "metadata": {},
   "outputs": [],
   "source": [
    "def cropp_c3dfile(eventsFrame, filename, destiny, no):\n",
    "    reader = btk.btkAcquisitionFileReader()\n",
    "    reader.SetFilename(filename)\n",
    "    reader.Update()\n",
    "    acq = reader.GetOutput()\n",
    " \n",
    "    writer = btk.btkAcquisitionFileWriter()\n",
    "    \n",
    "    for i in range(0, len(eventsFrame)):\n",
    "        clone = acq.Clone();\n",
    "        clone.ResizeFrameNumberFromEnd(acq.GetLastFrame() - eventsFrame[i][0] + 1)\n",
    "        clone.ResizeFrameNumber(eventsFrame[i][1] - eventsFrame[i][0] + 1)\n",
    "        clone.SetFirstFrame(eventsFrame[i][0])\n",
    "        clone.ClearEvents()\n",
    "        for e in btk.Iterate(acq.GetEvents()):\n",
    "            if ((e.GetFrame() > clone.GetFirstFrame()) and (e.GetFrame() < clone.GetLastFrame())):\n",
    "                clone.AppendEvent(e)\n",
    "        clone.SetFirstFrame(1)\n",
    "        writer.SetInput(clone)\n",
    "        writer.SetFilename(destiny + '\\\\' + (filename.split('\\\\')[-1]).split('.')[0] + '_' + str(no) +'.c3d')\n",
    "        writer.Update()"
   ]
  },
  {
   "cell_type": "code",
   "execution_count": 3,
   "metadata": {},
   "outputs": [],
   "source": [
    "path = f'medical_dataset_AK'"
   ]
  },
  {
   "cell_type": "code",
   "execution_count": 4,
   "metadata": {},
   "outputs": [],
   "source": [
    "filelist =[]\n",
    "for file in glob.glob(f'{path}\\\\**\\\\*.c3d',recursive = True):\n",
    "    filelist.append(file)"
   ]
  },
  {
   "cell_type": "code",
   "execution_count": 5,
   "metadata": {},
   "outputs": [],
   "source": [
    "def read_labels(sample):\n",
    "    e_label = pd.DataFrame(sample['parameters']['EVENT']['LABELS']['value'])\n",
    "    e_contexts = pd.DataFrame(sample['parameters']['EVENT']['CONTEXTS']['value'])\n",
    "\n",
    "    times = sample['parameters']['EVENT']['TIMES']['value']\n",
    "    e_frames = pd.DataFrame(times[1] * 100).astype(int)\n",
    "\n",
    "    event = pd.concat([e_label, e_contexts, e_frames], axis=1)\n",
    "    event.columns = ['label', 'context', 'frames']\n",
    "    event = event.set_index('frames')\n",
    "    event = event.sort_index(axis=0)\n",
    "\n",
    "    return event"
   ]
  },
  {
   "cell_type": "markdown",
   "metadata": {},
   "source": [
    "<h1>One cycle method"
   ]
  },
  {
   "cell_type": "code",
   "execution_count": 6,
   "metadata": {},
   "outputs": [],
   "source": [
    "def get_one_step_time(sample, label, context, i):\n",
    "    df = read_labels(sample)\n",
    "    temp = [frame for frame in df.index if df['label'][frame] == label and df['context'][frame] == context]\n",
    "\n",
    "    return temp[i], temp[i+1]"
   ]
  },
  {
   "cell_type": "code",
   "execution_count": 7,
   "metadata": {},
   "outputs": [],
   "source": [
    "def save_cycle(file, site, path, i):\n",
    "    start, stop = get_one_step_time(sample, 'Foot Strike', site, i)\n",
    "    eventsFrame = [[int(start), int(stop)]]\n",
    "    cropp_c3dfile(eventsFrame, file, path, i)"
   ]
  },
  {
   "cell_type": "code",
   "execution_count": 8,
   "metadata": {},
   "outputs": [
    {
     "name": "stdout",
     "output_type": "stream",
     "text": [
      "Pliki z jednym lub dwoma cyklami chodu:\n",
      "medical_dataset_AK\\degeneration\\degeneration_03.c3d\n",
      "medical_dataset_AK\\degeneration\\degeneration_04.c3d\n",
      "medical_dataset_AK\\degeneration\\degeneration_04.c3d\n",
      "medical_dataset_AK\\degeneration\\degeneration_12.c3d\n",
      "medical_dataset_AK\\healthy\\healthy_02.c3d\n",
      "medical_dataset_AK\\healthy\\healthy_08.c3d\n",
      "medical_dataset_AK\\healthy\\healthy_09.c3d\n",
      "medical_dataset_AK\\healthy\\healthy_10.c3d\n",
      "medical_dataset_AK\\healthy\\healthy_10.c3d\n",
      "medical_dataset_AK\\healthy\\healthy_12.c3d\n",
      "medical_dataset_AK\\healthy\\healthy_13.c3d\n",
      "medical_dataset_AK\\healthy\\healthy_14.c3d\n",
      "medical_dataset_AK\\healthy\\healthy_15.c3d\n"
     ]
    }
   ],
   "source": [
    "print(\"Pliki z jednym lub dwoma cyklami chodu:\")\n",
    "for file in filelist:\n",
    "    sample = c3d(file)\n",
    "    i=0\n",
    "    while i < 3:\n",
    "        try:     \n",
    "            #First right step\n",
    "            save_cycle(file, 'Right', 'cut_one_gait_cycle_right', i)    \n",
    "            #First left step\n",
    "            save_cycle(file, 'Left', 'cut_one_gait_cycle_left', i)   \n",
    "        except:\n",
    "            print(file)\n",
    "        i+=1"
   ]
  },
  {
   "cell_type": "markdown",
   "metadata": {},
   "source": [
    "<h1>Two cycles method"
   ]
  },
  {
   "cell_type": "code",
   "execution_count": 6,
   "metadata": {},
   "outputs": [],
   "source": [
    "def get_one_step_time_two_cycles(sample, label, context):\n",
    "    df = read_labels(sample)\n",
    "    temp = [frame for frame in df.index if df['label'][frame] == label and df['context'][frame] == context]\n",
    "\n",
    "    return temp[0], temp[2]"
   ]
  },
  {
   "cell_type": "code",
   "execution_count": 7,
   "metadata": {},
   "outputs": [],
   "source": [
    "def save_two_cycles(file, site, path):\n",
    "    start, stop = get_one_step_time_two_cycles(sample, 'Foot Strike', site)\n",
    "    eventsFrame = [[int(start), int(stop)]]\n",
    "    cropp_c3dfile(eventsFrame, file, path, 0)"
   ]
  },
  {
   "cell_type": "code",
   "execution_count": 8,
   "metadata": {},
   "outputs": [
    {
     "name": "stdout",
     "output_type": "stream",
     "text": [
      "medical_dataset_AK\\degeneration\\degeneration_04.c3d\n",
      "medical_dataset_AK\\healthy\\healthy_10.c3d\n"
     ]
    }
   ],
   "source": [
    "for file in filelist:\n",
    "    sample = c3d(file)\n",
    "    try:    \n",
    "        #right\n",
    "        save_two_cycles(file, 'Right', 'cut_one_gait_two_cycle_right')          \n",
    "        #left\n",
    "        save_two_cycles(file, 'Left', 'cut_one_gait_two_cycle_left')         \n",
    "    except:\n",
    "        print(file)"
   ]
  },
  {
   "cell_type": "markdown",
   "metadata": {},
   "source": [
    "<h2>Avg"
   ]
  },
  {
   "cell_type": "code",
   "execution_count": 9,
   "metadata": {},
   "outputs": [],
   "source": [
    "# avg = 132\n",
    "avg = 276"
   ]
  },
  {
   "cell_type": "code",
   "execution_count": 10,
   "metadata": {},
   "outputs": [],
   "source": [
    "marker_list = ['LANK', 'RANK', 'LKNE', 'RKNE', 'LFIN', 'RFIN', 'LSHO', 'RSHO', 'LASI', 'RFHD','RWRA','RHEE','LHEE','CentreOfMass']"
   ]
  },
  {
   "cell_type": "code",
   "execution_count": 11,
   "metadata": {},
   "outputs": [],
   "source": [
    "# path_r = f'cut_one_gait_cycle_right'\n",
    "# path_l = f'cut_one_gait_cycle_left'\n",
    "path_r = f'cut_one_gait_two_cycle_right'\n",
    "path_l = f'cut_one_gait_two_cycle_left'\n",
    "\n",
    "filelist_r =[]\n",
    "filelist_l =[]\n",
    "\n",
    "for file in glob.glob(f'{path_r}\\\\*.c3d',recursive = True):\n",
    "    filelist_r.append(file)\n",
    "    \n",
    "for file in glob.glob(f'{path_l}\\\\*.c3d',recursive = True):\n",
    "    filelist_l.append(file)"
   ]
  },
  {
   "cell_type": "code",
   "execution_count": 12,
   "metadata": {},
   "outputs": [
    {
     "data": {
      "text/plain": [
       "'cut_one_gait_two_cycle_right\\\\degeneration_01_0.c3d'"
      ]
     },
     "execution_count": 12,
     "metadata": {},
     "output_type": "execute_result"
    }
   ],
   "source": [
    "filelist_r[0]"
   ]
  },
  {
   "cell_type": "code",
   "execution_count": 13,
   "metadata": {},
   "outputs": [],
   "source": [
    "from pyomeca import Markers"
   ]
  },
  {
   "cell_type": "code",
   "execution_count": 14,
   "metadata": {},
   "outputs": [],
   "source": [
    "def data_markers(data_path, marker_list, avg):\n",
    "    data_markers = Markers.from_c3d(data_path, usecols=[marker_list[0]])\n",
    "    data_markers = data_markers.meca.time_normalize(n_frames=avg)\n",
    "    data_markers = data_markers.meca.to_wide_dataframe()\n",
    "    for i in range(len(marker_list)-1):\n",
    "        \n",
    "        tmp_markers = Markers.from_c3d(data_path, usecols=[marker_list[i+1]])\n",
    "        tmp_markers = tmp_markers.meca.time_normalize(n_frames=avg)  \n",
    "        tmp_markers = tmp_markers.meca.to_wide_dataframe()\n",
    "        data_markers = data_markers.join(tmp_markers)\n",
    "\n",
    "        \n",
    "    cols = [c for c in data_markers.columns if c.lower()[:4] != 'ones']\n",
    "    markers_dataframe = data_markers[cols]\n",
    "    \n",
    "    return markers_dataframe"
   ]
  },
  {
   "cell_type": "code",
   "execution_count": 15,
   "metadata": {},
   "outputs": [
    {
     "data": {
      "text/plain": [
       "array([81.748909  , 81.64160692, 81.46849196, 81.22000752, 80.88693634,\n",
       "       80.46071222, 79.93371088, 79.29958632, 78.55354961, 77.69258229,\n",
       "       76.71557811, 75.62338531, 74.41874675, 73.1061772 , 71.69180403,\n",
       "       70.18314889, 68.58891283, 66.91881173, 65.1833634 , 63.39374509,\n",
       "       61.56166812, 59.69923444, 57.8186441 , 55.93359694, 54.05682908,\n",
       "       52.20083826, 50.37780093, 48.59931172, 46.87606438, 45.21754008,\n",
       "       43.63167295, 42.1245831 , 40.70036725, 39.36100082, 38.10633003,\n",
       "       36.93419668, 35.84070593, 34.82056979, 33.86753854, 32.97486908,\n",
       "       32.13577492, 31.34387307, 30.59350237, 29.88098079, 29.2020018 ,\n",
       "       28.55370442, 27.93463348, 27.3440254 , 26.78154576, 26.24704598,\n",
       "       25.74035436, 25.26113695, 24.8088237 , 24.38260606, 23.98148768,\n",
       "       23.6043705 , 23.25015698, 22.9178428 , 22.60659846, 22.31581289,\n",
       "       22.04511552, 21.79441501, 21.5639973 , 21.3546599 , 21.16844661,\n",
       "       21.00774623, 20.87540024, 20.77564846, 20.71365884, 20.6954425 ,\n",
       "       20.72772466, 20.81778623, 20.9732895 , 21.2020857 , 21.51201438,\n",
       "       21.91068476, 22.40524144, 23.00210457, 23.70670411, 24.52319665,\n",
       "       25.4541704 , 26.50035432, 27.66032474, 28.93026171, 30.30374848,\n",
       "       31.77303266, 33.3262801 , 34.94633642, 36.61635468, 38.31783499,\n",
       "       40.03129266, 41.73709412, 43.41633107, 45.05174329, 46.62852094,\n",
       "       48.13492605, 49.56266875, 50.90702942, 52.16670557, 53.34341614,\n",
       "       54.44130776, 55.46621411, 56.42488391, 57.32421162, 58.17061082,\n",
       "       58.96952334, 59.72473515, 60.43823546, 61.11293956, 61.74935708,\n",
       "       62.34734192, 62.90642811, 63.42611277, 63.90610647, 64.34648202,\n",
       "       64.74774933, 65.11086939, 65.43723597, 65.72859322, 65.98697468,\n",
       "       66.21463984, 66.41401123, 66.58762729, 66.73811379, 66.86813873,\n",
       "       66.98039038, 67.07748757, 67.16191661, 67.23564614, 67.30101954,\n",
       "       67.35934851, 67.41124107, 67.45639771, 67.49341833, 67.51960496,\n",
       "       67.53080944, 67.52134638, 67.48399184, 67.41011577, 67.28990481,\n",
       "       67.11266882, 66.86726171, 66.54254259, 66.12784515, 65.61350772,\n",
       "       64.99131525, 64.25492054, 63.40017672, 62.4253593 , 61.32668336,\n",
       "       60.11224504, 58.78855755, 57.3639193 , 55.84849627, 54.25396271,\n",
       "       52.59310081, 50.87943243, 49.12686063, 47.34933449, 45.56054216,\n",
       "       43.77358579, 42.00064911, 40.25269519, 38.53922248, 36.86812357,\n",
       "       35.24566879, 33.6765783 , 32.16423241, 30.71091553, 29.31810192,\n",
       "       27.98880535, 26.72222731, 25.51811626, 24.37657987, 23.29735021,\n",
       "       22.27959494, 21.32171364, 20.42118461, 19.57449514, 18.77719527,\n",
       "       18.02406963, 17.30940337, 16.627298  , 15.97200704, 15.33825305,\n",
       "       14.72150723, 14.11823192, 13.52604767, 12.94380809, 12.37157629,\n",
       "       11.81053273, 11.26324953, 10.73271643, 10.22227105,  9.73585428,\n",
       "        9.2776333 ,  8.85186562,  8.46277892,  8.11447332,  7.81082694,\n",
       "        7.55543184,  7.35156568,  7.20220186,  7.11005845,  7.07767462,\n",
       "        7.10751393,  7.20208866,  7.36409904,  7.59658547,  7.90307779,\n",
       "        8.28771827,  8.75532168,  9.31319852,  9.96786196, 10.72307048,\n",
       "       11.58400463, 12.55448423, 13.63620825, 14.82802656, 16.12532261,\n",
       "       17.51963425, 18.99857895, 20.54613677, 22.14329052, 23.76897694,\n",
       "       25.40125465, 27.01854971, 28.60085494, 30.1307512 , 31.5941626 ,\n",
       "       32.98079435, 34.28422791, 35.5017496 , 36.63284478, 37.67975754,\n",
       "       38.65064233, 39.55249172, 40.39312005, 41.18066087, 41.92314883,\n",
       "       42.62818042, 43.30263759, 43.95246948, 44.58250988, 45.19636289,\n",
       "       45.79634469, 46.38350801, 46.95777179, 47.51813155, 48.06293346,\n",
       "       48.59022453, 49.09811338, 49.58515533, 50.05073029, 50.495168  ,\n",
       "       50.91968904, 51.32797434, 51.72381285, 52.11143048, 52.49496407,\n",
       "       52.87785381, 53.26227434, 53.64864272, 54.03522627, 54.4178949 ,\n",
       "       54.78999953, 55.14241419, 55.46372958, 55.7405633 , 55.95798634,\n",
       "       56.10004938, 56.15041063, 56.09299935, 55.91271891, 55.59620723,\n",
       "       55.13251495])"
      ]
     },
     "execution_count": 15,
     "metadata": {},
     "output_type": "execute_result"
    }
   ],
   "source": [
    "dm = data_markers(filelist_r[0], marker_list,avg)\n",
    "dat = np.array(dm['x_LASI'])\n",
    "dat"
   ]
  },
  {
   "cell_type": "code",
   "execution_count": 16,
   "metadata": {},
   "outputs": [],
   "source": [
    "def load_group(filenames):\n",
    "    \n",
    "    loaded = []\n",
    "    \n",
    "    for file in filenames:\n",
    "        try:\n",
    "            result = data_markers(file, marker_list,avg)\n",
    "            loaded.append(result)\n",
    "        except:\n",
    "            print(file)\n",
    "\n",
    "    return loaded"
   ]
  },
  {
   "cell_type": "code",
   "execution_count": 17,
   "metadata": {},
   "outputs": [
    {
     "name": "stdout",
     "output_type": "stream",
     "text": [
      "medical_dataset_AK\\degeneration\\degeneration_09.c3d\n"
     ]
    }
   ],
   "source": [
    "group = load_group(filelist)"
   ]
  },
  {
   "cell_type": "code",
   "execution_count": 18,
   "metadata": {},
   "outputs": [
    {
     "data": {
      "text/plain": [
       "(29, 132, 42)"
      ]
     },
     "execution_count": 18,
     "metadata": {},
     "output_type": "execute_result"
    }
   ],
   "source": [
    "x = np.stack(group)\n",
    "x.shape"
   ]
  },
  {
   "cell_type": "code",
   "execution_count": 19,
   "metadata": {},
   "outputs": [
    {
     "name": "stdout",
     "output_type": "stream",
     "text": [
      "(samples, timesteps, features) ->  (29, 132, 42)\n"
     ]
    }
   ],
   "source": [
    "print('(samples, timesteps, features) -> ', x.shape)"
   ]
  },
  {
   "cell_type": "code",
   "execution_count": 16,
   "metadata": {},
   "outputs": [],
   "source": [
    "import h5py"
   ]
  },
  {
   "cell_type": "code",
   "execution_count": 17,
   "metadata": {},
   "outputs": [],
   "source": [
    "def create_h5_basic(path, x):\n",
    "    f = h5py.File(path, mode='w')\n",
    "    f.create_dataset(\"x\", data=x)\n",
    "    f.close()"
   ]
  },
  {
   "cell_type": "code",
   "execution_count": 18,
   "metadata": {},
   "outputs": [],
   "source": [
    "def create_h5(path, right, left):\n",
    "    f = h5py.File(path, mode='w')\n",
    "    f.create_dataset(\"right\", data=right)\n",
    "    f.create_dataset(\"left\", data=left)\n",
    "    f.close()"
   ]
  },
  {
   "cell_type": "markdown",
   "metadata": {},
   "source": [
    "# JRD"
   ]
  },
  {
   "cell_type": "code",
   "execution_count": 19,
   "metadata": {},
   "outputs": [],
   "source": [
    "import math"
   ]
  },
  {
   "cell_type": "code",
   "execution_count": 20,
   "metadata": {},
   "outputs": [],
   "source": [
    "import numpy as np\n",
    "\n",
    "def jrd_method(markers):\n",
    "    \n",
    "    #arrays with data\n",
    "    x_lank = np.array(markers['x_LANK'])\n",
    "    y_lank = np.array(markers['y_LANK'])\n",
    "    z_lank = np.array(markers['z_LANK'])\n",
    "    \n",
    "    x_rank = np.array(markers['x_RANK'])\n",
    "    y_rank = np.array(markers['y_RANK'])\n",
    "    z_rank = np.array(markers['z_RANK'])\n",
    "\n",
    "    #auxiliary tables\n",
    "    arr_distance_jrd = []\n",
    "    arr_left = []\n",
    "    arr_right = []\n",
    "    time = []\n",
    "    i = 0\n",
    "    x_2 = 0\n",
    "    y_2 = 0\n",
    "    z_2 = 0\n",
    "\n",
    "    while i < avg:\n",
    "    \n",
    "        x_2 = (x_lank[i] - x_rank[i]) ** 2\n",
    "        y_2 = (y_lank[i] - y_rank[i]) ** 2\n",
    "        z_2 = (z_lank[i] - z_rank[i]) ** 2\n",
    "        distance = math.sqrt(x_2+y_2+z_2)\n",
    "        \n",
    "        time.append(i)\n",
    "        arr_left.append(z_lank[i])\n",
    "        arr_right.append(z_rank[i])\n",
    "        arr_distance_jrd.append(distance)\n",
    "    \n",
    "        i += 1\n",
    "        \n",
    "    return arr_distance_jrd"
   ]
  },
  {
   "cell_type": "markdown",
   "metadata": {},
   "source": [
    "# JRA"
   ]
  },
  {
   "cell_type": "code",
   "execution_count": 21,
   "metadata": {},
   "outputs": [],
   "source": [
    "import numpy as np\n",
    "\n",
    "def jra_method(markers):\n",
    "    \n",
    "    #arrays with data\n",
    "    x_lasi = np.array(markers['x_LASI'])\n",
    "    y_lasi = np.array(markers['y_LASI'])\n",
    "    z_lasi = np.array(markers['z_LASI'])\n",
    "    \n",
    "    x_lkne = np.array(markers['x_LKNE'])\n",
    "    y_lkne = np.array(markers['y_LKNE'])\n",
    "    z_lkne = np.array(markers['z_LKNE'])\n",
    "    \n",
    "    x_lank = np.array(markers['x_LANK'])\n",
    "    y_lank = np.array(markers['y_LANK'])\n",
    "    z_lank = np.array(markers['z_LANK'])\n",
    "    \n",
    "    #auxiliary tables\n",
    "    first_dist = []\n",
    "    second_dist = []\n",
    "    distance = []\n",
    "    angle = []\n",
    "    time = []\n",
    "    \n",
    "    i = 0\n",
    "    xl = yl = zl = 0\n",
    "    xl_1 = yl_1 = zl_1 = 0\n",
    "\n",
    "    while i < avg:\n",
    "        \n",
    "        xl = (x_lasi[i] - x_lkne[i])\n",
    "        yl = (y_lasi[i] - y_lkne[i])\n",
    "        zl = (z_lasi[i] - z_lkne[i])\n",
    "        \n",
    "        xl_1 = (x_lkne[i] - x_lank[i])\n",
    "        yl_1 = (y_lkne[i] - y_lank[i])\n",
    "        zl_1 = (z_lkne[i] - z_lank[i])\n",
    "        \n",
    "        time.append(i)\n",
    "    \n",
    "        first_dist.append(math.sqrt((xl ** 2) + (yl ** 2) + (zl ** 2)))\n",
    "        second_dist.append(math.sqrt((xl_1 ** 2) + (yl_1 ** 2) + (zl_1 ** 2)))                   \n",
    "        distance.append(xl * xl_1 + yl * yl_1 + zl * zl_1)\n",
    "    \n",
    "        angle.append(math.acos(distance[i] / (first_dist[i] * second_dist[i])))\n",
    "        \n",
    "        i += 1\n",
    "        \n",
    "    return angle"
   ]
  },
  {
   "cell_type": "markdown",
   "metadata": {},
   "source": [
    "# HDF"
   ]
  },
  {
   "cell_type": "code",
   "execution_count": 22,
   "metadata": {},
   "outputs": [],
   "source": [
    "import numpy as np\n",
    "\n",
    "from scipy.stats import skew \n",
    "def hdf_method(markers):\n",
    "\n",
    "    #arrays with data\n",
    "    x_lank = np.array(markers['x_LANK'])\n",
    "    x_rank = np.array(markers['x_RANK'])\n",
    "    x_lkne = np.array(markers['x_LKNE'])\n",
    "    x_rkne = np.array(markers['x_RKNE'])\n",
    "    x_lfin = np.array(markers['x_LFIN'])\n",
    "    x_rfin = np.array(markers['x_RFIN'])\n",
    "    x_lsho = np.array(markers['x_LSHO'])\n",
    "    x_rsho = np.array(markers['x_RSHO'])\n",
    "    \n",
    "    #auxiliaty tables\n",
    "    #hd1 ankles\n",
    "    hd1 = []\n",
    "    hd1_x = 0\n",
    "    #hd2 knees\n",
    "    hd2 = []\n",
    "    hd2_x = 0\n",
    "    #hd3 wrists\n",
    "    hd3 = []\n",
    "    hd3_x = 0\n",
    "    #hd4 shoulders\n",
    "    hd4 = []\n",
    "    hd4_x = 0\n",
    "    \n",
    "    #variables\n",
    "    meanH = []\n",
    "    stdH = []\n",
    "    skewH = []\n",
    "    HDF = [] \n",
    "    hdf = []\n",
    "    time = []\n",
    "    i = 0\n",
    "    \n",
    "    while i < avg:\n",
    "    \n",
    "        hd1_x = (x_lank[i] - x_rank[i]) ** 2\n",
    "        hd1.append(math.sqrt(hd1_x))\n",
    "        \n",
    "        hd2_x = (x_lkne[i] - x_rkne[i]) ** 2\n",
    "        hd2.append(math.sqrt(hd2_x))\n",
    "        \n",
    "        hd3_x = (x_lfin[i] - x_rfin[i]) ** 2\n",
    "        hd3.append(math.sqrt(hd3_x))\n",
    "        \n",
    "        hd4_x = (x_lsho[i] - x_rsho[i]) ** 2\n",
    "        hd4.append(math.sqrt(hd4_x))\n",
    "        \n",
    "        time.append(i)\n",
    "        hdf = [hd1[i], hd2[i], hd3[i], hd4[i]]\n",
    "        \n",
    "        meanH.append(np.mean(hdf))\n",
    "        stdH.append(np.std(hdf))\n",
    "        skewH.append(skew(hdf))        \n",
    "        HDF.append([meanH, stdH, skewH])\n",
    "        \n",
    "        i += 1\n",
    "        \n",
    "    return HDF[0][0], HDF[0][1], HDF[0][2]"
   ]
  },
  {
   "cell_type": "markdown",
   "metadata": {},
   "source": [
    "# VDF"
   ]
  },
  {
   "cell_type": "code",
   "execution_count": 23,
   "metadata": {},
   "outputs": [],
   "source": [
    "import numpy as np\n",
    "\n",
    "def vdf_method(markers):\n",
    "    \n",
    "    #arrays with data\n",
    "    y_rfhd = np.array(markers['y_RFHD'])\n",
    "    y_rwra = np.array(markers['y_RWRA'])\n",
    "    y_rsho = np.array(markers['y_RSHO'])\n",
    "    y_rank = np.array(markers['y_RANK'])\n",
    "    y_lank = np.array(markers['y_LANK'])\n",
    "    y_rhee = np.array(markers['y_RHEE'])\n",
    "    y_lhee = np.array(markers['y_LHEE'])\n",
    "    y_centreOfMass = np.array(markers['y_CentreOfMass'])\n",
    "    \n",
    "    #auxiliary tables\n",
    "    #vd1 HEIGHT\n",
    "    vd1 = []\n",
    "    vd1_y = 0\n",
    "    #vd2 WRIST RIGHT\n",
    "    vd2 = []\n",
    "    vd2_y = 0\n",
    "    #vd3 SHOULDER RIGHT\n",
    "    vd3 = []\n",
    "    vd3_y = 0\n",
    "    #vd4 ANKLE RIGHT\n",
    "    vd4 = []\n",
    "    vd4_y = 0\n",
    "    #vd5 ANKLE LEFT\n",
    "    vd5 = []\n",
    "    vd5_y = 0\n",
    "    #vd6 DIST. FEET LEFT AND RIGHT\n",
    "    vd6 = []\n",
    "    vd6_y = 0\n",
    "    \n",
    "    #variables\n",
    "    meanV = []\n",
    "    stdV = []\n",
    "    VDF = [] \n",
    "    vdf = []\n",
    "    time = []\n",
    "    average = []\n",
    "    i = 0\n",
    "    \n",
    "    while i < avg:\n",
    "    \n",
    "        vd1_y = np.array(y_rfhd[i])\n",
    "        vd1.append(vd1_y)\n",
    "        \n",
    "        vd2_y = np.array(y_rwra[i])\n",
    "        vd2.append(vd2_y)\n",
    "        \n",
    "        vd3_y = np.array(y_rsho[i])\n",
    "        vd3.append(vd3_y)\n",
    "        \n",
    "        vd4_y = np.array(y_rank[i])\n",
    "        vd4.append(vd4_y)\n",
    "        \n",
    "        vd5_y = np.array(y_lank[i])\n",
    "        vd5.append(vd5_y)\n",
    "        \n",
    "        vd6_y = np.array((0.5 * (y_rhee[i] - y_lhee[i]) * y_centreOfMass[i]))\n",
    "        vd6.append(vd6_y)\n",
    "        \n",
    "        time.append(i)\n",
    "        \n",
    "        average = (vd1_y + vd2_y + vd3_y + vd4_y + vd5_y + vd6_y)\n",
    "        vdf = [vd1[i], vd2[i], vd3[i], vd4[i], vd5[i], vd6[i]]\n",
    "        \n",
    "        meanV.append(np.mean(average))\n",
    "        stdV.append(np.std(vdf))\n",
    "        VDF.append([meanV, stdV])\n",
    "        \n",
    "        i += 1\n",
    "        \n",
    "    return VDF[0][0], VDF[0][1]"
   ]
  },
  {
   "cell_type": "markdown",
   "metadata": {},
   "source": [
    "# approach"
   ]
  },
  {
   "cell_type": "code",
   "execution_count": 24,
   "metadata": {},
   "outputs": [],
   "source": [
    "from pyomeca import Markers"
   ]
  },
  {
   "cell_type": "code",
   "execution_count": 25,
   "metadata": {},
   "outputs": [],
   "source": [
    "def data_features(data_path,avg):\n",
    "    marker_list = ['LANK', 'RANK', 'LKNE', 'RKNE', 'LFIN', 'RFIN', 'LSHO', 'RSHO', 'LASI', 'RFHD','RWRA','RHEE','LHEE','CentreOfMass']\n",
    "    markers = data_markers(data_path, marker_list, avg)\n",
    "    jrd = jrd_method(markers)\n",
    "    jra = jra_method(markers)\n",
    "    meanH, stdH, skewH = hdf_method(markers)\n",
    "    meanV, stdV = vdf_method(markers)\n",
    "    \n",
    "    result = [jrd, jra, meanH, stdH, skewH, meanV, stdV]\n",
    "    \n",
    "    return pd.DataFrame(result).T"
   ]
  },
  {
   "cell_type": "code",
   "execution_count": 26,
   "metadata": {},
   "outputs": [
    {
     "data": {
      "text/html": [
       "<div>\n",
       "<style scoped>\n",
       "    .dataframe tbody tr th:only-of-type {\n",
       "        vertical-align: middle;\n",
       "    }\n",
       "\n",
       "    .dataframe tbody tr th {\n",
       "        vertical-align: top;\n",
       "    }\n",
       "\n",
       "    .dataframe thead th {\n",
       "        text-align: right;\n",
       "    }\n",
       "</style>\n",
       "<table border=\"1\" class=\"dataframe\">\n",
       "  <thead>\n",
       "    <tr style=\"text-align: right;\">\n",
       "      <th></th>\n",
       "      <th>0</th>\n",
       "      <th>1</th>\n",
       "      <th>2</th>\n",
       "      <th>3</th>\n",
       "      <th>4</th>\n",
       "      <th>5</th>\n",
       "      <th>6</th>\n",
       "    </tr>\n",
       "  </thead>\n",
       "  <tbody>\n",
       "    <tr>\n",
       "      <th>0</th>\n",
       "      <td>392.409989</td>\n",
       "      <td>0.278818</td>\n",
       "      <td>334.303560</td>\n",
       "      <td>154.555822</td>\n",
       "      <td>0.480163</td>\n",
       "      <td>-326439.919890</td>\n",
       "      <td>125959.344649</td>\n",
       "    </tr>\n",
       "    <tr>\n",
       "      <th>1</th>\n",
       "      <td>392.603387</td>\n",
       "      <td>0.276688</td>\n",
       "      <td>334.295698</td>\n",
       "      <td>155.135906</td>\n",
       "      <td>0.483352</td>\n",
       "      <td>-325974.937026</td>\n",
       "      <td>125777.612731</td>\n",
       "    </tr>\n",
       "    <tr>\n",
       "      <th>2</th>\n",
       "      <td>392.535881</td>\n",
       "      <td>0.274385</td>\n",
       "      <td>334.298319</td>\n",
       "      <td>155.672920</td>\n",
       "      <td>0.486443</td>\n",
       "      <td>-325257.778954</td>\n",
       "      <td>125501.845689</td>\n",
       "    </tr>\n",
       "    <tr>\n",
       "      <th>3</th>\n",
       "      <td>392.371610</td>\n",
       "      <td>0.271905</td>\n",
       "      <td>334.301975</td>\n",
       "      <td>156.167890</td>\n",
       "      <td>0.489347</td>\n",
       "      <td>-324463.534568</td>\n",
       "      <td>125197.223459</td>\n",
       "    </tr>\n",
       "    <tr>\n",
       "      <th>4</th>\n",
       "      <td>392.228513</td>\n",
       "      <td>0.269260</td>\n",
       "      <td>334.300837</td>\n",
       "      <td>156.619338</td>\n",
       "      <td>0.492025</td>\n",
       "      <td>-323709.205752</td>\n",
       "      <td>124907.299815</td>\n",
       "    </tr>\n",
       "    <tr>\n",
       "      <th>...</th>\n",
       "      <td>...</td>\n",
       "      <td>...</td>\n",
       "      <td>...</td>\n",
       "      <td>...</td>\n",
       "      <td>...</td>\n",
       "      <td>...</td>\n",
       "      <td>...</td>\n",
       "    </tr>\n",
       "    <tr>\n",
       "      <th>271</th>\n",
       "      <td>426.553525</td>\n",
       "      <td>0.282813</td>\n",
       "      <td>342.315028</td>\n",
       "      <td>163.444140</td>\n",
       "      <td>0.581707</td>\n",
       "      <td>-56317.768023</td>\n",
       "      <td>21690.310422</td>\n",
       "    </tr>\n",
       "    <tr>\n",
       "      <th>272</th>\n",
       "      <td>426.858342</td>\n",
       "      <td>0.281231</td>\n",
       "      <td>342.078369</td>\n",
       "      <td>164.065968</td>\n",
       "      <td>0.581708</td>\n",
       "      <td>-55328.768115</td>\n",
       "      <td>21312.668260</td>\n",
       "    </tr>\n",
       "    <tr>\n",
       "      <th>273</th>\n",
       "      <td>426.886882</td>\n",
       "      <td>0.279090</td>\n",
       "      <td>341.857241</td>\n",
       "      <td>164.680481</td>\n",
       "      <td>0.581928</td>\n",
       "      <td>-54265.337123</td>\n",
       "      <td>20907.192219</td>\n",
       "    </tr>\n",
       "    <tr>\n",
       "      <th>274</th>\n",
       "      <td>426.848035</td>\n",
       "      <td>0.276324</td>\n",
       "      <td>341.663129</td>\n",
       "      <td>165.278271</td>\n",
       "      <td>0.582469</td>\n",
       "      <td>-53157.022926</td>\n",
       "      <td>20484.792175</td>\n",
       "    </tr>\n",
       "    <tr>\n",
       "      <th>275</th>\n",
       "      <td>426.886303</td>\n",
       "      <td>0.272908</td>\n",
       "      <td>341.507611</td>\n",
       "      <td>165.848677</td>\n",
       "      <td>0.583431</td>\n",
       "      <td>-52023.933853</td>\n",
       "      <td>20052.892956</td>\n",
       "    </tr>\n",
       "  </tbody>\n",
       "</table>\n",
       "<p>276 rows × 7 columns</p>\n",
       "</div>"
      ],
      "text/plain": [
       "              0         1           2           3         4              5  \\\n",
       "0    392.409989  0.278818  334.303560  154.555822  0.480163 -326439.919890   \n",
       "1    392.603387  0.276688  334.295698  155.135906  0.483352 -325974.937026   \n",
       "2    392.535881  0.274385  334.298319  155.672920  0.486443 -325257.778954   \n",
       "3    392.371610  0.271905  334.301975  156.167890  0.489347 -324463.534568   \n",
       "4    392.228513  0.269260  334.300837  156.619338  0.492025 -323709.205752   \n",
       "..          ...       ...         ...         ...       ...            ...   \n",
       "271  426.553525  0.282813  342.315028  163.444140  0.581707  -56317.768023   \n",
       "272  426.858342  0.281231  342.078369  164.065968  0.581708  -55328.768115   \n",
       "273  426.886882  0.279090  341.857241  164.680481  0.581928  -54265.337123   \n",
       "274  426.848035  0.276324  341.663129  165.278271  0.582469  -53157.022926   \n",
       "275  426.886303  0.272908  341.507611  165.848677  0.583431  -52023.933853   \n",
       "\n",
       "                 6  \n",
       "0    125959.344649  \n",
       "1    125777.612731  \n",
       "2    125501.845689  \n",
       "3    125197.223459  \n",
       "4    124907.299815  \n",
       "..             ...  \n",
       "271   21690.310422  \n",
       "272   21312.668260  \n",
       "273   20907.192219  \n",
       "274   20484.792175  \n",
       "275   20052.892956  \n",
       "\n",
       "[276 rows x 7 columns]"
      ]
     },
     "execution_count": 26,
     "metadata": {},
     "output_type": "execute_result"
    }
   ],
   "source": [
    "data = data_features(filelist_r[1],avg)\n",
    "data"
   ]
  },
  {
   "cell_type": "code",
   "execution_count": 27,
   "metadata": {},
   "outputs": [],
   "source": [
    "import config as cfg"
   ]
  },
  {
   "cell_type": "code",
   "execution_count": 28,
   "metadata": {},
   "outputs": [
    {
     "name": "stdout",
     "output_type": "stream",
     "text": [
      "cut_one_gait_two_cycle_right\\degeneration_12_0.c3d\n",
      "cut_one_gait_two_cycle_left\\healthy_08_0.c3d\n",
      "cut_one_gait_two_cycle_left\\healthy_13_0.c3d\n"
     ]
    }
   ],
   "source": [
    "final_db_r = []\n",
    "final_db_l = []\n",
    "r = []\n",
    "l = []\n",
    "\n",
    "for file_r in filelist_r:\n",
    "    try:\n",
    "        #right\n",
    "        db_features_r = data_features(file_r,avg)\n",
    "        final_db_r.append(db_features_r)\n",
    "    except:\n",
    "        print(file_r)\n",
    "        r.append(file_r)\n",
    "        \n",
    "for file_l in filelist_l:\n",
    "    try:\n",
    "        #left\n",
    "        db_features_l = data_features(file_l,avg)\n",
    "        final_db_l.append(db_features_l)\n",
    "    except:\n",
    "        print(file_l)\n",
    "        l.append(file_l)"
   ]
  },
  {
   "cell_type": "code",
   "execution_count": 29,
   "metadata": {},
   "outputs": [],
   "source": [
    "create_h5('features_database_gait_two_cycles_both_legs.h5', final_db_r, final_db_l)"
   ]
  },
  {
   "cell_type": "code",
   "execution_count": 30,
   "metadata": {},
   "outputs": [
    {
     "data": {
      "text/plain": [
       "['cut_one_gait_two_cycle_left\\\\healthy_08_0.c3d',\n",
       " 'cut_one_gait_two_cycle_left\\\\healthy_13_0.c3d']"
      ]
     },
     "execution_count": 30,
     "metadata": {},
     "output_type": "execute_result"
    }
   ],
   "source": [
    "l"
   ]
  },
  {
   "cell_type": "code",
   "execution_count": 31,
   "metadata": {},
   "outputs": [
    {
     "data": {
      "text/plain": [
       "['cut_one_gait_two_cycle_right\\\\degeneration_12_0.c3d']"
      ]
     },
     "execution_count": 31,
     "metadata": {},
     "output_type": "execute_result"
    }
   ],
   "source": [
    "r"
   ]
  },
  {
   "cell_type": "code",
   "execution_count": null,
   "metadata": {},
   "outputs": [],
   "source": []
  }
 ],
 "metadata": {
  "kernelspec": {
   "display_name": "Python 3",
   "language": "python",
   "name": "python3"
  },
  "language_info": {
   "codemirror_mode": {
    "name": "ipython",
    "version": 3
   },
   "file_extension": ".py",
   "mimetype": "text/x-python",
   "name": "python",
   "nbconvert_exporter": "python",
   "pygments_lexer": "ipython3",
   "version": "3.7.9"
  }
 },
 "nbformat": 4,
 "nbformat_minor": 4
}
