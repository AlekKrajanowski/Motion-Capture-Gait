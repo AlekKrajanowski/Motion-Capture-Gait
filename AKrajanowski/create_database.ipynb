{
 "cells": [
  {
   "cell_type": "code",
   "execution_count": 1,
   "metadata": {},
   "outputs": [],
   "source": [
    "import btk\n",
    "from ezc3d import c3d\n",
    "import pandas as pd\n",
    "import numpy as np\n",
    "import glob"
   ]
  },
  {
   "cell_type": "code",
   "execution_count": 2,
   "metadata": {},
   "outputs": [],
   "source": [
    "def cropp_c3dfile(eventsFrame, filename, destiny, no):\n",
    "    reader = btk.btkAcquisitionFileReader()\n",
    "    reader.SetFilename(filename)\n",
    "    reader.Update()\n",
    "    acq = reader.GetOutput()\n",
    " \n",
    "    writer = btk.btkAcquisitionFileWriter()\n",
    "    \n",
    "    for i in range(0, len(eventsFrame)):\n",
    "        clone = acq.Clone();\n",
    "        clone.ResizeFrameNumberFromEnd(acq.GetLastFrame() - eventsFrame[i][0] + 1)\n",
    "        clone.ResizeFrameNumber(eventsFrame[i][1] - eventsFrame[i][0] + 1)\n",
    "        clone.SetFirstFrame(eventsFrame[i][0])\n",
    "        clone.ClearEvents()\n",
    "        for e in btk.Iterate(acq.GetEvents()):\n",
    "            if ((e.GetFrame() > clone.GetFirstFrame()) and (e.GetFrame() < clone.GetLastFrame())):\n",
    "                clone.AppendEvent(e)\n",
    "        clone.SetFirstFrame(1)\n",
    "        writer.SetInput(clone)\n",
    "        writer.SetFilename(destiny + '\\\\' + (filename.split('\\\\')[-1]).split('.')[0] + '_' + str(no) +'.c3d')\n",
    "        writer.Update()"
   ]
  },
  {
   "cell_type": "code",
   "execution_count": 3,
   "metadata": {},
   "outputs": [],
   "source": [
    "path = f'medical_dataset_AK'"
   ]
  },
  {
   "cell_type": "code",
   "execution_count": 4,
   "metadata": {},
   "outputs": [],
   "source": [
    "filelist =[]\n",
    "for file in glob.glob(f'{path}\\\\**\\\\*.c3d',recursive = True):\n",
    "    filelist.append(file)"
   ]
  },
  {
   "cell_type": "code",
   "execution_count": 5,
   "metadata": {},
   "outputs": [],
   "source": [
    "def read_labels(sample):\n",
    "    e_label = pd.DataFrame(sample['parameters']['EVENT']['LABELS']['value'])\n",
    "    e_contexts = pd.DataFrame(sample['parameters']['EVENT']['CONTEXTS']['value'])\n",
    "\n",
    "    times = sample['parameters']['EVENT']['TIMES']['value']\n",
    "    e_frames = pd.DataFrame(times[1] * 100).astype(int)\n",
    "\n",
    "    event = pd.concat([e_label, e_contexts, e_frames], axis=1)\n",
    "    event.columns = ['label', 'context', 'frames']\n",
    "    event = event.set_index('frames')\n",
    "    event = event.sort_index(axis=0)\n",
    "\n",
    "    return event"
   ]
  },
  {
   "cell_type": "markdown",
   "metadata": {},
   "source": [
    "<h1>One cycle method"
   ]
  },
  {
   "cell_type": "code",
   "execution_count": 6,
   "metadata": {},
   "outputs": [],
   "source": [
    "def get_one_step_time(sample, label, context, i):\n",
    "    df = read_labels(sample)\n",
    "    temp = [frame for frame in df.index if df['label'][frame] == label and df['context'][frame] == context]\n",
    "\n",
    "    return temp[i], temp[i+1]"
   ]
  },
  {
   "cell_type": "code",
   "execution_count": 47,
   "metadata": {},
   "outputs": [],
   "source": [
    "def save_cycle(file, site, path, i):\n",
    "    start, stop = get_one_step_time(sample, 'Foot Strike', site, i)\n",
    "    eventsFrame = [[int(start), int(stop)]]\n",
    "    cropp_c3dfile(eventsFrame, file, path, i)"
   ]
  },
  {
   "cell_type": "code",
   "execution_count": 8,
   "metadata": {},
   "outputs": [
    {
     "name": "stdout",
     "output_type": "stream",
     "text": [
      "Pliki z jednym lub dwoma cyklami chodu:\n",
      "medical_dataset_AK\\degeneration\\degeneration_03.c3d\n",
      "medical_dataset_AK\\degeneration\\degeneration_04.c3d\n",
      "medical_dataset_AK\\degeneration\\degeneration_04.c3d\n",
      "medical_dataset_AK\\degeneration\\degeneration_12.c3d\n",
      "medical_dataset_AK\\healthy\\healthy_02.c3d\n",
      "medical_dataset_AK\\healthy\\healthy_02.c3d\n",
      "medical_dataset_AK\\healthy\\healthy_03.c3d\n",
      "medical_dataset_AK\\healthy\\healthy_03.c3d\n",
      "medical_dataset_AK\\healthy\\healthy_04.c3d\n",
      "medical_dataset_AK\\healthy\\healthy_04.c3d\n",
      "medical_dataset_AK\\healthy\\healthy_05.c3d\n",
      "medical_dataset_AK\\healthy\\healthy_05.c3d\n",
      "medical_dataset_AK\\healthy\\healthy_06.c3d\n",
      "medical_dataset_AK\\healthy\\healthy_06.c3d\n",
      "medical_dataset_AK\\healthy\\healthy_07.c3d\n",
      "medical_dataset_AK\\healthy\\healthy_07.c3d\n",
      "medical_dataset_AK\\healthy\\healthy_08.c3d\n",
      "medical_dataset_AK\\healthy\\healthy_08.c3d\n",
      "medical_dataset_AK\\healthy\\healthy_09.c3d\n",
      "medical_dataset_AK\\healthy\\healthy_09.c3d\n",
      "medical_dataset_AK\\healthy\\healthy_10.c3d\n",
      "medical_dataset_AK\\healthy\\healthy_10.c3d\n",
      "medical_dataset_AK\\healthy\\healthy_12.c3d\n",
      "medical_dataset_AK\\healthy\\healthy_12.c3d\n",
      "medical_dataset_AK\\healthy\\healthy_13.c3d\n",
      "medical_dataset_AK\\healthy\\healthy_13.c3d\n",
      "medical_dataset_AK\\healthy\\healthy_14.c3d\n",
      "medical_dataset_AK\\healthy\\healthy_14.c3d\n",
      "medical_dataset_AK\\healthy\\healthy_15.c3d\n",
      "medical_dataset_AK\\healthy\\healthy_15.c3d\n",
      "Avarange one step time 1.32\n"
     ]
    }
   ],
   "source": [
    "print(\"Pliki z jednym lub dwoma cyklami chodu:\")\n",
    "for file in filelist:\n",
    "    sample = c3d(file)\n",
    "    i=0\n",
    "    while i < 3:\n",
    "        try:     \n",
    "            #First right step\n",
    "            save_cycle(file, 'Right', 'cut_one_gait_cycle_right', i)    \n",
    "            #First left step\n",
    "            save_cycle(file, 'Left', 'cut_one_gait_cycle_left', i)   \n",
    "        except:\n",
    "            print(file)\n",
    "        i+=1"
   ]
  },
  {
   "cell_type": "markdown",
   "metadata": {},
   "source": [
    "<h1>Two cycles method"
   ]
  },
  {
   "cell_type": "code",
   "execution_count": 43,
   "metadata": {},
   "outputs": [],
   "source": [
    "def get_one_step_time_two_cycles(sample, label, context):\n",
    "    df = read_labels(sample)\n",
    "    temp = [frame for frame in df.index if df['label'][frame] == label and df['context'][frame] == context]\n",
    "\n",
    "    return temp[0], temp[2]"
   ]
  },
  {
   "cell_type": "code",
   "execution_count": 46,
   "metadata": {},
   "outputs": [],
   "source": [
    "def save_two_cycles(file, site, path):\n",
    "    start, stop = get_one_step_time_two_cycles(sample, 'Foot Strike', site)\n",
    "    eventsFrame = [[int(start), int(stop)]]\n",
    "    cropp_c3dfile(eventsFrame, file, path, 0)"
   ]
  },
  {
   "cell_type": "code",
   "execution_count": 44,
   "metadata": {},
   "outputs": [
    {
     "name": "stdout",
     "output_type": "stream",
     "text": [
      "medical_dataset_AK\\degeneration\\degeneration_04.c3d\n",
      "medical_dataset_AK\\healthy\\healthy_02.c3d\n",
      "medical_dataset_AK\\healthy\\healthy_03.c3d\n",
      "medical_dataset_AK\\healthy\\healthy_04.c3d\n",
      "medical_dataset_AK\\healthy\\healthy_05.c3d\n",
      "medical_dataset_AK\\healthy\\healthy_06.c3d\n",
      "medical_dataset_AK\\healthy\\healthy_07.c3d\n",
      "medical_dataset_AK\\healthy\\healthy_08.c3d\n",
      "medical_dataset_AK\\healthy\\healthy_09.c3d\n",
      "medical_dataset_AK\\healthy\\healthy_10.c3d\n",
      "medical_dataset_AK\\healthy\\healthy_12.c3d\n",
      "medical_dataset_AK\\healthy\\healthy_13.c3d\n",
      "medical_dataset_AK\\healthy\\healthy_14.c3d\n",
      "medical_dataset_AK\\healthy\\healthy_15.c3d\n",
      "Avarange one step time 2.76\n"
     ]
    }
   ],
   "source": [
    "for file in filelist:\n",
    "    sample = c3d(file)\n",
    "    try:    \n",
    "        #right\n",
    "        save_two_cycles(file, 'Right', 'cut_one_gait_two_cycle_right')          \n",
    "        #left\n",
    "        save_two_cycles(file, 'Left', 'cut_one_gait_two_cycle_left')         \n",
    "    except:\n",
    "        print(file)"
   ]
  },
  {
   "cell_type": "markdown",
   "metadata": {},
   "source": [
    "<h2>Avg"
   ]
  },
  {
   "cell_type": "code",
   "execution_count": 9,
   "metadata": {},
   "outputs": [],
   "source": [
    "avg = 132\n",
    "avg_two_cycles = 276"
   ]
  },
  {
   "cell_type": "code",
   "execution_count": 10,
   "metadata": {},
   "outputs": [],
   "source": [
    "marker_list = ['LANK', 'RANK', 'LKNE', 'RKNE', 'LFIN', 'RFIN', 'LSHO', 'RSHO', 'LASI', 'RFHD','RWRA','RHEE','LHEE','CentreOfMass']"
   ]
  },
  {
   "cell_type": "code",
   "execution_count": 11,
   "metadata": {},
   "outputs": [],
   "source": [
    "path_r = f'cut_one_gait_cycle_right'\n",
    "path_l = f'cut_one_gait_cycle_left'\n",
    "\n",
    "filelist_r =[]\n",
    "filelist_l =[]\n",
    "\n",
    "for file in glob.glob(f'{path_r}\\\\*.c3d',recursive = True):\n",
    "    filelist_r.append(file)\n",
    "    \n",
    "for file in glob.glob(f'{path_l}\\\\*.c3d',recursive = True):\n",
    "    filelist_l.append(file)"
   ]
  },
  {
   "cell_type": "code",
   "execution_count": 12,
   "metadata": {},
   "outputs": [
    {
     "data": {
      "text/plain": [
       "'cut_one_gait_cycle_right\\\\degeneration_01_0.c3d'"
      ]
     },
     "execution_count": 12,
     "metadata": {},
     "output_type": "execute_result"
    }
   ],
   "source": [
    "filelist_r[0]"
   ]
  },
  {
   "cell_type": "code",
   "execution_count": 13,
   "metadata": {},
   "outputs": [],
   "source": [
    "from pyomeca import Markers"
   ]
  },
  {
   "cell_type": "code",
   "execution_count": 14,
   "metadata": {},
   "outputs": [],
   "source": [
    "def data_markers(data_path, marker_list):\n",
    "    data_markers = Markers.from_c3d(data_path, usecols=[marker_list[0]])\n",
    "    data_markers = data_markers.meca.time_normalize(n_frames=avg)\n",
    "    data_markers = data_markers.meca.to_wide_dataframe()\n",
    "    for i in range(len(marker_list)-1):\n",
    "        \n",
    "        tmp_markers = Markers.from_c3d(data_path, usecols=[marker_list[i+1]])\n",
    "        tmp_markers = tmp_markers.meca.time_normalize(n_frames=avg)  \n",
    "        tmp_markers = tmp_markers.meca.to_wide_dataframe()\n",
    "        data_markers = data_markers.join(tmp_markers)\n",
    "\n",
    "        \n",
    "    cols = [c for c in data_markers.columns if c.lower()[:4] != 'ones']\n",
    "    markers_dataframe = data_markers[cols]\n",
    "    \n",
    "    return markers_dataframe"
   ]
  },
  {
   "cell_type": "code",
   "execution_count": 15,
   "metadata": {},
   "outputs": [
    {
     "data": {
      "text/plain": [
       "array([81.748909  , 81.62361442, 81.4171792 , 81.11728109, 80.7121649 ,\n",
       "       80.19107918, 79.54473353, 78.7530178 , 77.81915458, 76.74528946,\n",
       "       75.53240495, 74.18410084, 72.70641624, 71.10056154, 69.37922569,\n",
       "       67.56141121, 65.66042654, 63.69053353, 61.66677594, 59.60404826,\n",
       "       57.51957266, 55.43274759, 53.35991366, 51.31717519, 49.32008973,\n",
       "       47.38367663, 45.53057655, 43.76407612, 42.09230362, 40.52060085,\n",
       "       39.0513801 , 37.68411933, 36.42470714, 35.25913792, 34.17743275,\n",
       "       33.17099354, 32.2309978 , 31.34904818, 30.52074539, 29.73840696,\n",
       "       28.99526736, 28.28857253, 27.61675006, 26.97905555, 26.37656193,\n",
       "       25.81040564, 25.27744864, 24.77696406, 24.30789575, 23.86893486,\n",
       "       23.45895865, 23.07907652, 22.72498817, 22.39580149, 22.09094681,\n",
       "       21.81022528, 21.55393004, 21.32587829, 21.12618764, 20.95777155,\n",
       "       20.82526954, 20.73462517, 20.6930238 , 20.71376702, 20.80580227,\n",
       "       20.97633534, 21.23554879, 21.59359997, 22.06030145, 22.65061908,\n",
       "       23.37722454, 24.23720572, 25.23458031, 26.3709035 , 27.64484209,\n",
       "       29.0539527 , 30.59932838, 32.25426905, 34.00213093, 35.82291762,\n",
       "       37.69386705, 39.59028885, 41.48387798, 43.34720559, 45.15783205,\n",
       "       46.89667234, 48.54892076, 50.10457736, 51.55029233, 52.89040753,\n",
       "       54.13349006, 55.28660843, 56.35833132, 57.35761075, 58.28988362,\n",
       "       59.16205708, 59.98328554, 60.75657325, 61.4833586 , 62.16390001,\n",
       "       62.79666743, 63.37735274, 63.91015313, 64.39516554, 64.83309045,\n",
       "       65.22525473, 65.57356571, 65.87591372, 66.13994348, 66.36897895,\n",
       "       66.56628208, 66.73524044, 66.87931061, 67.00042585, 67.10351539,\n",
       "       67.19245573, 67.26996886, 67.33817792, 67.39837349, 67.45021185,\n",
       "       67.49195623, 67.52065044, 67.53083487, 67.51492438, 67.46322032,\n",
       "       67.36236252, 67.1933783 , 66.9465208 , 66.60727552, 66.16164491,\n",
       "       65.59689232, 64.90222168])"
      ]
     },
     "execution_count": 15,
     "metadata": {},
     "output_type": "execute_result"
    }
   ],
   "source": [
    "dm = data_markers(filelist_r[0], marker_list)\n",
    "dat = np.array(dm['x_LASI'])\n",
    "dat"
   ]
  },
  {
   "cell_type": "code",
   "execution_count": 16,
   "metadata": {},
   "outputs": [],
   "source": [
    "def load_group(filenames):\n",
    "    \n",
    "    loaded = []\n",
    "    \n",
    "    for file in filenames:\n",
    "        try:\n",
    "            result = data_markers(file, marker_list)\n",
    "            loaded.append(result)\n",
    "        except:\n",
    "            print(file)\n",
    "\n",
    "    return loaded"
   ]
  },
  {
   "cell_type": "code",
   "execution_count": 17,
   "metadata": {},
   "outputs": [
    {
     "name": "stdout",
     "output_type": "stream",
     "text": [
      "medical_dataset_AK\\degeneration\\degeneration_09.c3d\n"
     ]
    }
   ],
   "source": [
    "group = load_group(filelist)"
   ]
  },
  {
   "cell_type": "code",
   "execution_count": 18,
   "metadata": {},
   "outputs": [
    {
     "data": {
      "text/plain": [
       "(29, 132, 42)"
      ]
     },
     "execution_count": 18,
     "metadata": {},
     "output_type": "execute_result"
    }
   ],
   "source": [
    "x = np.stack(group)\n",
    "x.shape"
   ]
  },
  {
   "cell_type": "code",
   "execution_count": 19,
   "metadata": {},
   "outputs": [
    {
     "name": "stdout",
     "output_type": "stream",
     "text": [
      "(samples, timesteps, features) ->  (29, 132, 42)\n"
     ]
    }
   ],
   "source": [
    "print('(samples, timesteps, features) -> ', x.shape)"
   ]
  },
  {
   "cell_type": "code",
   "execution_count": 20,
   "metadata": {},
   "outputs": [],
   "source": [
    "import h5py"
   ]
  },
  {
   "cell_type": "code",
   "execution_count": 21,
   "metadata": {},
   "outputs": [],
   "source": [
    "def create_h5_basic(path, x):\n",
    "    f = h5py.File(path, mode='w')\n",
    "    f.create_dataset(\"x\", data=x)\n",
    "    f.close()"
   ]
  },
  {
   "cell_type": "code",
   "execution_count": 22,
   "metadata": {},
   "outputs": [],
   "source": [
    "def create_h5(path, right, left):\n",
    "    f = h5py.File(path, mode='w')\n",
    "    f.create_dataset(\"right\", data=right)\n",
    "    f.create_dataset(\"left\", data=left)\n",
    "    f.close()"
   ]
  },
  {
   "cell_type": "markdown",
   "metadata": {},
   "source": [
    "# JRD"
   ]
  },
  {
   "cell_type": "code",
   "execution_count": 23,
   "metadata": {},
   "outputs": [],
   "source": [
    "import math"
   ]
  },
  {
   "cell_type": "code",
   "execution_count": 24,
   "metadata": {},
   "outputs": [],
   "source": [
    "import numpy as np\n",
    "\n",
    "def jrd_method(markers):\n",
    "    \n",
    "    #arrays with data\n",
    "    x_lank = np.array(markers['x_LANK'])\n",
    "    y_lank = np.array(markers['y_LANK'])\n",
    "    z_lank = np.array(markers['z_LANK'])\n",
    "    \n",
    "    x_rank = np.array(markers['x_RANK'])\n",
    "    y_rank = np.array(markers['y_RANK'])\n",
    "    z_rank = np.array(markers['z_RANK'])\n",
    "\n",
    "    #auxiliary tables\n",
    "    arr_distance_jrd = []\n",
    "    arr_left = []\n",
    "    arr_right = []\n",
    "    time = []\n",
    "    i = 0\n",
    "    x_2 = 0\n",
    "    y_2 = 0\n",
    "    z_2 = 0\n",
    "\n",
    "    while i < avg:\n",
    "    \n",
    "        x_2 = (x_lank[i] - x_rank[i]) ** 2\n",
    "        y_2 = (y_lank[i] - y_rank[i]) ** 2\n",
    "        z_2 = (z_lank[i] - z_rank[i]) ** 2\n",
    "        distance = math.sqrt(x_2+y_2+z_2)\n",
    "        \n",
    "        time.append(i)\n",
    "        arr_left.append(z_lank[i])\n",
    "        arr_right.append(z_rank[i])\n",
    "        arr_distance_jrd.append(distance)\n",
    "    \n",
    "        i += 1\n",
    "        \n",
    "    return arr_distance_jrd"
   ]
  },
  {
   "cell_type": "markdown",
   "metadata": {},
   "source": [
    "# JRA"
   ]
  },
  {
   "cell_type": "code",
   "execution_count": 25,
   "metadata": {},
   "outputs": [],
   "source": [
    "import numpy as np\n",
    "\n",
    "def jra_method(markers):\n",
    "    \n",
    "    #arrays with data\n",
    "    x_lasi = np.array(markers['x_LASI'])\n",
    "    y_lasi = np.array(markers['y_LASI'])\n",
    "    z_lasi = np.array(markers['z_LASI'])\n",
    "    \n",
    "    x_lkne = np.array(markers['x_LKNE'])\n",
    "    y_lkne = np.array(markers['y_LKNE'])\n",
    "    z_lkne = np.array(markers['z_LKNE'])\n",
    "    \n",
    "    x_lank = np.array(markers['x_LANK'])\n",
    "    y_lank = np.array(markers['y_LANK'])\n",
    "    z_lank = np.array(markers['z_LANK'])\n",
    "    \n",
    "    #auxiliary tables\n",
    "    first_dist = []\n",
    "    second_dist = []\n",
    "    distance = []\n",
    "    angle = []\n",
    "    time = []\n",
    "    \n",
    "    i = 0\n",
    "    xl = yl = zl = 0\n",
    "    xl_1 = yl_1 = zl_1 = 0\n",
    "\n",
    "    while i < avg:\n",
    "        \n",
    "        xl = (x_lasi[i] - x_lkne[i])\n",
    "        yl = (y_lasi[i] - y_lkne[i])\n",
    "        zl = (z_lasi[i] - z_lkne[i])\n",
    "        \n",
    "        xl_1 = (x_lkne[i] - x_lank[i])\n",
    "        yl_1 = (y_lkne[i] - y_lank[i])\n",
    "        zl_1 = (z_lkne[i] - z_lank[i])\n",
    "        \n",
    "        time.append(i)\n",
    "    \n",
    "        first_dist.append(math.sqrt((xl ** 2) + (yl ** 2) + (zl ** 2)))\n",
    "        second_dist.append(math.sqrt((xl_1 ** 2) + (yl_1 ** 2) + (zl_1 ** 2)))                   \n",
    "        distance.append(xl * xl_1 + yl * yl_1 + zl * zl_1)\n",
    "    \n",
    "        angle.append(math.acos(distance[i] / (first_dist[i] * second_dist[i])))\n",
    "        \n",
    "        i += 1\n",
    "        \n",
    "    return angle"
   ]
  },
  {
   "cell_type": "markdown",
   "metadata": {},
   "source": [
    "# HDF"
   ]
  },
  {
   "cell_type": "code",
   "execution_count": 26,
   "metadata": {},
   "outputs": [],
   "source": [
    "import numpy as np\n",
    "\n",
    "from scipy.stats import skew \n",
    "def hdf_method(markers):\n",
    "\n",
    "    #arrays with data\n",
    "    x_lank = np.array(markers['x_LANK'])\n",
    "    x_rank = np.array(markers['x_RANK'])\n",
    "    x_lkne = np.array(markers['x_LKNE'])\n",
    "    x_rkne = np.array(markers['x_RKNE'])\n",
    "    x_lfin = np.array(markers['x_LFIN'])\n",
    "    x_rfin = np.array(markers['x_RFIN'])\n",
    "    x_lsho = np.array(markers['x_LSHO'])\n",
    "    x_rsho = np.array(markers['x_RSHO'])\n",
    "    \n",
    "    #auxiliaty tables\n",
    "    #hd1 ankles\n",
    "    hd1 = []\n",
    "    hd1_x = 0\n",
    "    #hd2 knees\n",
    "    hd2 = []\n",
    "    hd2_x = 0\n",
    "    #hd3 wrists\n",
    "    hd3 = []\n",
    "    hd3_x = 0\n",
    "    #hd4 shoulders\n",
    "    hd4 = []\n",
    "    hd4_x = 0\n",
    "    \n",
    "    #variables\n",
    "    meanH = []\n",
    "    stdH = []\n",
    "    skewH = []\n",
    "    HDF = [] \n",
    "    hdf = []\n",
    "    time = []\n",
    "    i = 0\n",
    "    \n",
    "    while i < avg:\n",
    "    \n",
    "        hd1_x = (x_lank[i] - x_rank[i]) ** 2\n",
    "        hd1.append(math.sqrt(hd1_x))\n",
    "        \n",
    "        hd2_x = (x_lkne[i] - x_rkne[i]) ** 2\n",
    "        hd2.append(math.sqrt(hd2_x))\n",
    "        \n",
    "        hd3_x = (x_lfin[i] - x_rfin[i]) ** 2\n",
    "        hd3.append(math.sqrt(hd3_x))\n",
    "        \n",
    "        hd4_x = (x_lsho[i] - x_rsho[i]) ** 2\n",
    "        hd4.append(math.sqrt(hd4_x))\n",
    "        \n",
    "        time.append(i)\n",
    "        hdf = [hd1[i], hd2[i], hd3[i], hd4[i]]\n",
    "        \n",
    "        meanH.append(np.mean(hdf))\n",
    "        stdH.append(np.std(hdf))\n",
    "        skewH.append(skew(hdf))        \n",
    "        HDF.append([meanH, stdH, skewH])\n",
    "        \n",
    "        i += 1\n",
    "        \n",
    "    return HDF[0][0], HDF[0][1], HDF[0][2]"
   ]
  },
  {
   "cell_type": "markdown",
   "metadata": {},
   "source": [
    "# VDF"
   ]
  },
  {
   "cell_type": "code",
   "execution_count": 27,
   "metadata": {},
   "outputs": [],
   "source": [
    "import numpy as np\n",
    "\n",
    "def vdf_method(markers):\n",
    "    \n",
    "    #arrays with data\n",
    "    y_rfhd = np.array(markers['y_RFHD'])\n",
    "    y_rwra = np.array(markers['y_RWRA'])\n",
    "    y_rsho = np.array(markers['y_RSHO'])\n",
    "    y_rank = np.array(markers['y_RANK'])\n",
    "    y_lank = np.array(markers['y_LANK'])\n",
    "    y_rhee = np.array(markers['y_RHEE'])\n",
    "    y_lhee = np.array(markers['y_LHEE'])\n",
    "    y_centreOfMass = np.array(markers['y_CentreOfMass'])\n",
    "    \n",
    "    #auxiliary tables\n",
    "    #vd1 HEIGHT\n",
    "    vd1 = []\n",
    "    vd1_y = 0\n",
    "    #vd2 WRIST RIGHT\n",
    "    vd2 = []\n",
    "    vd2_y = 0\n",
    "    #vd3 SHOULDER RIGHT\n",
    "    vd3 = []\n",
    "    vd3_y = 0\n",
    "    #vd4 ANKLE RIGHT\n",
    "    vd4 = []\n",
    "    vd4_y = 0\n",
    "    #vd5 ANKLE LEFT\n",
    "    vd5 = []\n",
    "    vd5_y = 0\n",
    "    #vd6 DIST. FEET LEFT AND RIGHT\n",
    "    vd6 = []\n",
    "    vd6_y = 0\n",
    "    \n",
    "    #variables\n",
    "    meanV = []\n",
    "    stdV = []\n",
    "    VDF = [] \n",
    "    vdf = []\n",
    "    time = []\n",
    "    average = []\n",
    "    i = 0\n",
    "    \n",
    "    while i < avg:\n",
    "    \n",
    "        vd1_y = np.array(y_rfhd[i])\n",
    "        vd1.append(vd1_y)\n",
    "        \n",
    "        vd2_y = np.array(y_rwra[i])\n",
    "        vd2.append(vd2_y)\n",
    "        \n",
    "        vd3_y = np.array(y_rsho[i])\n",
    "        vd3.append(vd3_y)\n",
    "        \n",
    "        vd4_y = np.array(y_rank[i])\n",
    "        vd4.append(vd4_y)\n",
    "        \n",
    "        vd5_y = np.array(y_lank[i])\n",
    "        vd5.append(vd5_y)\n",
    "        \n",
    "        vd6_y = np.array((0.5 * (y_rhee[i] - y_lhee[i]) * y_centreOfMass[i]))\n",
    "        vd6.append(vd6_y)\n",
    "        \n",
    "        time.append(i)\n",
    "        \n",
    "        average = (vd1_y + vd2_y + vd3_y + vd4_y + vd5_y + vd6_y)\n",
    "        vdf = [vd1[i], vd2[i], vd3[i], vd4[i], vd5[i], vd6[i]]\n",
    "        \n",
    "        meanV.append(np.mean(average))\n",
    "        stdV.append(np.std(vdf))\n",
    "        VDF.append([meanV, stdV])\n",
    "        \n",
    "        i += 1\n",
    "        \n",
    "    return VDF[0][0], VDF[0][1]"
   ]
  },
  {
   "cell_type": "markdown",
   "metadata": {},
   "source": [
    "# approach"
   ]
  },
  {
   "cell_type": "code",
   "execution_count": 28,
   "metadata": {},
   "outputs": [],
   "source": [
    "from pyomeca import Markers"
   ]
  },
  {
   "cell_type": "code",
   "execution_count": 29,
   "metadata": {},
   "outputs": [],
   "source": [
    "def data_features(data_path):\n",
    "    marker_list = ['LANK', 'RANK', 'LKNE', 'RKNE', 'LFIN', 'RFIN', 'LSHO', 'RSHO', 'LASI', 'RFHD','RWRA','RHEE','LHEE','CentreOfMass']\n",
    "    markers = data_markers(data_path, marker_list)\n",
    "    jrd = jrd_method(markers)\n",
    "    jra = jra_method(markers)\n",
    "    meanH, stdH, skewH = hdf_method(markers)\n",
    "    meanV, stdV = vdf_method(markers)\n",
    "    \n",
    "    result = [jrd, jra, meanH, stdH, skewH, meanV, stdV]\n",
    "    \n",
    "    return pd.DataFrame(result).T"
   ]
  },
  {
   "cell_type": "code",
   "execution_count": 30,
   "metadata": {},
   "outputs": [
    {
     "data": {
      "text/html": [
       "<div>\n",
       "<style scoped>\n",
       "    .dataframe tbody tr th:only-of-type {\n",
       "        vertical-align: middle;\n",
       "    }\n",
       "\n",
       "    .dataframe tbody tr th {\n",
       "        vertical-align: top;\n",
       "    }\n",
       "\n",
       "    .dataframe thead th {\n",
       "        text-align: right;\n",
       "    }\n",
       "</style>\n",
       "<table border=\"1\" class=\"dataframe\">\n",
       "  <thead>\n",
       "    <tr style=\"text-align: right;\">\n",
       "      <th></th>\n",
       "      <th>0</th>\n",
       "      <th>1</th>\n",
       "      <th>2</th>\n",
       "      <th>3</th>\n",
       "      <th>4</th>\n",
       "      <th>5</th>\n",
       "      <th>6</th>\n",
       "    </tr>\n",
       "  </thead>\n",
       "  <tbody>\n",
       "    <tr>\n",
       "      <th>0</th>\n",
       "      <td>428.809628</td>\n",
       "      <td>0.136574</td>\n",
       "      <td>331.688300</td>\n",
       "      <td>152.043671</td>\n",
       "      <td>0.729322</td>\n",
       "      <td>-217174.929296</td>\n",
       "      <td>83527.707693</td>\n",
       "    </tr>\n",
       "    <tr>\n",
       "      <th>1</th>\n",
       "      <td>430.353434</td>\n",
       "      <td>0.136218</td>\n",
       "      <td>331.534175</td>\n",
       "      <td>152.248876</td>\n",
       "      <td>0.727432</td>\n",
       "      <td>-216986.121575</td>\n",
       "      <td>83445.946472</td>\n",
       "    </tr>\n",
       "    <tr>\n",
       "      <th>2</th>\n",
       "      <td>431.262712</td>\n",
       "      <td>0.136327</td>\n",
       "      <td>331.459071</td>\n",
       "      <td>152.430218</td>\n",
       "      <td>0.726420</td>\n",
       "      <td>-216335.320365</td>\n",
       "      <td>83192.109341</td>\n",
       "    </tr>\n",
       "    <tr>\n",
       "      <th>3</th>\n",
       "      <td>431.685236</td>\n",
       "      <td>0.137127</td>\n",
       "      <td>331.473178</td>\n",
       "      <td>152.583612</td>\n",
       "      <td>0.726402</td>\n",
       "      <td>-215307.349835</td>\n",
       "      <td>82797.721929</td>\n",
       "    </tr>\n",
       "    <tr>\n",
       "      <th>4</th>\n",
       "      <td>431.743982</td>\n",
       "      <td>0.138898</td>\n",
       "      <td>331.584395</td>\n",
       "      <td>152.706912</td>\n",
       "      <td>0.727452</td>\n",
       "      <td>-213971.224015</td>\n",
       "      <td>82288.427258</td>\n",
       "    </tr>\n",
       "    <tr>\n",
       "      <th>...</th>\n",
       "      <td>...</td>\n",
       "      <td>...</td>\n",
       "      <td>...</td>\n",
       "      <td>...</td>\n",
       "      <td>...</td>\n",
       "      <td>...</td>\n",
       "      <td>...</td>\n",
       "    </tr>\n",
       "    <tr>\n",
       "      <th>127</th>\n",
       "      <td>458.912141</td>\n",
       "      <td>0.127097</td>\n",
       "      <td>324.406057</td>\n",
       "      <td>149.482195</td>\n",
       "      <td>0.662310</td>\n",
       "      <td>-43216.529470</td>\n",
       "      <td>16656.492378</td>\n",
       "    </tr>\n",
       "    <tr>\n",
       "      <th>128</th>\n",
       "      <td>463.505557</td>\n",
       "      <td>0.124297</td>\n",
       "      <td>324.116178</td>\n",
       "      <td>149.424972</td>\n",
       "      <td>0.661439</td>\n",
       "      <td>-42191.522972</td>\n",
       "      <td>16261.280878</td>\n",
       "    </tr>\n",
       "    <tr>\n",
       "      <th>129</th>\n",
       "      <td>467.079458</td>\n",
       "      <td>0.121594</td>\n",
       "      <td>323.847433</td>\n",
       "      <td>149.442359</td>\n",
       "      <td>0.660843</td>\n",
       "      <td>-41020.734671</td>\n",
       "      <td>15812.016222</td>\n",
       "    </tr>\n",
       "    <tr>\n",
       "      <th>130</th>\n",
       "      <td>469.795692</td>\n",
       "      <td>0.119000</td>\n",
       "      <td>323.608792</td>\n",
       "      <td>149.527050</td>\n",
       "      <td>0.660605</td>\n",
       "      <td>-39730.056150</td>\n",
       "      <td>15318.267643</td>\n",
       "    </tr>\n",
       "    <tr>\n",
       "      <th>131</th>\n",
       "      <td>471.817129</td>\n",
       "      <td>0.116532</td>\n",
       "      <td>323.412084</td>\n",
       "      <td>149.667838</td>\n",
       "      <td>0.660863</td>\n",
       "      <td>-38342.564657</td>\n",
       "      <td>14788.553658</td>\n",
       "    </tr>\n",
       "  </tbody>\n",
       "</table>\n",
       "<p>132 rows × 7 columns</p>\n",
       "</div>"
      ],
      "text/plain": [
       "              0         1           2           3         4              5  \\\n",
       "0    428.809628  0.136574  331.688300  152.043671  0.729322 -217174.929296   \n",
       "1    430.353434  0.136218  331.534175  152.248876  0.727432 -216986.121575   \n",
       "2    431.262712  0.136327  331.459071  152.430218  0.726420 -216335.320365   \n",
       "3    431.685236  0.137127  331.473178  152.583612  0.726402 -215307.349835   \n",
       "4    431.743982  0.138898  331.584395  152.706912  0.727452 -213971.224015   \n",
       "..          ...       ...         ...         ...       ...            ...   \n",
       "127  458.912141  0.127097  324.406057  149.482195  0.662310  -43216.529470   \n",
       "128  463.505557  0.124297  324.116178  149.424972  0.661439  -42191.522972   \n",
       "129  467.079458  0.121594  323.847433  149.442359  0.660843  -41020.734671   \n",
       "130  469.795692  0.119000  323.608792  149.527050  0.660605  -39730.056150   \n",
       "131  471.817129  0.116532  323.412084  149.667838  0.660863  -38342.564657   \n",
       "\n",
       "                6  \n",
       "0    83527.707693  \n",
       "1    83445.946472  \n",
       "2    83192.109341  \n",
       "3    82797.721929  \n",
       "4    82288.427258  \n",
       "..            ...  \n",
       "127  16656.492378  \n",
       "128  16261.280878  \n",
       "129  15812.016222  \n",
       "130  15318.267643  \n",
       "131  14788.553658  \n",
       "\n",
       "[132 rows x 7 columns]"
      ]
     },
     "execution_count": 30,
     "metadata": {},
     "output_type": "execute_result"
    }
   ],
   "source": [
    "data = data_features(filelist_r[1])\n",
    "data"
   ]
  },
  {
   "cell_type": "code",
   "execution_count": 31,
   "metadata": {},
   "outputs": [],
   "source": [
    "import config as cfg"
   ]
  },
  {
   "cell_type": "code",
   "execution_count": 38,
   "metadata": {},
   "outputs": [
    {
     "name": "stdout",
     "output_type": "stream",
     "text": [
      "cut_one_gait_cycle_right\\degeneration_15_1.c3d\n",
      "cut_one_gait_cycle_right\\degeneration_15_2.c3d\n",
      "cut_one_gait_cycle_right\\healthy_01_0.c3d\n",
      "cut_one_gait_cycle_right\\healthy_08_0.c3d\n",
      "cut_one_gait_cycle_right\\healthy_10_0.c3d\n",
      "cut_one_gait_cycle_right\\healthy_12_0.c3d\n",
      "cut_one_gait_cycle_left\\healthy_08_0.c3d\n"
     ]
    }
   ],
   "source": [
    "final_db_r = []\n",
    "final_db_l = []\n",
    "r = []\n",
    "l = []\n",
    "\n",
    "for file_r in filelist_r:\n",
    "    try:\n",
    "        #right\n",
    "        db_features_r = data_features(file_r)\n",
    "        final_db_r.append(db_features_r)\n",
    "    except:\n",
    "        print(file_r)\n",
    "        r.append(file_r)\n",
    "        \n",
    "for file_l in filelist_l:\n",
    "    try:\n",
    "        #left\n",
    "        db_features_l = data_features(file_l)\n",
    "        final_db_l.append(db_features_l)\n",
    "    except:\n",
    "        print(file_l)\n",
    "        l.append(file_l)"
   ]
  },
  {
   "cell_type": "code",
   "execution_count": 33,
   "metadata": {},
   "outputs": [],
   "source": [
    "create_h5('features_database_gait_cycles_both_legs.h5', final_db_r, final_db_l)"
   ]
  },
  {
   "cell_type": "code",
   "execution_count": 39,
   "metadata": {},
   "outputs": [
    {
     "data": {
      "text/plain": [
       "['cut_one_gait_cycle_left\\\\healthy_08_0.c3d']"
      ]
     },
     "execution_count": 39,
     "metadata": {},
     "output_type": "execute_result"
    }
   ],
   "source": [
    "l"
   ]
  },
  {
   "cell_type": "code",
   "execution_count": 41,
   "metadata": {},
   "outputs": [
    {
     "data": {
      "text/plain": [
       "['cut_one_gait_cycle_right\\\\degeneration_15_1.c3d',\n",
       " 'cut_one_gait_cycle_right\\\\degeneration_15_2.c3d',\n",
       " 'cut_one_gait_cycle_right\\\\healthy_01_0.c3d',\n",
       " 'cut_one_gait_cycle_right\\\\healthy_08_0.c3d',\n",
       " 'cut_one_gait_cycle_right\\\\healthy_10_0.c3d',\n",
       " 'cut_one_gait_cycle_right\\\\healthy_12_0.c3d']"
      ]
     },
     "execution_count": 41,
     "metadata": {},
     "output_type": "execute_result"
    }
   ],
   "source": [
    "r"
   ]
  },
  {
   "cell_type": "code",
   "execution_count": null,
   "metadata": {},
   "outputs": [],
   "source": []
  }
 ],
 "metadata": {
  "kernelspec": {
   "display_name": "Python 3",
   "language": "python",
   "name": "python3"
  },
  "language_info": {
   "codemirror_mode": {
    "name": "ipython",
    "version": 3
   },
   "file_extension": ".py",
   "mimetype": "text/x-python",
   "name": "python",
   "nbconvert_exporter": "python",
   "pygments_lexer": "ipython3",
   "version": "3.7.9"
  }
 },
 "nbformat": 4,
 "nbformat_minor": 4
}
