{
 "cells": [
  {
   "cell_type": "code",
   "execution_count": 2,
   "metadata": {},
   "outputs": [
    {
     "ename": "SyntaxError",
     "evalue": "invalid syntax (<ipython-input-2-9a27ad2a81d9>, line 1)",
     "output_type": "error",
     "traceback": [
      "\u001b[1;36m  File \u001b[1;32m\"<ipython-input-2-9a27ad2a81d9>\"\u001b[1;36m, line \u001b[1;32m1\u001b[0m\n\u001b[1;33m    1. Baza danych(#baza)\u001b[0m\n\u001b[1;37m          ^\u001b[0m\n\u001b[1;31mSyntaxError\u001b[0m\u001b[1;31m:\u001b[0m invalid syntax\n"
     ]
    }
   ],
   "source": [
    "1. Baza danych(#baza)"
   ]
  },
  {
   "cell_type": "code",
   "execution_count": 3,
   "metadata": {},
   "outputs": [],
   "source": [
    "import btk\n",
    "from ezc3d import c3d\n",
    "import pandas as pd\n",
    "import numpy as np\n",
    "import glob\n",
    "import h5py\n",
    "import math\n",
    "from pyomeca import Markers"
   ]
  },
  {
   "cell_type": "code",
   "execution_count": 4,
   "metadata": {},
   "outputs": [],
   "source": [
    "def cropp_c3dfile(eventsFrame, filename, destiny):\n",
    "    reader = btk.btkAcquisitionFileReader()\n",
    "    reader.SetFilename(filename)\n",
    "    reader.Update()\n",
    "    acq = reader.GetOutput()\n",
    " \n",
    "    writer = btk.btkAcquisitionFileWriter()\n",
    "    \n",
    "    for i in range(0, len(eventsFrame)):\n",
    "        clone = acq.Clone();\n",
    "        clone.ResizeFrameNumberFromEnd(acq.GetLastFrame() - eventsFrame[i][0] + 1)\n",
    "        clone.ResizeFrameNumber(eventsFrame[i][1] - eventsFrame[i][0] + 1)\n",
    "        clone.SetFirstFrame(eventsFrame[i][0])\n",
    "        clone.ClearEvents()\n",
    "        for e in btk.Iterate(acq.GetEvents()):\n",
    "            if ((e.GetFrame() > clone.GetFirstFrame()) and (e.GetFrame() < clone.GetLastFrame())):\n",
    "                clone.AppendEvent(e)\n",
    "        clone.SetFirstFrame(1)\n",
    "        writer.SetInput(clone)\n",
    "        writer.SetFilename(destiny + '\\\\' + (filename.split('\\\\')[-1]).split('.')[0] + '.c3d')\n",
    "        writer.Update()"
   ]
  },
  {
   "cell_type": "code",
   "execution_count": 5,
   "metadata": {},
   "outputs": [],
   "source": [
    "path = f'medical_dataset_AK'"
   ]
  },
  {
   "cell_type": "code",
   "execution_count": 6,
   "metadata": {},
   "outputs": [],
   "source": [
    "filelist =[]\n",
    "for file in glob.glob(f'{path}\\\\**\\\\*.c3d',recursive = True):\n",
    "    filelist.append(file)"
   ]
  },
  {
   "cell_type": "code",
   "execution_count": 7,
   "metadata": {},
   "outputs": [],
   "source": [
    "def read_labels(sample):\n",
    "    e_label = pd.DataFrame(sample['parameters']['EVENT']['LABELS']['value'])\n",
    "    e_contexts = pd.DataFrame(sample['parameters']['EVENT']['CONTEXTS']['value'])\n",
    "\n",
    "    times = sample['parameters']['EVENT']['TIMES']['value']\n",
    "    e_frames = pd.DataFrame(times[1] * 100).astype(int)\n",
    "\n",
    "    event = pd.concat([e_label, e_contexts, e_frames], axis=1)\n",
    "    event.columns = ['label', 'context', 'frames']\n",
    "    event = event.set_index('frames')\n",
    "    event = event.sort_index(axis=0)\n",
    "\n",
    "    return event"
   ]
  },
  {
   "cell_type": "code",
   "execution_count": 8,
   "metadata": {},
   "outputs": [
    {
     "data": {
      "text/html": [
       "<div>\n",
       "<style scoped>\n",
       "    .dataframe tbody tr th:only-of-type {\n",
       "        vertical-align: middle;\n",
       "    }\n",
       "\n",
       "    .dataframe tbody tr th {\n",
       "        vertical-align: top;\n",
       "    }\n",
       "\n",
       "    .dataframe thead th {\n",
       "        text-align: right;\n",
       "    }\n",
       "</style>\n",
       "<table border=\"1\" class=\"dataframe\">\n",
       "  <thead>\n",
       "    <tr style=\"text-align: right;\">\n",
       "      <th>frames</th>\n",
       "      <th>146</th>\n",
       "      <th>171</th>\n",
       "      <th>225</th>\n",
       "      <th>244</th>\n",
       "      <th>298</th>\n",
       "      <th>309</th>\n",
       "      <th>365</th>\n",
       "      <th>374</th>\n",
       "      <th>434</th>\n",
       "      <th>444</th>\n",
       "      <th>501</th>\n",
       "      <th>511</th>\n",
       "      <th>571</th>\n",
       "      <th>580</th>\n",
       "      <th>636</th>\n",
       "      <th>646</th>\n",
       "      <th>709</th>\n",
       "      <th>725</th>\n",
       "      <th>802</th>\n",
       "    </tr>\n",
       "  </thead>\n",
       "  <tbody>\n",
       "    <tr>\n",
       "      <th>label</th>\n",
       "      <td>Foot Strike</td>\n",
       "      <td>Foot Off</td>\n",
       "      <td>Foot Strike</td>\n",
       "      <td>Foot Off</td>\n",
       "      <td>Foot Strike</td>\n",
       "      <td>Foot Off</td>\n",
       "      <td>Foot Strike</td>\n",
       "      <td>Foot Off</td>\n",
       "      <td>Foot Strike</td>\n",
       "      <td>Foot Off</td>\n",
       "      <td>Foot Strike</td>\n",
       "      <td>Foot Off</td>\n",
       "      <td>Foot Strike</td>\n",
       "      <td>Foot Off</td>\n",
       "      <td>Foot Strike</td>\n",
       "      <td>Foot Off</td>\n",
       "      <td>Foot Strike</td>\n",
       "      <td>Foot Off</td>\n",
       "      <td>Foot Off</td>\n",
       "    </tr>\n",
       "    <tr>\n",
       "      <th>context</th>\n",
       "      <td>Right</td>\n",
       "      <td>Left</td>\n",
       "      <td>Left</td>\n",
       "      <td>Right</td>\n",
       "      <td>Right</td>\n",
       "      <td>Left</td>\n",
       "      <td>Left</td>\n",
       "      <td>Right</td>\n",
       "      <td>Right</td>\n",
       "      <td>Left</td>\n",
       "      <td>Left</td>\n",
       "      <td>Right</td>\n",
       "      <td>Right</td>\n",
       "      <td>Left</td>\n",
       "      <td>Left</td>\n",
       "      <td>Right</td>\n",
       "      <td>Right</td>\n",
       "      <td>Left</td>\n",
       "      <td>Right</td>\n",
       "    </tr>\n",
       "  </tbody>\n",
       "</table>\n",
       "</div>"
      ],
      "text/plain": [
       "frames           146       171          225       244          298       309  \\\n",
       "label    Foot Strike  Foot Off  Foot Strike  Foot Off  Foot Strike  Foot Off   \n",
       "context        Right      Left         Left     Right        Right      Left   \n",
       "\n",
       "frames           365       374          434       444          501       511  \\\n",
       "label    Foot Strike  Foot Off  Foot Strike  Foot Off  Foot Strike  Foot Off   \n",
       "context         Left     Right        Right      Left         Left     Right   \n",
       "\n",
       "frames           571       580          636       646          709       725  \\\n",
       "label    Foot Strike  Foot Off  Foot Strike  Foot Off  Foot Strike  Foot Off   \n",
       "context        Right      Left         Left     Right        Right      Left   \n",
       "\n",
       "frames        802  \n",
       "label    Foot Off  \n",
       "context     Right  "
      ]
     },
     "execution_count": 8,
     "metadata": {},
     "output_type": "execute_result"
    }
   ],
   "source": [
    "sample = c3d('medical_dataset_AK\\degeneration\\degeneration_01.c3d')\n",
    "times = read_labels(sample).T\n",
    "times"
   ]
  },
  {
   "cell_type": "code",
   "execution_count": 9,
   "metadata": {},
   "outputs": [],
   "source": [
    "def get_one_step_time(sample, label, context):\n",
    "    df = read_labels(sample)\n",
    "    temp = [frame for frame in df.index if df['label'][frame] == label and df['context'][frame] == context]\n",
    "\n",
    "    return temp[0], temp[1]"
   ]
  },
  {
   "cell_type": "code",
   "execution_count": 10,
   "metadata": {},
   "outputs": [],
   "source": [
    "for file in filelist:\n",
    "    sample = c3d(file)\n",
    "    start, stop = get_one_step_time(sample, 'Foot Strike', 'Right')\n",
    "    eventsFrame = [[int(start), int(stop)]]\n",
    "    cropp_c3dfile(eventsFrame, file, 'cut')"
   ]
  },
  {
   "cell_type": "code",
   "execution_count": 11,
   "metadata": {},
   "outputs": [],
   "source": [
    "marker_list = ['LANK', 'RANK', 'LKNE', 'RKNE', 'LFIN', 'RFIN', 'LSHO', 'RSHO', 'LASI', 'RFHD','RWRA','RHEE','LHEE','CentreOfMass']"
   ]
  },
  {
   "cell_type": "code",
   "execution_count": 12,
   "metadata": {},
   "outputs": [
    {
     "data": {
      "text/plain": [
       "['cut\\\\degeneration_01.c3d',\n",
       " 'cut\\\\degeneration_02.c3d',\n",
       " 'cut\\\\degeneration_03.c3d',\n",
       " 'cut\\\\degeneration_04.c3d',\n",
       " 'cut\\\\degeneration_05.c3d',\n",
       " 'cut\\\\degeneration_06.c3d',\n",
       " 'cut\\\\degeneration_07.c3d',\n",
       " 'cut\\\\degeneration_08.c3d',\n",
       " 'cut\\\\degeneration_09.c3d',\n",
       " 'cut\\\\degeneration_10.c3d',\n",
       " 'cut\\\\degeneration_11.c3d',\n",
       " 'cut\\\\degeneration_12.c3d',\n",
       " 'cut\\\\degeneration_13.c3d',\n",
       " 'cut\\\\degeneration_14.c3d',\n",
       " 'cut\\\\degeneration_15.c3d',\n",
       " 'cut\\\\healthy_01.c3d',\n",
       " 'cut\\\\healthy_02.c3d',\n",
       " 'cut\\\\healthy_03.c3d',\n",
       " 'cut\\\\healthy_04.c3d',\n",
       " 'cut\\\\healthy_05.c3d',\n",
       " 'cut\\\\healthy_06.c3d',\n",
       " 'cut\\\\healthy_07.c3d',\n",
       " 'cut\\\\healthy_08.c3d',\n",
       " 'cut\\\\healthy_09.c3d',\n",
       " 'cut\\\\healthy_10.c3d',\n",
       " 'cut\\\\healthy_11.c3d',\n",
       " 'cut\\\\healthy_12.c3d',\n",
       " 'cut\\\\healthy_13.c3d',\n",
       " 'cut\\\\healthy_14.c3d',\n",
       " 'cut\\\\healthy_15.c3d']"
      ]
     },
     "execution_count": 12,
     "metadata": {},
     "output_type": "execute_result"
    }
   ],
   "source": [
    "path = f'cut'\n",
    "filelist =[]\n",
    "for file in glob.glob(f'{path}\\\\*.c3d',recursive = True):\n",
    "    filelist.append(file)\n",
    "filelist"
   ]
  },
  {
   "cell_type": "code",
   "execution_count": 13,
   "metadata": {},
   "outputs": [],
   "source": [
    "avg = 127"
   ]
  },
  {
   "cell_type": "code",
   "execution_count": 14,
   "metadata": {},
   "outputs": [],
   "source": [
    "from pyomeca import Markers"
   ]
  },
  {
   "cell_type": "code",
   "execution_count": 15,
   "metadata": {},
   "outputs": [],
   "source": [
    "def data_markers(data_path, marker_list):\n",
    "    data_markers = Markers.from_c3d(data_path, usecols=[marker_list[0]])\n",
    "    data_markers = data_markers.meca.time_normalize(n_frames=avg)\n",
    "    data_markers = data_markers.meca.to_wide_dataframe()\n",
    "    for i in range(len(marker_list)-1):\n",
    "        \n",
    "        tmp_markers = Markers.from_c3d(data_path, usecols=[marker_list[i+1]])\n",
    "        tmp_markers = tmp_markers.meca.time_normalize(n_frames=avg)  \n",
    "        tmp_markers = tmp_markers.meca.to_wide_dataframe()\n",
    "        data_markers = data_markers.join(tmp_markers)\n",
    " \n",
    "    cols = [c for c in data_markers.columns if c.lower()[:4] != 'ones']\n",
    "    markers_dataframe = data_markers[cols]\n",
    "    \n",
    "    return markers_dataframe"
   ]
  },
  {
   "cell_type": "code",
   "execution_count": 16,
   "metadata": {},
   "outputs": [
    {
     "data": {
      "text/plain": [
       "array([81.748909  , 81.61628517, 81.39627693, 81.07543546, 80.64097171,\n",
       "       80.07818192, 79.36220551, 78.50192854, 77.49314638, 76.33459691,\n",
       "       75.0215947 , 73.55195836, 71.94869486, 70.22211481, 68.384385  ,\n",
       "       66.44375865, 64.41728029, 62.32864319, 60.19479316, 58.03317327,\n",
       "       55.86234429, 53.70357005, 51.57489098, 49.49339282, 47.47512708,\n",
       "       45.54477904, 43.70984868, 41.9764655 , 40.350349  , 38.83395658,\n",
       "       37.44065185, 36.15207212, 34.95998637, 33.85575104, 32.83061921,\n",
       "       31.88209364, 30.99127769, 30.15083122, 29.35503672, 28.60113598,\n",
       "       27.88941023, 27.21436125, 26.5755736 , 25.97284468, 25.40784236,\n",
       "       24.88096237, 24.3878938 , 23.9272341 , 23.49742354, 23.09910329,\n",
       "       22.73035952, 22.38825716, 22.07217601, 21.78190928, 21.52056558,\n",
       "       21.28819263, 21.08616532, 20.91835485, 20.79006649, 20.71479664,\n",
       "       20.69733465, 20.74622878, 20.87191082, 21.08533859, 21.41374085,\n",
       "       21.85478259, 22.41870308, 23.1146642 , 23.95359169, 24.95634088,\n",
       "       26.10766919, 27.4066665 , 28.84884671, 30.43124538, 32.14529413,\n",
       "       33.95953769, 35.85219695, 37.79840512, 39.7709287 , 41.73672122,\n",
       "       43.66732376, 45.53854207, 47.33008606, 49.01702524, 50.59199524,\n",
       "       52.0576379 , 53.41587539, 54.67244248, 55.82631786, 56.89594293,\n",
       "       57.89388275, 58.82837677, 59.70585051, 60.52393178, 61.2914918 ,\n",
       "       62.00960698, 62.67790367, 63.29508748, 63.85421711, 64.36219025,\n",
       "       64.81973594, 65.2282779 , 65.58840325, 65.89970919, 66.17053634,\n",
       "       66.40427653, 66.60451108, 66.77351392, 66.91487667, 67.03498671,\n",
       "       67.13747878, 67.22569638, 67.30175018, 67.36805955, 67.42604065,\n",
       "       67.47492375, 67.51216646, 67.5307748 , 67.52312482, 67.47989485,\n",
       "       67.38882701, 67.23586225, 66.99412016, 66.65345147, 66.20025695,\n",
       "       65.62048861, 64.90222168])"
      ]
     },
     "execution_count": 16,
     "metadata": {},
     "output_type": "execute_result"
    }
   ],
   "source": [
    "dm = data_markers(filelist[0], marker_list)\n",
    "dat = np.array(dm['x_LASI'])\n",
    "dat"
   ]
  },
  {
   "cell_type": "code",
   "execution_count": 17,
   "metadata": {},
   "outputs": [],
   "source": [
    "def load_group(filenames):\n",
    "    \n",
    "    loaded = []\n",
    "    \n",
    "    for file in filenames:\n",
    "        try:\n",
    "            result = data_markers(file, marker_list)\n",
    "            loaded.append(result)\n",
    "        except:\n",
    "            print(file)\n",
    "\n",
    "    return loaded"
   ]
  },
  {
   "cell_type": "code",
   "execution_count": 18,
   "metadata": {},
   "outputs": [
    {
     "name": "stdout",
     "output_type": "stream",
     "text": [
      "cut\\healthy_01.c3d\n",
      "cut\\healthy_10.c3d\n",
      "cut\\healthy_14.c3d\n"
     ]
    }
   ],
   "source": [
    "group = load_group(filelist)"
   ]
  },
  {
   "cell_type": "markdown",
   "metadata": {},
   "source": [
    "### Brakuje 4 plików, dlaczego czas sie nie zgrywa?"
   ]
  },
  {
   "cell_type": "markdown",
   "metadata": {},
   "source": [
    "Baza danych <a name=\"baza\"></a>"
   ]
  },
  {
   "cell_type": "code",
   "execution_count": 19,
   "metadata": {},
   "outputs": [
    {
     "data": {
      "text/plain": [
       "(27, 127, 42)"
      ]
     },
     "execution_count": 19,
     "metadata": {},
     "output_type": "execute_result"
    }
   ],
   "source": [
    "x = np.stack(group)\n",
    "x.shape"
   ]
  },
  {
   "cell_type": "code",
   "execution_count": 20,
   "metadata": {},
   "outputs": [
    {
     "name": "stdout",
     "output_type": "stream",
     "text": [
      "(samples, timesteps, features) ->  (27, 127, 42)\n"
     ]
    }
   ],
   "source": [
    "print('(samples, timesteps, features) -> ', x.shape)"
   ]
  },
  {
   "cell_type": "markdown",
   "metadata": {},
   "source": [
    "Kolejność, 'LANK' dla x, y, z, 'RANK' dla x, y, z ...... itd."
   ]
  },
  {
   "cell_type": "code",
   "execution_count": 21,
   "metadata": {},
   "outputs": [],
   "source": [
    "def create_h5_basic(path, x):\n",
    "    f = h5py.File(path, mode='w')\n",
    "    f.create_dataset(\"x\", data=x)\n",
    "    f.close()"
   ]
  },
  {
   "cell_type": "code",
   "execution_count": 22,
   "metadata": {},
   "outputs": [],
   "source": [
    "def create_h5(path, x, y):\n",
    "    f = h5py.File(path, mode='w')\n",
    "    f.create_dataset(\"x\", data=x)\n",
    "    f.create_dataset(\"y\", data=y)\n",
    "    f.close()"
   ]
  },
  {
   "cell_type": "code",
   "execution_count": 23,
   "metadata": {},
   "outputs": [],
   "source": [
    "create_h5_basic(\"ak_basic.h5\", x)"
   ]
  },
  {
   "cell_type": "code",
   "execution_count": 24,
   "metadata": {},
   "outputs": [
    {
     "name": "stdout",
     "output_type": "stream",
     "text": [
      "['x']\n",
      "(samples, timesteps, features) ->  (27, 127, 42)\n"
     ]
    }
   ],
   "source": [
    "f=h5py.File(r'ak_basic.h5', 'r')\n",
    "print(list(f.keys()))\n",
    "x = f['x']\n",
    "print('(samples, timesteps, features) -> ', x.shape)"
   ]
  },
  {
   "cell_type": "markdown",
   "metadata": {},
   "source": [
    "# JRD"
   ]
  },
  {
   "cell_type": "code",
   "execution_count": 25,
   "metadata": {},
   "outputs": [],
   "source": [
    "import numpy as np\n",
    "\n",
    "def jrd_method(markers):\n",
    "    \n",
    "    #arrays with data\n",
    "    x_lank = np.array(markers['x_LANK'])\n",
    "    y_lank = np.array(markers['y_LANK'])\n",
    "    z_lank = np.array(markers['z_LANK'])\n",
    "    \n",
    "    x_rank = np.array(markers['x_RANK'])\n",
    "    y_rank = np.array(markers['y_RANK'])\n",
    "    z_rank = np.array(markers['z_RANK'])\n",
    "\n",
    "    #auxiliary tables\n",
    "    arr_distance_jrd = []\n",
    "    arr_left = []\n",
    "    arr_right = []\n",
    "    time = []\n",
    "    i = 0\n",
    "    x_2 = 0\n",
    "    y_2 = 0\n",
    "    z_2 = 0\n",
    "\n",
    "    while i < avg:\n",
    "    \n",
    "        x_2 = (x_lank[i] - x_rank[i]) ** 2\n",
    "        y_2 = (y_lank[i] - y_rank[i]) ** 2\n",
    "        z_2 = (z_lank[i] - z_rank[i]) ** 2\n",
    "        distance = math.sqrt(x_2+y_2+z_2)\n",
    "        \n",
    "        time.append(i)\n",
    "        arr_left.append(z_lank[i])\n",
    "        arr_right.append(z_rank[i])\n",
    "        arr_distance_jrd.append(distance)\n",
    "    \n",
    "        i += 1\n",
    "        \n",
    "    return arr_distance_jrd"
   ]
  },
  {
   "cell_type": "markdown",
   "metadata": {},
   "source": [
    "# JRA"
   ]
  },
  {
   "cell_type": "code",
   "execution_count": 26,
   "metadata": {},
   "outputs": [],
   "source": [
    "import numpy as np\n",
    "\n",
    "def jra_method(markers):\n",
    "    \n",
    "    #arrays with data\n",
    "    x_lasi = np.array(markers['x_LASI'])\n",
    "    y_lasi = np.array(markers['y_LASI'])\n",
    "    z_lasi = np.array(markers['z_LASI'])\n",
    "    \n",
    "    x_lkne = np.array(markers['x_LKNE'])\n",
    "    y_lkne = np.array(markers['y_LKNE'])\n",
    "    z_lkne = np.array(markers['z_LKNE'])\n",
    "    \n",
    "    x_lank = np.array(markers['x_LANK'])\n",
    "    y_lank = np.array(markers['y_LANK'])\n",
    "    z_lank = np.array(markers['z_LANK'])\n",
    "    \n",
    "    #auxiliary tables\n",
    "    first_dist = []\n",
    "    second_dist = []\n",
    "    distance = []\n",
    "    angle = []\n",
    "    time = []\n",
    "    \n",
    "    i = 0\n",
    "    xl = yl = zl = 0\n",
    "    xl_1 = yl_1 = zl_1 = 0\n",
    "\n",
    "    while i < avg:\n",
    "        \n",
    "        xl = (x_lasi[i] - x_lkne[i])\n",
    "        yl = (y_lasi[i] - y_lkne[i])\n",
    "        zl = (z_lasi[i] - z_lkne[i])\n",
    "        \n",
    "        xl_1 = (x_lkne[i] - x_lank[i])\n",
    "        yl_1 = (y_lkne[i] - y_lank[i])\n",
    "        zl_1 = (z_lkne[i] - z_lank[i])\n",
    "        \n",
    "        time.append(i)\n",
    "    \n",
    "        first_dist.append(math.sqrt((xl ** 2) + (yl ** 2) + (zl ** 2)))\n",
    "        second_dist.append(math.sqrt((xl_1 ** 2) + (yl_1 ** 2) + (zl_1 ** 2)))                   \n",
    "        distance.append(xl * xl_1 + yl * yl_1 + zl * zl_1)\n",
    "    \n",
    "        angle.append(math.acos(distance[i] / (first_dist[i] * second_dist[i])))\n",
    "        \n",
    "        i += 1\n",
    "        \n",
    "    return angle\n"
   ]
  },
  {
   "cell_type": "markdown",
   "metadata": {},
   "source": [
    "# HDF"
   ]
  },
  {
   "cell_type": "code",
   "execution_count": 27,
   "metadata": {},
   "outputs": [],
   "source": [
    "import numpy as np\n",
    "\n",
    "from scipy.stats import skew \n",
    "\n",
    "def hdf_method(markers):\n",
    "\n",
    "    #arrays with data\n",
    "    x_lank = np.array(markers['x_LANK'])\n",
    "    x_rank = np.array(markers['x_RANK'])\n",
    "    x_lkne = np.array(markers['x_LKNE'])\n",
    "    x_rkne = np.array(markers['x_RKNE'])\n",
    "    x_lfin = np.array(markers['x_LFIN'])\n",
    "    x_rfin = np.array(markers['x_RFIN'])\n",
    "    x_lsho = np.array(markers['x_LSHO'])\n",
    "    x_rsho = np.array(markers['x_RSHO'])\n",
    "    \n",
    "    #auxiliaty tables\n",
    "    #hd1 ankles\n",
    "    hd1 = []\n",
    "    hd1_x = 0\n",
    "    #hd2 knees\n",
    "    hd2 = []\n",
    "    hd2_x = 0\n",
    "    #hd3 wrists\n",
    "    hd3 = []\n",
    "    hd3_x = 0\n",
    "    #hd4 shoulders\n",
    "    hd4 = []\n",
    "    hd4_x = 0\n",
    "    \n",
    "    #variables\n",
    "    meanH = []\n",
    "    stdH = []\n",
    "    skewH = []\n",
    "    HDF = [] \n",
    "    hdf = []\n",
    "    time = []\n",
    "    i = 0\n",
    "    \n",
    "    while i < avg:\n",
    "    \n",
    "        hd1_x = (x_lank[i] - x_rank[i]) ** 2\n",
    "        hd1.append(math.sqrt(hd1_x))\n",
    "        \n",
    "        hd2_x = (x_lkne[i] - x_rkne[i]) ** 2\n",
    "        hd2.append(math.sqrt(hd2_x))\n",
    "        \n",
    "        hd3_x = (x_lfin[i] - x_rfin[i]) ** 2\n",
    "        hd3.append(math.sqrt(hd3_x))\n",
    "        \n",
    "        hd4_x = (x_lsho[i] - x_rsho[i]) ** 2\n",
    "        hd4.append(math.sqrt(hd4_x))\n",
    "        \n",
    "        time.append(i)\n",
    "        hdf = [hd1[i], hd2[i], hd3[i], hd4[i]]\n",
    "        \n",
    "        meanH.append(np.mean(hdf))\n",
    "        stdH.append(np.std(hdf))\n",
    "        skewH.append(skew(hdf))        \n",
    "        HDF.append([meanH, stdH, skewH])\n",
    "        \n",
    "        i += 1\n",
    "        \n",
    "    return HDF[0][0], HDF[0][1], HDF[0][2]"
   ]
  },
  {
   "cell_type": "markdown",
   "metadata": {},
   "source": [
    "# VDF"
   ]
  },
  {
   "cell_type": "code",
   "execution_count": 28,
   "metadata": {},
   "outputs": [],
   "source": [
    "import numpy as np\n",
    "\n",
    "def vdf_method(markers):\n",
    "    \n",
    "    #arrays with data\n",
    "    y_rfhd = np.array(markers['y_RFHD'])\n",
    "    y_rwra = np.array(markers['y_RWRA'])\n",
    "    y_rsho = np.array(markers['y_RSHO'])\n",
    "    y_rank = np.array(markers['y_RANK'])\n",
    "    y_lank = np.array(markers['y_LANK'])\n",
    "    y_rhee = np.array(markers['y_RHEE'])\n",
    "    y_lhee = np.array(markers['y_LHEE'])\n",
    "    y_centreOfMass = np.array(markers['y_CentreOfMass'])\n",
    "    \n",
    "    #auxiliary tables\n",
    "    #vd1 HEIGHT\n",
    "    vd1 = []\n",
    "    vd1_y = 0\n",
    "    #vd2 WRIST RIGHT\n",
    "    vd2 = []\n",
    "    vd2_y = 0\n",
    "    #vd3 SHOULDER RIGHT\n",
    "    vd3 = []\n",
    "    vd3_y = 0\n",
    "    #vd4 ANKLE RIGHT\n",
    "    vd4 = []\n",
    "    vd4_y = 0\n",
    "    #vd5 ANKLE LEFT\n",
    "    vd5 = []\n",
    "    vd5_y = 0\n",
    "    #vd6 DIST. FEET LEFT AND RIGHT\n",
    "    vd6 = []\n",
    "    vd6_y = 0\n",
    "    \n",
    "    #variables\n",
    "    meanV = []\n",
    "    stdV = []\n",
    "    VDF = [] \n",
    "    vdf = []\n",
    "    time = []\n",
    "    average = []\n",
    "    i = 0\n",
    "    \n",
    "    while i < avg:\n",
    "    \n",
    "        vd1_y = np.array(y_rfhd[i])\n",
    "        vd1.append(vd1_y)\n",
    "        \n",
    "        vd2_y = np.array(y_rwra[i])\n",
    "        vd2.append(vd2_y)\n",
    "        \n",
    "        vd3_y = np.array(y_rsho[i])\n",
    "        vd3.append(vd3_y)\n",
    "        \n",
    "        vd4_y = np.array(y_rank[i])\n",
    "        vd4.append(vd4_y)\n",
    "        \n",
    "        vd5_y = np.array(y_lank[i])\n",
    "        vd5.append(vd5_y)\n",
    "        \n",
    "        vd6_y = np.array((0.5 * (y_rhee[i] - y_lhee[i]) * y_centreOfMass[i]))\n",
    "        vd6.append(vd6_y)\n",
    "        \n",
    "        time.append(i)\n",
    "        \n",
    "        average = (vd1_y + vd2_y + vd3_y + vd4_y + vd5_y + vd6_y)\n",
    "        vdf = [vd1[i], vd2[i], vd3[i], vd4[i], vd5[i], vd6[i]]\n",
    "        \n",
    "        meanV.append(np.mean(average))\n",
    "        stdV.append(np.std(vdf))\n",
    "        VDF.append([meanV, stdV])\n",
    "        \n",
    "        i += 1\n",
    "        \n",
    "    return VDF[0][0], VDF[0][1]"
   ]
  },
  {
   "cell_type": "markdown",
   "metadata": {},
   "source": [
    "## New approach"
   ]
  },
  {
   "cell_type": "code",
   "execution_count": 33,
   "metadata": {},
   "outputs": [],
   "source": [
    "def data_features(data_path):\n",
    "    marker_list = ['LANK', 'RANK', 'LKNE', 'RKNE', 'LFIN', 'RFIN', 'LSHO', 'RSHO', 'LASI', 'RFHD','RWRA','RHEE','LHEE','CentreOfMass']\n",
    "    markers = data_markers(data_path, marker_list)\n",
    "    jrd = jrd_method(markers)\n",
    "    jra = jra_method(markers)\n",
    "    meanH, stdH, skewH = hdf_method(markers)\n",
    "    meanV, stdV = vdf_method(markers)\n",
    "    \n",
    "    result = [jrd, jra, meanH, stdH, skewH, meanV, stdV]\n",
    "    \n",
    "    return pd.DataFrame(result).T"
   ]
  },
  {
   "cell_type": "code",
   "execution_count": 34,
   "metadata": {},
   "outputs": [
    {
     "data": {
      "text/html": [
       "<div>\n",
       "<style scoped>\n",
       "    .dataframe tbody tr th:only-of-type {\n",
       "        vertical-align: middle;\n",
       "    }\n",
       "\n",
       "    .dataframe tbody tr th {\n",
       "        vertical-align: top;\n",
       "    }\n",
       "\n",
       "    .dataframe thead th {\n",
       "        text-align: right;\n",
       "    }\n",
       "</style>\n",
       "<table border=\"1\" class=\"dataframe\">\n",
       "  <thead>\n",
       "    <tr style=\"text-align: right;\">\n",
       "      <th></th>\n",
       "      <th>0</th>\n",
       "      <th>1</th>\n",
       "      <th>2</th>\n",
       "      <th>3</th>\n",
       "      <th>4</th>\n",
       "      <th>5</th>\n",
       "      <th>6</th>\n",
       "    </tr>\n",
       "  </thead>\n",
       "  <tbody>\n",
       "    <tr>\n",
       "      <th>0</th>\n",
       "      <td>465.300408</td>\n",
       "      <td>0.115936</td>\n",
       "      <td>325.351617</td>\n",
       "      <td>133.957345</td>\n",
       "      <td>0.711506</td>\n",
       "      <td>-423119.334219</td>\n",
       "      <td>162248.767781</td>\n",
       "    </tr>\n",
       "    <tr>\n",
       "      <th>1</th>\n",
       "      <td>466.316187</td>\n",
       "      <td>0.114198</td>\n",
       "      <td>325.363847</td>\n",
       "      <td>133.866037</td>\n",
       "      <td>0.714171</td>\n",
       "      <td>-422846.731320</td>\n",
       "      <td>162137.849766</td>\n",
       "    </tr>\n",
       "    <tr>\n",
       "      <th>2</th>\n",
       "      <td>466.845857</td>\n",
       "      <td>0.112334</td>\n",
       "      <td>325.374542</td>\n",
       "      <td>133.796605</td>\n",
       "      <td>0.716902</td>\n",
       "      <td>-422008.223288</td>\n",
       "      <td>161815.992006</td>\n",
       "    </tr>\n",
       "    <tr>\n",
       "      <th>3</th>\n",
       "      <td>467.038160</td>\n",
       "      <td>0.110398</td>\n",
       "      <td>325.387928</td>\n",
       "      <td>133.750138</td>\n",
       "      <td>0.719596</td>\n",
       "      <td>-420775.503278</td>\n",
       "      <td>161347.104380</td>\n",
       "    </tr>\n",
       "    <tr>\n",
       "      <th>4</th>\n",
       "      <td>467.033516</td>\n",
       "      <td>0.108464</td>\n",
       "      <td>325.410560</td>\n",
       "      <td>133.725369</td>\n",
       "      <td>0.722190</td>\n",
       "      <td>-419305.867428</td>\n",
       "      <td>160789.736369</td>\n",
       "    </tr>\n",
       "    <tr>\n",
       "      <th>...</th>\n",
       "      <td>...</td>\n",
       "      <td>...</td>\n",
       "      <td>...</td>\n",
       "      <td>...</td>\n",
       "      <td>...</td>\n",
       "      <td>...</td>\n",
       "      <td>...</td>\n",
       "    </tr>\n",
       "    <tr>\n",
       "      <th>122</th>\n",
       "      <td>408.301987</td>\n",
       "      <td>0.140139</td>\n",
       "      <td>333.049385</td>\n",
       "      <td>150.984911</td>\n",
       "      <td>0.744349</td>\n",
       "      <td>-208970.138279</td>\n",
       "      <td>80526.915828</td>\n",
       "    </tr>\n",
       "    <tr>\n",
       "      <th>123</th>\n",
       "      <td>415.853276</td>\n",
       "      <td>0.139225</td>\n",
       "      <td>332.657330</td>\n",
       "      <td>151.240664</td>\n",
       "      <td>0.740297</td>\n",
       "      <td>-212655.084197</td>\n",
       "      <td>81885.144201</td>\n",
       "    </tr>\n",
       "    <tr>\n",
       "      <th>124</th>\n",
       "      <td>421.655912</td>\n",
       "      <td>0.138264</td>\n",
       "      <td>332.285305</td>\n",
       "      <td>151.510600</td>\n",
       "      <td>0.736226</td>\n",
       "      <td>-215162.295449</td>\n",
       "      <td>82805.082572</td>\n",
       "    </tr>\n",
       "    <tr>\n",
       "      <th>125</th>\n",
       "      <td>425.899233</td>\n",
       "      <td>0.137337</td>\n",
       "      <td>331.954995</td>\n",
       "      <td>151.782401</td>\n",
       "      <td>0.732462</td>\n",
       "      <td>-216620.878523</td>\n",
       "      <td>83334.743518</td>\n",
       "    </tr>\n",
       "    <tr>\n",
       "      <th>126</th>\n",
       "      <td>428.809628</td>\n",
       "      <td>0.136574</td>\n",
       "      <td>331.688300</td>\n",
       "      <td>152.043671</td>\n",
       "      <td>0.729322</td>\n",
       "      <td>-217174.929296</td>\n",
       "      <td>83527.707693</td>\n",
       "    </tr>\n",
       "  </tbody>\n",
       "</table>\n",
       "<p>127 rows × 7 columns</p>\n",
       "</div>"
      ],
      "text/plain": [
       "              0         1           2           3         4              5  \\\n",
       "0    465.300408  0.115936  325.351617  133.957345  0.711506 -423119.334219   \n",
       "1    466.316187  0.114198  325.363847  133.866037  0.714171 -422846.731320   \n",
       "2    466.845857  0.112334  325.374542  133.796605  0.716902 -422008.223288   \n",
       "3    467.038160  0.110398  325.387928  133.750138  0.719596 -420775.503278   \n",
       "4    467.033516  0.108464  325.410560  133.725369  0.722190 -419305.867428   \n",
       "..          ...       ...         ...         ...       ...            ...   \n",
       "122  408.301987  0.140139  333.049385  150.984911  0.744349 -208970.138279   \n",
       "123  415.853276  0.139225  332.657330  151.240664  0.740297 -212655.084197   \n",
       "124  421.655912  0.138264  332.285305  151.510600  0.736226 -215162.295449   \n",
       "125  425.899233  0.137337  331.954995  151.782401  0.732462 -216620.878523   \n",
       "126  428.809628  0.136574  331.688300  152.043671  0.729322 -217174.929296   \n",
       "\n",
       "                 6  \n",
       "0    162248.767781  \n",
       "1    162137.849766  \n",
       "2    161815.992006  \n",
       "3    161347.104380  \n",
       "4    160789.736369  \n",
       "..             ...  \n",
       "122   80526.915828  \n",
       "123   81885.144201  \n",
       "124   82805.082572  \n",
       "125   83334.743518  \n",
       "126   83527.707693  \n",
       "\n",
       "[127 rows x 7 columns]"
      ]
     },
     "execution_count": 34,
     "metadata": {},
     "output_type": "execute_result"
    }
   ],
   "source": [
    "data = data_features(filelist[0])\n",
    "data"
   ]
  },
  {
   "cell_type": "code",
   "execution_count": 32,
   "metadata": {},
   "outputs": [],
   "source": [
    "import config as cfg"
   ]
  },
  {
   "cell_type": "code",
   "execution_count": 33,
   "metadata": {},
   "outputs": [
    {
     "name": "stdout",
     "output_type": "stream",
     "text": [
      "cut\\healthy_01.c3d\n",
      "cut\\healthy_10.c3d\n",
      "cut\\healthy_14.c3d\n"
     ]
    }
   ],
   "source": [
    "final_db = []\n",
    "final_label = []\n",
    "\n",
    "for file in filelist:\n",
    "    try:\n",
    "        db_features = data_features(file)\n",
    "        final_db.append(db_features)\n",
    "        final_label.append(file[4:-4].replace(\"_\", \"\"))\n",
    "    except:\n",
    "        print(file)"
   ]
  },
  {
   "cell_type": "markdown",
   "metadata": {},
   "source": [
    "Błąd został naprawiony."
   ]
  },
  {
   "cell_type": "code",
   "execution_count": 34,
   "metadata": {},
   "outputs": [
    {
     "data": {
      "text/plain": [
       "((27, 1),\n",
       "               File\n",
       " 0   degeneration01\n",
       " 1   degeneration02\n",
       " 2   degeneration03\n",
       " 3   degeneration04\n",
       " 4   degeneration05\n",
       " 5   degeneration06\n",
       " 6   degeneration07\n",
       " 7   degeneration08\n",
       " 8   degeneration09\n",
       " 9   degeneration10\n",
       " 10  degeneration11\n",
       " 11  degeneration12\n",
       " 12  degeneration13\n",
       " 13  degeneration14\n",
       " 14  degeneration15\n",
       " 15       healthy02\n",
       " 16       healthy03\n",
       " 17       healthy04\n",
       " 18       healthy05\n",
       " 19       healthy06\n",
       " 20       healthy07\n",
       " 21       healthy08\n",
       " 22       healthy09\n",
       " 23       healthy11\n",
       " 24       healthy12\n",
       " 25       healthy13\n",
       " 26       healthy15)"
      ]
     },
     "execution_count": 34,
     "metadata": {},
     "output_type": "execute_result"
    }
   ],
   "source": [
    "dbl = pd.DataFrame({'File' : pd.Series(final_label)})\n",
    "dbl.shape, dbl"
   ]
  },
  {
   "cell_type": "code",
   "execution_count": 35,
   "metadata": {},
   "outputs": [],
   "source": [
    "# create_h5('features_db_test6.h5', final_db, dbl)"
   ]
  },
  {
   "cell_type": "code",
   "execution_count": 36,
   "metadata": {},
   "outputs": [],
   "source": [
    "create_h5_basic('features_database_jrd_jra_one_cycle_right.h5', final_db)"
   ]
  },
  {
   "cell_type": "markdown",
   "metadata": {},
   "source": [
    "Lista nazw plików ---->"
   ]
  },
  {
   "cell_type": "code",
   "execution_count": 36,
   "metadata": {},
   "outputs": [
    {
     "data": {
      "text/plain": [
       "['degeneration01',\n",
       " 'degeneration02',\n",
       " 'degeneration03',\n",
       " 'degeneration04',\n",
       " 'degeneration05',\n",
       " 'degeneration06',\n",
       " 'degeneration07',\n",
       " 'degeneration08',\n",
       " 'degeneration09',\n",
       " 'degeneration10',\n",
       " 'degeneration11',\n",
       " 'degeneration12',\n",
       " 'degeneration13',\n",
       " 'degeneration14',\n",
       " 'degeneration15',\n",
       " 'healthy02',\n",
       " 'healthy03',\n",
       " 'healthy04',\n",
       " 'healthy05',\n",
       " 'healthy06',\n",
       " 'healthy07',\n",
       " 'healthy09',\n",
       " 'healthy11',\n",
       " 'healthy13',\n",
       " 'healthy14',\n",
       " 'healthy15']"
      ]
     },
     "execution_count": 36,
     "metadata": {},
     "output_type": "execute_result"
    }
   ],
   "source": [
    "final_label"
   ]
  },
  {
   "cell_type": "code",
   "execution_count": null,
   "metadata": {},
   "outputs": [],
   "source": []
  }
 ],
 "metadata": {
  "kernelspec": {
   "display_name": "Python 3",
   "language": "python",
   "name": "python3"
  },
  "language_info": {
   "codemirror_mode": {
    "name": "ipython",
    "version": 3
   },
   "file_extension": ".py",
   "mimetype": "text/x-python",
   "name": "python",
   "nbconvert_exporter": "python",
   "pygments_lexer": "ipython3",
   "version": "3.7.9"
  }
 },
 "nbformat": 4,
 "nbformat_minor": 4
}
