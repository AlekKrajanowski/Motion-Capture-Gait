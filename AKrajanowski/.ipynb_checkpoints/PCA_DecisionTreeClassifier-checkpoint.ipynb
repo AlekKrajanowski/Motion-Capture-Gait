{
 "cells": [
  {
   "cell_type": "code",
   "execution_count": 1,
   "metadata": {},
   "outputs": [],
   "source": [
    "import matplotlib.pyplot as plt\n",
    "import pandas as pd\n",
    "import numpy as np\n",
    "import seaborn as sns\n",
    "import h5py\n",
    "import glob\n",
    "from sklearn.preprocessing import StandardScaler\n",
    "from sklearn.tree import DecisionTreeClassifier\n",
    "import random"
   ]
  },
  {
   "cell_type": "code",
   "execution_count": 2,
   "metadata": {},
   "outputs": [
    {
     "name": "stdout",
     "output_type": "stream",
     "text": [
      "['left', 'right']\n",
      "(samples, timesteps, features) (74, 132, 7)\n"
     ]
    }
   ],
   "source": [
    "f=h5py.File(r'features_database_gait_one_cycles_both_legs.h5', 'r')\n",
    "print(list(f.keys()))\n",
    "x = f['right'][:,:,:]\n",
    "print('(samples, timesteps, features)', x.shape)"
   ]
  },
  {
   "cell_type": "code",
   "execution_count": 3,
   "metadata": {},
   "outputs": [],
   "source": [
    "path = f'cut_one_gait_cycle_right'\n",
    "filelist =[]\n",
    "digits =[]\n",
    "digits_int =[]\n",
    "for file in glob.glob(f'{path}\\\\*.c3d',recursive = True):\n",
    "    filelist.append(file[4:-4].replace(\"_\", \"\"))\n",
    "    digits.append(file[25:-9])\n",
    "\n",
    "for ele in digits:\n",
    "    digits_int.append(1) if ele=='degeneration' else digits_int.append(0)"
   ]
  },
  {
   "cell_type": "code",
   "execution_count": 7,
   "metadata": {},
   "outputs": [],
   "source": [
    "nsamples, nx, ny = x.shape\n",
    "d2_x = x.reshape((nsamples,nx*ny))"
   ]
  },
  {
   "cell_type": "code",
   "execution_count": 8,
   "metadata": {},
   "outputs": [
    {
     "data": {
      "text/plain": [
       "array([[-0.92125674, -0.6165565 , -0.69867153, ...,  0.1108021 ,\n",
       "        -1.26665914, -0.17671998],\n",
       "       [-1.29455354, -0.3242606 , -0.44893282, ..., -0.206346  ,\n",
       "        -0.59028727, -1.36097123],\n",
       "       [-0.85459138, -0.60811885, -0.7751116 , ..., -0.34795983,\n",
       "         0.28792832, -0.34046659],\n",
       "       ...,\n",
       "       [ 1.03513362, -0.76945603, -1.2987694 , ...,  0.65662284,\n",
       "         1.00996164,  0.90237715],\n",
       "       [ 1.908187  , -0.90759249, -0.6421859 , ...,  0.61504368,\n",
       "        -0.57523387, -1.39050083],\n",
       "       [ 1.03513362, -0.76945603, -1.2987694 , ...,  0.65662284,\n",
       "         1.00996164,  0.90237715]])"
      ]
     },
     "execution_count": 8,
     "metadata": {},
     "output_type": "execute_result"
    }
   ],
   "source": [
    "scaler = StandardScaler()\n",
    "scaled_data = scaler.fit_transform(d2_x)\n",
    "scaled_data"
   ]
  },
  {
   "cell_type": "code",
   "execution_count": 9,
   "metadata": {},
   "outputs": [],
   "source": [
    "from sklearn.decomposition import PCA \n",
    "components = min(74, 7)\n",
    "pca = PCA(n_components=components, svd_solver='full')\n",
    "X_pca = pca.fit_transform(scaled_data)"
   ]
  },
  {
   "cell_type": "code",
   "execution_count": 10,
   "metadata": {},
   "outputs": [
    {
     "data": {
      "text/plain": [
       "DecisionTreeClassifier()"
      ]
     },
     "execution_count": 10,
     "metadata": {},
     "output_type": "execute_result"
    }
   ],
   "source": [
    "classifier = DecisionTreeClassifier()\n",
    "classifier.fit(X_pca, digits_int)"
   ]
  },
  {
   "cell_type": "code",
   "execution_count": 25,
   "metadata": {},
   "outputs": [],
   "source": [
    "newdata_transformed = pca.transform(scaled_data)\n",
    "random.shuffle(newdata_transformed)"
   ]
  },
  {
   "cell_type": "code",
   "execution_count": 27,
   "metadata": {},
   "outputs": [
    {
     "data": {
      "text/plain": [
       "array([1, 1, 1, 1, 1, 1, 1, 1, 1, 1, 1, 1, 1, 1, 1, 1, 1, 1, 1, 1, 0, 1,\n",
       "       1, 1, 1, 1, 1, 1, 1, 1, 1, 1, 1, 1, 1, 1, 1, 1, 1, 1, 1, 1, 1, 1,\n",
       "       1, 1, 1, 1, 1, 1, 0, 1, 1, 1, 1, 1, 1, 1, 1, 1, 1, 1, 1, 1, 1, 1,\n",
       "       1, 0, 1, 1, 1, 1, 1, 1])"
      ]
     },
     "execution_count": 27,
     "metadata": {},
     "output_type": "execute_result"
    }
   ],
   "source": [
    "pred_labels = classifier.predict(newdata_transformed)\n",
    "pred_labels"
   ]
  },
  {
   "cell_type": "code",
   "execution_count": null,
   "metadata": {},
   "outputs": [],
   "source": []
  }
 ],
 "metadata": {
  "kernelspec": {
   "display_name": "Python 3",
   "language": "python",
   "name": "python3"
  },
  "language_info": {
   "codemirror_mode": {
    "name": "ipython",
    "version": 3
   },
   "file_extension": ".py",
   "mimetype": "text/x-python",
   "name": "python",
   "nbconvert_exporter": "python",
   "pygments_lexer": "ipython3",
   "version": "3.7.9"
  }
 },
 "nbformat": 4,
 "nbformat_minor": 4
}
