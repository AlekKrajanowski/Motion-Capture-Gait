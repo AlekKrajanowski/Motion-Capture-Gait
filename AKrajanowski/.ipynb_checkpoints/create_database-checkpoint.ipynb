{
 "cells": [
  {
   "cell_type": "code",
   "execution_count": 1,
   "metadata": {},
   "outputs": [],
   "source": [
    "import btk\n",
    "from ezc3d import c3d\n",
    "import pandas as pd\n",
    "import numpy as np\n",
    "import glob"
   ]
  },
  {
   "cell_type": "code",
   "execution_count": 2,
   "metadata": {},
   "outputs": [],
   "source": [
    "def cropp_c3dfile(eventsFrame, filename, destiny, no):\n",
    "    \"\"\"\n",
    "    Funkcja oddzielajaca pojedyncze ruchy w odrebne pliki na podstawie danych o markerach.\n",
    "    \n",
    "    Input:\n",
    "    -eventsFrame - poczatek i koniec wycinka w formacie [[a,b],[a,b],...]\n",
    "    -filename - sciezka pliku do podzielenia\n",
    "    -destiny - sciezka, do ktorej zostana zapisane wyodrebnione czesci\n",
    "    \n",
    "    Output:\n",
    "    - Podzielone pliki c3d zawierajace dane o pojedynczym ruchu\n",
    "    \n",
    "    \"\"\"\n",
    "    reader = btk.btkAcquisitionFileReader()\n",
    "    reader.SetFilename(filename)\n",
    "    reader.Update()\n",
    "    acq = reader.GetOutput()\n",
    " \n",
    "    writer = btk.btkAcquisitionFileWriter()\n",
    "    \n",
    "    for i in range(0, len(eventsFrame)):\n",
    "        clone = acq.Clone();\n",
    "        clone.ResizeFrameNumberFromEnd(acq.GetLastFrame() - eventsFrame[i][0] + 1)\n",
    "        clone.ResizeFrameNumber(eventsFrame[i][1] - eventsFrame[i][0] + 1)\n",
    "        clone.SetFirstFrame(eventsFrame[i][0])\n",
    "        clone.ClearEvents()\n",
    "        for e in btk.Iterate(acq.GetEvents()):\n",
    "            if ((e.GetFrame() > clone.GetFirstFrame()) and (e.GetFrame() < clone.GetLastFrame())):\n",
    "                clone.AppendEvent(e)\n",
    "        clone.SetFirstFrame(1)\n",
    "        writer.SetInput(clone)\n",
    "        writer.SetFilename(destiny + '\\\\' + (filename.split('\\\\')[-1]).split('.')[0] + '_' + str(no) +'.c3d')\n",
    "        writer.Update()"
   ]
  },
  {
   "cell_type": "code",
   "execution_count": 3,
   "metadata": {},
   "outputs": [],
   "source": [
    "path = f'medical_dataset_AK'"
   ]
  },
  {
   "cell_type": "code",
   "execution_count": 4,
   "metadata": {},
   "outputs": [],
   "source": [
    "filelist =[]\n",
    "for file in glob.glob(f'{path}\\\\**\\\\*.c3d',recursive = True):\n",
    "    filelist.append(file)"
   ]
  },
  {
   "cell_type": "code",
   "execution_count": 5,
   "metadata": {},
   "outputs": [],
   "source": [
    "def read_labels(sample):\n",
    "    e_label = pd.DataFrame(sample['parameters']['EVENT']['LABELS']['value'])\n",
    "    e_contexts = pd.DataFrame(sample['parameters']['EVENT']['CONTEXTS']['value'])\n",
    "\n",
    "    times = pd.DataFrame(sample['parameters']['EVENT']['TIMES']['value'])\n",
    "    e_frames = pd.DataFrame([value * 100 for value in times if value != 0]).astype(int)\n",
    "\n",
    "    event = pd.concat([e_label, e_contexts, e_frames], axis=1)\n",
    "    event.columns = ['label', 'context', 'frames']\n",
    "    event = event.set_index('frames')\n",
    "    event = event.sort_index(axis=0)\n",
    "\n",
    "    return event"
   ]
  },
  {
   "cell_type": "code",
   "execution_count": 6,
   "metadata": {},
   "outputs": [],
   "source": [
    "def get_one_step_time(sample, label, context, i):\n",
    "    df = read_labels(sample)\n",
    "    temp = [frame for frame in df.index if df['label'][frame] == label and df['context'][frame] == context]\n",
    "    \n",
    "    if(len(temp) < 4):\n",
    "        return temp[0], temp[1]\n",
    "    else:\n",
    "        return temp[i], temp[i+1]"
   ]
  },
  {
   "cell_type": "code",
   "execution_count": 7,
   "metadata": {},
   "outputs": [
    {
     "name": "stdout",
     "output_type": "stream",
     "text": [
      "medical_dataset_AK\\degeneration\\degeneration_10.c3d\n",
      "medical_dataset_AK\\degeneration\\degeneration_15.c3d\n"
     ]
    }
   ],
   "source": [
    "for file in filelist:\n",
    "    sample = c3d(file)\n",
    "    i=0\n",
    "    while i < 4:\n",
    "        try:\n",
    "            start, stop = get_one_step_time(sample, 'Foot Strike', 'Right', i)\n",
    "            eventsFrame = [[int(start), int(stop)]]\n",
    "            cropp_c3dfile(eventsFrame, file, 'cut_new', i)\n",
    "        except:\n",
    "            print(file)\n",
    "        i+=2"
   ]
  },
  {
   "cell_type": "code",
   "execution_count": 8,
   "metadata": {},
   "outputs": [],
   "source": [
    "marker_list = ['LANK', 'RANK', 'LKNE', 'RKNE', 'LFIN', 'RFIN', 'LSHO', 'RSHO', 'LASI', 'RFHD','RWRA','RHEE','LHEE','CentreOfMass']"
   ]
  },
  {
   "cell_type": "code",
   "execution_count": 9,
   "metadata": {},
   "outputs": [
    {
     "data": {
      "text/plain": [
       "['cut_new\\\\degeneration_01_0.c3d',\n",
       " 'cut_new\\\\degeneration_01_2.c3d',\n",
       " 'cut_new\\\\degeneration_02_0.c3d',\n",
       " 'cut_new\\\\degeneration_02_2.c3d',\n",
       " 'cut_new\\\\degeneration_03_0.c3d',\n",
       " 'cut_new\\\\degeneration_03_2.c3d',\n",
       " 'cut_new\\\\degeneration_04_0.c3d',\n",
       " 'cut_new\\\\degeneration_04_2.c3d',\n",
       " 'cut_new\\\\degeneration_05_0.c3d',\n",
       " 'cut_new\\\\degeneration_05_2.c3d',\n",
       " 'cut_new\\\\degeneration_06_0.c3d',\n",
       " 'cut_new\\\\degeneration_06_2.c3d',\n",
       " 'cut_new\\\\degeneration_07_0.c3d',\n",
       " 'cut_new\\\\degeneration_07_2.c3d',\n",
       " 'cut_new\\\\degeneration_08_0.c3d',\n",
       " 'cut_new\\\\degeneration_08_2.c3d',\n",
       " 'cut_new\\\\degeneration_09_0.c3d',\n",
       " 'cut_new\\\\degeneration_09_2.c3d',\n",
       " 'cut_new\\\\degeneration_10_0.c3d',\n",
       " 'cut_new\\\\degeneration_11_0.c3d',\n",
       " 'cut_new\\\\degeneration_11_2.c3d',\n",
       " 'cut_new\\\\degeneration_12_0.c3d',\n",
       " 'cut_new\\\\degeneration_12_2.c3d',\n",
       " 'cut_new\\\\degeneration_13_0.c3d',\n",
       " 'cut_new\\\\degeneration_13_2.c3d',\n",
       " 'cut_new\\\\degeneration_14_0.c3d',\n",
       " 'cut_new\\\\degeneration_14_2.c3d',\n",
       " 'cut_new\\\\degeneration_15_0.c3d',\n",
       " 'cut_new\\\\healthy_01_0.c3d',\n",
       " 'cut_new\\\\healthy_01_2.c3d',\n",
       " 'cut_new\\\\healthy_02_0.c3d',\n",
       " 'cut_new\\\\healthy_02_2.c3d',\n",
       " 'cut_new\\\\healthy_03_0.c3d',\n",
       " 'cut_new\\\\healthy_03_2.c3d',\n",
       " 'cut_new\\\\healthy_04_0.c3d',\n",
       " 'cut_new\\\\healthy_04_2.c3d',\n",
       " 'cut_new\\\\healthy_05_0.c3d',\n",
       " 'cut_new\\\\healthy_05_2.c3d',\n",
       " 'cut_new\\\\healthy_06_0.c3d',\n",
       " 'cut_new\\\\healthy_06_2.c3d',\n",
       " 'cut_new\\\\healthy_07_0.c3d',\n",
       " 'cut_new\\\\healthy_07_2.c3d',\n",
       " 'cut_new\\\\healthy_08_0.c3d',\n",
       " 'cut_new\\\\healthy_08_2.c3d',\n",
       " 'cut_new\\\\healthy_09_0.c3d',\n",
       " 'cut_new\\\\healthy_09_2.c3d',\n",
       " 'cut_new\\\\healthy_10_0.c3d',\n",
       " 'cut_new\\\\healthy_10_2.c3d',\n",
       " 'cut_new\\\\healthy_11_0.c3d',\n",
       " 'cut_new\\\\healthy_11_2.c3d',\n",
       " 'cut_new\\\\healthy_12_0.c3d',\n",
       " 'cut_new\\\\healthy_12_2.c3d',\n",
       " 'cut_new\\\\healthy_13_0.c3d',\n",
       " 'cut_new\\\\healthy_13_2.c3d',\n",
       " 'cut_new\\\\healthy_14_0.c3d',\n",
       " 'cut_new\\\\healthy_14_2.c3d',\n",
       " 'cut_new\\\\healthy_15_0.c3d',\n",
       " 'cut_new\\\\healthy_15_2.c3d']"
      ]
     },
     "execution_count": 9,
     "metadata": {},
     "output_type": "execute_result"
    }
   ],
   "source": [
    "path = f'cut_new'\n",
    "filelist =[]\n",
    "for file in glob.glob(f'{path}\\\\*.c3d',recursive = True):\n",
    "    filelist.append(file)\n",
    "filelist"
   ]
  },
  {
   "cell_type": "code",
   "execution_count": 10,
   "metadata": {},
   "outputs": [],
   "source": [
    "avg = 127"
   ]
  },
  {
   "cell_type": "code",
   "execution_count": 11,
   "metadata": {},
   "outputs": [],
   "source": [
    "from pyomeca import Markers"
   ]
  },
  {
   "cell_type": "code",
   "execution_count": 12,
   "metadata": {},
   "outputs": [],
   "source": [
    "def data_markers(data_path, marker_list):\n",
    "    data_markers = Markers.from_c3d(data_path, usecols=[marker_list[0]])\n",
    "    data_markers = data_markers.meca.time_normalize(n_frames=avg)\n",
    "    data_markers = data_markers.meca.to_wide_dataframe()\n",
    "    for i in range(len(marker_list)-1):\n",
    "        \n",
    "        tmp_markers = Markers.from_c3d(data_path, usecols=[marker_list[i+1]])\n",
    "        tmp_markers = tmp_markers.meca.time_normalize(n_frames=avg)  \n",
    "        tmp_markers = tmp_markers.meca.to_wide_dataframe()\n",
    "        data_markers = data_markers.join(tmp_markers)\n",
    "\n",
    "        \n",
    "    cols = [c for c in data_markers.columns if c.lower()[:4] != 'ones']\n",
    "    markers_dataframe = data_markers[cols]\n",
    "    \n",
    "    return markers_dataframe"
   ]
  },
  {
   "cell_type": "code",
   "execution_count": 13,
   "metadata": {},
   "outputs": [
    {
     "data": {
      "text/plain": [
       "array([25.00046921, 23.75365064, 22.721101  , 21.87952496, 21.22605872,\n",
       "       20.79964738, 20.71033387, 21.14287525, 22.30504672, 24.39099366,\n",
       "       27.51376376, 31.63470607, 36.51132929, 41.68544806, 46.62970946,\n",
       "       50.94900513, 54.50946287, 57.40847245, 59.81489073, 61.84453304,\n",
       "       63.51898115, 64.83124542, 65.79810866, 66.46765282, 66.90486763,\n",
       "       67.18749879, 67.37931376, 67.50574929, 67.51111009, 67.21933504,\n",
       "       66.34667787, 64.60599772, 61.80819466, 57.94948287, 53.223561  ,\n",
       "       47.96006351, 42.54882486, 37.33136307, 32.53716974, 28.27498327,\n",
       "       24.57982036, 21.46324554, 18.87195079, 16.68851701, 14.75829797,\n",
       "       12.96051788, 11.26190101,  9.72013566,  8.43915985,  7.53341892,\n",
       "        7.10135819,  7.22007522,  7.96930816,  9.45691922, 11.82408687,\n",
       "       15.18758471, 19.47852071, 24.33565794, 29.18816848, 33.52032507,\n",
       "       37.09624027, 39.95418216, 42.28327821, 44.29354858, 46.1307852 ,\n",
       "       47.84519377, 49.40524764, 50.77587243, 51.99235747, 53.15521422,\n",
       "       54.32458242, 55.39772361, 56.07778386, 55.9426344 , 54.58858865,\n",
       "       51.78716278, 47.63903748, 42.54224947, 37.0252255 , 31.59631087,\n",
       "       26.62841555, 22.31718663, 18.66490013, 15.57959196, 12.96955172,\n",
       "       10.79480795,  9.05128281,  7.71814212,  6.70507198,  5.88948212,\n",
       "        5.15871899,  4.46563074,  3.87800108,  3.60096079,  3.93731882,\n",
       "        5.21397858,  7.68460124, 11.44167039, 16.34834141, 21.96531868,\n",
       "       27.66046978, 32.84173484, 37.20185761, 40.79548155, 43.89546198,\n",
       "       46.78507996, 49.5783695 , 52.20023431, 54.46293259, 56.21144419,\n",
       "       57.46126914, 58.43709056, 59.4175538 , 60.55454375, 61.75266211,\n",
       "       62.67175989, 62.83281024, 61.79731641, 59.31449442, 55.44364166,\n",
       "       50.55303537, 45.18214665, 39.8626399 , 34.96730477, 30.71007868,\n",
       "       27.19505567, 24.45067978])"
      ]
     },
     "execution_count": 13,
     "metadata": {},
     "output_type": "execute_result"
    }
   ],
   "source": [
    "dm = data_markers(filelist[0], marker_list)\n",
    "dat = np.array(dm['x_LASI'])\n",
    "dat"
   ]
  },
  {
   "cell_type": "code",
   "execution_count": 14,
   "metadata": {},
   "outputs": [],
   "source": [
    "def load_group(filenames):\n",
    "    \n",
    "    loaded = []\n",
    "    \n",
    "    for file in filenames:\n",
    "        try:\n",
    "            result = data_markers(file, marker_list)\n",
    "            loaded.append(result)\n",
    "        except:\n",
    "            print(file)\n",
    "\n",
    "    return loaded"
   ]
  },
  {
   "cell_type": "code",
   "execution_count": 15,
   "metadata": {},
   "outputs": [],
   "source": [
    "group = load_group(filelist)"
   ]
  },
  {
   "cell_type": "code",
   "execution_count": 16,
   "metadata": {},
   "outputs": [
    {
     "data": {
      "text/plain": [
       "(58, 127, 42)"
      ]
     },
     "execution_count": 16,
     "metadata": {},
     "output_type": "execute_result"
    }
   ],
   "source": [
    "x = np.stack(group)\n",
    "x.shape"
   ]
  },
  {
   "cell_type": "code",
   "execution_count": 17,
   "metadata": {},
   "outputs": [
    {
     "name": "stdout",
     "output_type": "stream",
     "text": [
      "(samples, timesteps, features) ->  (58, 127, 42)\n"
     ]
    }
   ],
   "source": [
    "print('(samples, timesteps, features) -> ', x.shape)"
   ]
  },
  {
   "cell_type": "code",
   "execution_count": 18,
   "metadata": {},
   "outputs": [],
   "source": [
    "import h5py"
   ]
  },
  {
   "cell_type": "code",
   "execution_count": 19,
   "metadata": {},
   "outputs": [],
   "source": [
    "def create_h5_basic(path, x):\n",
    "    f = h5py.File(path, mode='w')\n",
    "    f.create_dataset(\"x\", data=x)\n",
    "    f.close()"
   ]
  },
  {
   "cell_type": "code",
   "execution_count": 20,
   "metadata": {},
   "outputs": [],
   "source": [
    "def create_h5(path, x, y):\n",
    "    f = h5py.File(path, mode='w')\n",
    "    f.create_dataset(\"x\", data=x)\n",
    "    f.create_dataset(\"y\", data=y)\n",
    "    f.close()"
   ]
  },
  {
   "cell_type": "markdown",
   "metadata": {},
   "source": [
    "# JRD"
   ]
  },
  {
   "cell_type": "code",
   "execution_count": 21,
   "metadata": {},
   "outputs": [],
   "source": [
    "import math"
   ]
  },
  {
   "cell_type": "code",
   "execution_count": 22,
   "metadata": {},
   "outputs": [],
   "source": [
    "import numpy as np\n",
    "\n",
    "def jrd_method(markers):\n",
    "    \n",
    "    #arrays with data\n",
    "    x_lank = np.array(markers['x_LANK'])\n",
    "    y_lank = np.array(markers['y_LANK'])\n",
    "    z_lank = np.array(markers['z_LANK'])\n",
    "    \n",
    "    x_rank = np.array(markers['x_RANK'])\n",
    "    y_rank = np.array(markers['y_RANK'])\n",
    "    z_rank = np.array(markers['z_RANK'])\n",
    "\n",
    "    #auxiliary tables\n",
    "    arr_distance_jrd = []\n",
    "    arr_left = []\n",
    "    arr_right = []\n",
    "    time = []\n",
    "    i = 0\n",
    "    x_2 = 0\n",
    "    y_2 = 0\n",
    "    z_2 = 0\n",
    "\n",
    "    while i < avg:\n",
    "    \n",
    "        x_2 = (x_lank[i] - x_rank[i]) ** 2\n",
    "        y_2 = (y_lank[i] - y_rank[i]) ** 2\n",
    "        z_2 = (z_lank[i] - z_rank[i]) ** 2\n",
    "        distance = math.sqrt(x_2+y_2+z_2)\n",
    "        \n",
    "        time.append(i)\n",
    "        arr_left.append(z_lank[i])\n",
    "        arr_right.append(z_rank[i])\n",
    "        arr_distance_jrd.append(distance)\n",
    "    \n",
    "        i += 1\n",
    "        \n",
    "    return arr_distance_jrd"
   ]
  },
  {
   "cell_type": "markdown",
   "metadata": {},
   "source": [
    "# JRA"
   ]
  },
  {
   "cell_type": "code",
   "execution_count": 23,
   "metadata": {},
   "outputs": [],
   "source": [
    "import numpy as np\n",
    "\n",
    "def jra_method(markers):\n",
    "    \n",
    "    #arrays with data\n",
    "    x_lasi = np.array(markers['x_LASI'])\n",
    "    y_lasi = np.array(markers['y_LASI'])\n",
    "    z_lasi = np.array(markers['z_LASI'])\n",
    "    \n",
    "    x_lkne = np.array(markers['x_LKNE'])\n",
    "    y_lkne = np.array(markers['y_LKNE'])\n",
    "    z_lkne = np.array(markers['z_LKNE'])\n",
    "    \n",
    "    x_lank = np.array(markers['x_LANK'])\n",
    "    y_lank = np.array(markers['y_LANK'])\n",
    "    z_lank = np.array(markers['z_LANK'])\n",
    "    \n",
    "    #auxiliary tables\n",
    "    first_dist = []\n",
    "    second_dist = []\n",
    "    distance = []\n",
    "    angle = []\n",
    "    time = []\n",
    "    \n",
    "    i = 0\n",
    "    xl = yl = zl = 0\n",
    "    xl_1 = yl_1 = zl_1 = 0\n",
    "\n",
    "    while i < avg:\n",
    "        \n",
    "        xl = (x_lasi[i] - x_lkne[i])\n",
    "        yl = (y_lasi[i] - y_lkne[i])\n",
    "        zl = (z_lasi[i] - z_lkne[i])\n",
    "        \n",
    "        xl_1 = (x_lkne[i] - x_lank[i])\n",
    "        yl_1 = (y_lkne[i] - y_lank[i])\n",
    "        zl_1 = (z_lkne[i] - z_lank[i])\n",
    "        \n",
    "        time.append(i)\n",
    "    \n",
    "        first_dist.append(math.sqrt((xl ** 2) + (yl ** 2) + (zl ** 2)))\n",
    "        second_dist.append(math.sqrt((xl_1 ** 2) + (yl_1 ** 2) + (zl_1 ** 2)))                   \n",
    "        distance.append(xl * xl_1 + yl * yl_1 + zl * zl_1)\n",
    "    \n",
    "        angle.append(math.acos(distance[i] / (first_dist[i] * second_dist[i])))\n",
    "        \n",
    "        i += 1\n",
    "        \n",
    "    return angle"
   ]
  },
  {
   "cell_type": "markdown",
   "metadata": {},
   "source": [
    "# HDF"
   ]
  },
  {
   "cell_type": "code",
   "execution_count": 24,
   "metadata": {},
   "outputs": [],
   "source": [
    "import numpy as np\n",
    "\n",
    "from scipy.stats import skew \n",
    "def hdf_method(markers):\n",
    "\n",
    "    #arrays with data\n",
    "    x_lank = np.array(markers['x_LANK'])\n",
    "    x_rank = np.array(markers['x_RANK'])\n",
    "    x_lkne = np.array(markers['x_LKNE'])\n",
    "    x_rkne = np.array(markers['x_RKNE'])\n",
    "    x_lfin = np.array(markers['x_LFIN'])\n",
    "    x_rfin = np.array(markers['x_RFIN'])\n",
    "    x_lsho = np.array(markers['x_LSHO'])\n",
    "    x_rsho = np.array(markers['x_RSHO'])\n",
    "    \n",
    "    #auxiliaty tables\n",
    "    #hd1 ankles\n",
    "    hd1 = []\n",
    "    hd1_x = 0\n",
    "    #hd2 knees\n",
    "    hd2 = []\n",
    "    hd2_x = 0\n",
    "    #hd3 wrists\n",
    "    hd3 = []\n",
    "    hd3_x = 0\n",
    "    #hd4 shoulders\n",
    "    hd4 = []\n",
    "    hd4_x = 0\n",
    "    \n",
    "    #variables\n",
    "    meanH = []\n",
    "    stdH = []\n",
    "    skewH = []\n",
    "    HDF = [] \n",
    "    hdf = []\n",
    "    time = []\n",
    "    i = 0\n",
    "    \n",
    "    while i < avg:\n",
    "    \n",
    "        hd1_x = (x_lank[i] - x_rank[i]) ** 2\n",
    "        hd1.append(math.sqrt(hd1_x))\n",
    "        \n",
    "        hd2_x = (x_lkne[i] - x_rkne[i]) ** 2\n",
    "        hd2.append(math.sqrt(hd2_x))\n",
    "        \n",
    "        hd3_x = (x_lfin[i] - x_rfin[i]) ** 2\n",
    "        hd3.append(math.sqrt(hd3_x))\n",
    "        \n",
    "        hd4_x = (x_lsho[i] - x_rsho[i]) ** 2\n",
    "        hd4.append(math.sqrt(hd4_x))\n",
    "        \n",
    "        time.append(i)\n",
    "        hdf = [hd1[i], hd2[i], hd3[i], hd4[i]]\n",
    "        \n",
    "        meanH.append(np.mean(hdf))\n",
    "        stdH.append(np.std(hdf))\n",
    "        skewH.append(skew(hdf))        \n",
    "        HDF.append([meanH, stdH, skewH])\n",
    "        \n",
    "        i += 1\n",
    "        \n",
    "    return HDF[0][0], HDF[0][1], HDF[0][2]"
   ]
  },
  {
   "cell_type": "markdown",
   "metadata": {},
   "source": [
    "# VDF"
   ]
  },
  {
   "cell_type": "code",
   "execution_count": 25,
   "metadata": {},
   "outputs": [],
   "source": [
    "import numpy as np\n",
    "\n",
    "def vdf_method(markers):\n",
    "    \n",
    "    #arrays with data\n",
    "    y_rfhd = np.array(markers['y_RFHD'])\n",
    "    y_rwra = np.array(markers['y_RWRA'])\n",
    "    y_rsho = np.array(markers['y_RSHO'])\n",
    "    y_rank = np.array(markers['y_RANK'])\n",
    "    y_lank = np.array(markers['y_LANK'])\n",
    "    y_rhee = np.array(markers['y_RHEE'])\n",
    "    y_lhee = np.array(markers['y_LHEE'])\n",
    "    y_centreOfMass = np.array(markers['y_CentreOfMass'])\n",
    "    \n",
    "    #auxiliary tables\n",
    "    #vd1 HEIGHT\n",
    "    vd1 = []\n",
    "    vd1_y = 0\n",
    "    #vd2 WRIST RIGHT\n",
    "    vd2 = []\n",
    "    vd2_y = 0\n",
    "    #vd3 SHOULDER RIGHT\n",
    "    vd3 = []\n",
    "    vd3_y = 0\n",
    "    #vd4 ANKLE RIGHT\n",
    "    vd4 = []\n",
    "    vd4_y = 0\n",
    "    #vd5 ANKLE LEFT\n",
    "    vd5 = []\n",
    "    vd5_y = 0\n",
    "    #vd6 DIST. FEET LEFT AND RIGHT\n",
    "    vd6 = []\n",
    "    vd6_y = 0\n",
    "    \n",
    "    #variables\n",
    "    meanV = []\n",
    "    stdV = []\n",
    "    VDF = [] \n",
    "    vdf = []\n",
    "    time = []\n",
    "    average = []\n",
    "    i = 0\n",
    "    \n",
    "    while i < avg:\n",
    "    \n",
    "        vd1_y = np.array(y_rfhd[i])\n",
    "        vd1.append(vd1_y)\n",
    "        \n",
    "        vd2_y = np.array(y_rwra[i])\n",
    "        vd2.append(vd2_y)\n",
    "        \n",
    "        vd3_y = np.array(y_rsho[i])\n",
    "        vd3.append(vd3_y)\n",
    "        \n",
    "        vd4_y = np.array(y_rank[i])\n",
    "        vd4.append(vd4_y)\n",
    "        \n",
    "        vd5_y = np.array(y_lank[i])\n",
    "        vd5.append(vd5_y)\n",
    "        \n",
    "        vd6_y = np.array((0.5 * (y_rhee[i] - y_lhee[i]) * y_centreOfMass[i]))\n",
    "        vd6.append(vd6_y)\n",
    "        \n",
    "        time.append(i)\n",
    "        \n",
    "        average = (vd1_y + vd2_y + vd3_y + vd4_y + vd5_y + vd6_y)\n",
    "        vdf = [vd1[i], vd2[i], vd3[i], vd4[i], vd5[i], vd6[i]]\n",
    "        \n",
    "        meanV.append(np.mean(average))\n",
    "        stdV.append(np.std(vdf))\n",
    "        VDF.append([meanV, stdV])\n",
    "        \n",
    "        i += 1\n",
    "        \n",
    "    return VDF[0][0], VDF[0][1]"
   ]
  },
  {
   "cell_type": "markdown",
   "metadata": {},
   "source": [
    "# approach"
   ]
  },
  {
   "cell_type": "code",
   "execution_count": 26,
   "metadata": {},
   "outputs": [],
   "source": [
    "from pyomeca import Markers"
   ]
  },
  {
   "cell_type": "code",
   "execution_count": 27,
   "metadata": {},
   "outputs": [],
   "source": [
    "def data_features(data_path):\n",
    "    marker_list = ['LANK', 'RANK', 'LKNE', 'RKNE', 'LFIN', 'RFIN', 'LSHO', 'RSHO', 'LASI', 'RFHD','RWRA','RHEE','LHEE','CentreOfMass']\n",
    "    markers = data_markers(data_path, marker_list)\n",
    "    jrd = jrd_method(markers)\n",
    "    jra = jra_method(markers)\n",
    "    meanH, stdH, skewH = hdf_method(markers)\n",
    "    meanV, stdV = vdf_method(markers)\n",
    "    \n",
    "    result = [jrd, jra, meanH, stdH, skewH, meanV, stdV]\n",
    "    \n",
    "    return pd.DataFrame(result).T"
   ]
  },
  {
   "cell_type": "code",
   "execution_count": 28,
   "metadata": {},
   "outputs": [
    {
     "data": {
      "text/html": [
       "<div>\n",
       "<style scoped>\n",
       "    .dataframe tbody tr th:only-of-type {\n",
       "        vertical-align: middle;\n",
       "    }\n",
       "\n",
       "    .dataframe tbody tr th {\n",
       "        vertical-align: top;\n",
       "    }\n",
       "\n",
       "    .dataframe thead th {\n",
       "        text-align: right;\n",
       "    }\n",
       "</style>\n",
       "<table border=\"1\" class=\"dataframe\">\n",
       "  <thead>\n",
       "    <tr style=\"text-align: right;\">\n",
       "      <th></th>\n",
       "      <th>0</th>\n",
       "      <th>1</th>\n",
       "      <th>2</th>\n",
       "      <th>3</th>\n",
       "      <th>4</th>\n",
       "      <th>5</th>\n",
       "      <th>6</th>\n",
       "    </tr>\n",
       "  </thead>\n",
       "  <tbody>\n",
       "    <tr>\n",
       "      <th>0</th>\n",
       "      <td>203.690369</td>\n",
       "      <td>0.606328</td>\n",
       "      <td>336.031941</td>\n",
       "      <td>144.860071</td>\n",
       "      <td>0.819324</td>\n",
       "      <td>-5013.061834</td>\n",
       "      <td>5772.141255</td>\n",
       "    </tr>\n",
       "    <tr>\n",
       "      <th>1</th>\n",
       "      <td>201.950251</td>\n",
       "      <td>0.499876</td>\n",
       "      <td>335.364729</td>\n",
       "      <td>144.420268</td>\n",
       "      <td>0.823974</td>\n",
       "      <td>55199.356102</td>\n",
       "      <td>16723.182044</td>\n",
       "    </tr>\n",
       "    <tr>\n",
       "      <th>2</th>\n",
       "      <td>226.348216</td>\n",
       "      <td>0.375193</td>\n",
       "      <td>334.588882</td>\n",
       "      <td>144.136359</td>\n",
       "      <td>0.817452</td>\n",
       "      <td>116506.026880</td>\n",
       "      <td>39625.578426</td>\n",
       "    </tr>\n",
       "    <tr>\n",
       "      <th>3</th>\n",
       "      <td>268.010084</td>\n",
       "      <td>0.241897</td>\n",
       "      <td>333.693392</td>\n",
       "      <td>144.181812</td>\n",
       "      <td>0.799737</td>\n",
       "      <td>176257.705352</td>\n",
       "      <td>61947.291919</td>\n",
       "    </tr>\n",
       "    <tr>\n",
       "      <th>4</th>\n",
       "      <td>315.768304</td>\n",
       "      <td>0.124359</td>\n",
       "      <td>332.772922</td>\n",
       "      <td>144.521730</td>\n",
       "      <td>0.775978</td>\n",
       "      <td>230811.159525</td>\n",
       "      <td>82329.081943</td>\n",
       "    </tr>\n",
       "    <tr>\n",
       "      <th>...</th>\n",
       "      <td>...</td>\n",
       "      <td>...</td>\n",
       "      <td>...</td>\n",
       "      <td>...</td>\n",
       "      <td>...</td>\n",
       "      <td>...</td>\n",
       "      <td>...</td>\n",
       "    </tr>\n",
       "    <tr>\n",
       "      <th>122</th>\n",
       "      <td>464.218222</td>\n",
       "      <td>0.372734</td>\n",
       "      <td>336.263963</td>\n",
       "      <td>164.923995</td>\n",
       "      <td>0.752434</td>\n",
       "      <td>196587.147574</td>\n",
       "      <td>75261.125341</td>\n",
       "    </tr>\n",
       "    <tr>\n",
       "      <th>123</th>\n",
       "      <td>444.106457</td>\n",
       "      <td>0.493540</td>\n",
       "      <td>339.472335</td>\n",
       "      <td>163.924409</td>\n",
       "      <td>0.761395</td>\n",
       "      <td>186177.230147</td>\n",
       "      <td>71432.509250</td>\n",
       "    </tr>\n",
       "    <tr>\n",
       "      <th>124</th>\n",
       "      <td>417.801867</td>\n",
       "      <td>0.606869</td>\n",
       "      <td>341.758378</td>\n",
       "      <td>162.646271</td>\n",
       "      <td>0.762568</td>\n",
       "      <td>171487.877461</td>\n",
       "      <td>66012.228682</td>\n",
       "    </tr>\n",
       "    <tr>\n",
       "      <th>125</th>\n",
       "      <td>384.685005</td>\n",
       "      <td>0.694831</td>\n",
       "      <td>342.779385</td>\n",
       "      <td>161.146301</td>\n",
       "      <td>0.759817</td>\n",
       "      <td>152630.513940</td>\n",
       "      <td>59041.683861</td>\n",
       "    </tr>\n",
       "    <tr>\n",
       "      <th>126</th>\n",
       "      <td>344.569524</td>\n",
       "      <td>0.745020</td>\n",
       "      <td>342.494109</td>\n",
       "      <td>159.387687</td>\n",
       "      <td>0.756769</td>\n",
       "      <td>129482.633616</td>\n",
       "      <td>50474.859311</td>\n",
       "    </tr>\n",
       "  </tbody>\n",
       "</table>\n",
       "<p>127 rows × 7 columns</p>\n",
       "</div>"
      ],
      "text/plain": [
       "              0         1           2           3         4              5  \\\n",
       "0    203.690369  0.606328  336.031941  144.860071  0.819324   -5013.061834   \n",
       "1    201.950251  0.499876  335.364729  144.420268  0.823974   55199.356102   \n",
       "2    226.348216  0.375193  334.588882  144.136359  0.817452  116506.026880   \n",
       "3    268.010084  0.241897  333.693392  144.181812  0.799737  176257.705352   \n",
       "4    315.768304  0.124359  332.772922  144.521730  0.775978  230811.159525   \n",
       "..          ...       ...         ...         ...       ...            ...   \n",
       "122  464.218222  0.372734  336.263963  164.923995  0.752434  196587.147574   \n",
       "123  444.106457  0.493540  339.472335  163.924409  0.761395  186177.230147   \n",
       "124  417.801867  0.606869  341.758378  162.646271  0.762568  171487.877461   \n",
       "125  384.685005  0.694831  342.779385  161.146301  0.759817  152630.513940   \n",
       "126  344.569524  0.745020  342.494109  159.387687  0.756769  129482.633616   \n",
       "\n",
       "                6  \n",
       "0     5772.141255  \n",
       "1    16723.182044  \n",
       "2    39625.578426  \n",
       "3    61947.291919  \n",
       "4    82329.081943  \n",
       "..            ...  \n",
       "122  75261.125341  \n",
       "123  71432.509250  \n",
       "124  66012.228682  \n",
       "125  59041.683861  \n",
       "126  50474.859311  \n",
       "\n",
       "[127 rows x 7 columns]"
      ]
     },
     "execution_count": 28,
     "metadata": {},
     "output_type": "execute_result"
    }
   ],
   "source": [
    "data = data_features(filelist[0])\n",
    "data"
   ]
  },
  {
   "cell_type": "code",
   "execution_count": 29,
   "metadata": {},
   "outputs": [],
   "source": [
    "import config as cfg"
   ]
  },
  {
   "cell_type": "code",
   "execution_count": 30,
   "metadata": {},
   "outputs": [
    {
     "name": "stderr",
     "output_type": "stream",
     "text": [
      "C:\\Users\\alekk\\anaconda3\\lib\\site-packages\\ipykernel_launcher.py:45: RuntimeWarning: invalid value encountered in double_scalars\n"
     ]
    }
   ],
   "source": [
    "final_db = []\n",
    "final_label = []\n",
    "\n",
    "for file in filelist:\n",
    "    db_features = data_features(file)\n",
    "    final_db.append(db_features)"
   ]
  },
  {
   "cell_type": "code",
   "execution_count": 31,
   "metadata": {},
   "outputs": [],
   "source": [
    "create_h5_basic('features_database_large.h5', final_db)"
   ]
  },
  {
   "cell_type": "code",
   "execution_count": null,
   "metadata": {},
   "outputs": [],
   "source": []
  }
 ],
 "metadata": {
  "kernelspec": {
   "display_name": "Python 3",
   "language": "python",
   "name": "python3"
  },
  "language_info": {
   "codemirror_mode": {
    "name": "ipython",
    "version": 3
   },
   "file_extension": ".py",
   "mimetype": "text/x-python",
   "name": "python",
   "nbconvert_exporter": "python",
   "pygments_lexer": "ipython3",
   "version": "3.7.9"
  }
 },
 "nbformat": 4,
 "nbformat_minor": 4
}
