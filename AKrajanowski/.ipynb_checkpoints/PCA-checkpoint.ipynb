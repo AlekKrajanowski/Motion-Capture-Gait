{
 "cells": [
  {
   "cell_type": "code",
   "execution_count": 8,
   "metadata": {},
   "outputs": [],
   "source": [
    "import h5py\n",
    "import numpy as np\n",
    "import matplotlib.pyplot as plt"
   ]
  },
  {
   "cell_type": "code",
   "execution_count": 9,
   "metadata": {},
   "outputs": [
    {
     "name": "stdout",
     "output_type": "stream",
     "text": [
      "['x', 'y']\n",
      "(samples, timesteps, features) (samples,label)->  (13, 127, 7) (13, 1)\n"
     ]
    }
   ],
   "source": [
    "f=h5py.File(r'features_db_test10.h5', 'r')\n",
    "print(list(f.keys()))\n",
    "x = f['x'][:,:,:]\n",
    "y = f['y']\n",
    "print('(samples, timesteps, features) (samples,label)-> ', x.shape, y.shape)"
   ]
  },
  {
   "cell_type": "code",
   "execution_count": 10,
   "metadata": {},
   "outputs": [],
   "source": [
    "nsamples, nx, ny = x.shape\n",
    "d2_x = x.reshape((nsamples,nx*ny))"
   ]
  },
  {
   "cell_type": "code",
   "execution_count": 11,
   "metadata": {},
   "outputs": [],
   "source": [
    "from sklearn.preprocessing import StandardScaler\n",
    "scaler = StandardScaler()\n",
    "scaler.fit(d2_x)\n",
    "scaled_data = scaler.transform(d2_x)"
   ]
  },
  {
   "cell_type": "code",
   "execution_count": 12,
   "metadata": {},
   "outputs": [
    {
     "data": {
      "text/plain": [
       "array([[-0.43436773, -1.4156386 , -0.3977158 , ..., -0.00826349,\n",
       "         0.04960977, -0.93339095],\n",
       "       [-1.30215988,  1.44873216, -0.11052434, ..., -1.52235177,\n",
       "         0.42448142, -0.35046268],\n",
       "       [-0.31973373,  0.58311458, -1.16151987, ..., -0.48388776,\n",
       "        -0.79239637, -0.31055146],\n",
       "       ...,\n",
       "       [-0.00391613, -0.81642613, -1.09101771, ..., -1.04565808,\n",
       "        -0.81208152, -0.24504558],\n",
       "       [ 1.0391129 , -0.63856253, -1.74349591, ...,  1.26152052,\n",
       "         1.79454631,  1.93769909],\n",
       "       [ 0.45853705, -0.36499788,  1.4831377 , ...,  0.55322884,\n",
       "        -0.08613984, -1.02793457]])"
      ]
     },
     "execution_count": 12,
     "metadata": {},
     "output_type": "execute_result"
    }
   ],
   "source": [
    "scaled_data"
   ]
  },
  {
   "cell_type": "code",
   "execution_count": 13,
   "metadata": {},
   "outputs": [
    {
     "data": {
      "text/plain": [
       "array([[-0.43436773, -1.4156386 , -0.3977158 , ..., -0.00826349,\n",
       "         0.04960977, -0.93339095],\n",
       "       [-1.30215988,  1.44873216, -0.11052434, ..., -1.52235177,\n",
       "         0.42448142, -0.35046268],\n",
       "       [-0.31973373,  0.58311458, -1.16151987, ..., -0.48388776,\n",
       "        -0.79239637, -0.31055146],\n",
       "       ...,\n",
       "       [-0.00391613, -0.81642613, -1.09101771, ..., -1.04565808,\n",
       "        -0.81208152, -0.24504558],\n",
       "       [ 1.0391129 , -0.63856253, -1.74349591, ...,  1.26152052,\n",
       "         1.79454631,  1.93769909],\n",
       "       [ 0.45853705, -0.36499788,  1.4831377 , ...,  0.55322884,\n",
       "        -0.08613984, -1.02793457]])"
      ]
     },
     "execution_count": 13,
     "metadata": {},
     "output_type": "execute_result"
    }
   ],
   "source": [
    "scaled_data[:] = np.nan_to_num(scaled_data)\n",
    "scaled_data"
   ]
  },
  {
   "cell_type": "code",
   "execution_count": 7,
   "metadata": {},
   "outputs": [
    {
     "name": "stdout",
     "output_type": "stream",
     "text": [
      "original shape:    (13, 889)\n",
      "transformed shape: (13, 13)\n"
     ]
    }
   ],
   "source": [
    "from sklearn.decomposition import PCA\n",
    "\n",
    "pca = PCA(n_components=13) # liczba głównych składowych\n",
    "pca.fit(scaled_data)\n",
    "x_pca = pca.transform(scaled_data)\n",
    "x_new = pca.inverse_transform(x_pca)\n",
    "print(\"original shape:   \", scaled_data.shape)\n",
    "print(\"transformed shape:\", x_pca.shape)"
   ]
  },
  {
   "cell_type": "code",
   "execution_count": null,
   "metadata": {},
   "outputs": [],
   "source": []
  }
 ],
 "metadata": {
  "kernelspec": {
   "display_name": "Python 3",
   "language": "python",
   "name": "python3"
  },
  "language_info": {
   "codemirror_mode": {
    "name": "ipython",
    "version": 3
   },
   "file_extension": ".py",
   "mimetype": "text/x-python",
   "name": "python",
   "nbconvert_exporter": "python",
   "pygments_lexer": "ipython3",
   "version": "3.7.9"
  }
 },
 "nbformat": 4,
 "nbformat_minor": 4
}
