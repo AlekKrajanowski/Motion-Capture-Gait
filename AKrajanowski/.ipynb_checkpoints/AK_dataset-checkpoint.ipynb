{
 "cells": [
  {
   "cell_type": "code",
   "execution_count": 12,
   "metadata": {},
   "outputs": [],
   "source": [
    "from pyomeca import Markers\n",
    "from ezc3d import c3d\n",
    "import importlib\n",
    "import numpy as np"
   ]
  },
  {
   "cell_type": "code",
   "execution_count": 13,
   "metadata": {},
   "outputs": [],
   "source": [
    "path = f'medical_dataset_AK\\degeneration\\degeneration_01.c3d'"
   ]
  },
  {
   "cell_type": "code",
   "execution_count": 21,
   "metadata": {},
   "outputs": [],
   "source": [
    "sample = c3d(path)"
   ]
  },
  {
   "cell_type": "code",
   "execution_count": null,
   "metadata": {},
   "outputs": [],
   "source": []
  },
  {
   "cell_type": "code",
   "execution_count": null,
   "metadata": {},
   "outputs": [],
   "source": []
  },
  {
   "cell_type": "code",
   "execution_count": null,
   "metadata": {},
   "outputs": [],
   "source": []
  },
  {
   "cell_type": "code",
   "execution_count": null,
   "metadata": {},
   "outputs": [],
   "source": []
  },
  {
   "cell_type": "code",
   "execution_count": null,
   "metadata": {},
   "outputs": [],
   "source": []
  },
  {
   "cell_type": "code",
   "execution_count": null,
   "metadata": {},
   "outputs": [],
   "source": []
  },
  {
   "cell_type": "code",
   "execution_count": 18,
   "metadata": {},
   "outputs": [],
   "source": [
    "def read_labels(data_path):\n",
    "    c3d_to_compare= c3d(data_path)\n",
    "    event = c3d_to_compare['parameters']['EVENT']['LABELS']['value']\n",
    "    time = np.around(c3d_to_compare['parameters']['EVENT']['TIMES']['value'][1]*1000)\n",
    "    \n",
    "    return [event, time]"
   ]
  },
  {
   "cell_type": "code",
   "execution_count": 19,
   "metadata": {},
   "outputs": [
    {
     "data": {
      "text/plain": [
       "[['Foot Strike',\n",
       "  'Foot Strike',\n",
       "  'Foot Strike',\n",
       "  'Foot Strike',\n",
       "  'Foot Strike',\n",
       "  'Foot Strike',\n",
       "  'Foot Strike',\n",
       "  'Foot Strike',\n",
       "  'Foot Strike',\n",
       "  'Foot Off',\n",
       "  'Foot Off',\n",
       "  'Foot Off',\n",
       "  'Foot Off',\n",
       "  'Foot Off',\n",
       "  'Foot Off',\n",
       "  'Foot Off',\n",
       "  'Foot Off',\n",
       "  'Foot Off',\n",
       "  'Foot Off'],\n",
       " array([3650., 4340., 2250., 5010., 6370., 1460., 2980., 5710., 7090.,\n",
       "        5810., 1710., 3100., 4440., 7250., 2440., 3740., 5110., 6460.,\n",
       "        8020.])]"
      ]
     },
     "execution_count": 19,
     "metadata": {},
     "output_type": "execute_result"
    }
   ],
   "source": [
    "read_labels(path)"
   ]
  },
  {
   "cell_type": "code",
   "execution_count": null,
   "metadata": {},
   "outputs": [],
   "source": []
  }
 ],
 "metadata": {
  "kernelspec": {
   "display_name": "Python 3",
   "language": "python",
   "name": "python3"
  },
  "language_info": {
   "codemirror_mode": {
    "name": "ipython",
    "version": 3
   },
   "file_extension": ".py",
   "mimetype": "text/x-python",
   "name": "python",
   "nbconvert_exporter": "python",
   "pygments_lexer": "ipython3",
   "version": "3.7.4"
  }
 },
 "nbformat": 4,
 "nbformat_minor": 2
}
