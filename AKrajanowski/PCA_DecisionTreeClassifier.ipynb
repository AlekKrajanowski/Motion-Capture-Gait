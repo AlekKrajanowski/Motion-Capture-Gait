{
 "cells": [
  {
   "cell_type": "code",
   "execution_count": 1,
   "metadata": {},
   "outputs": [],
   "source": [
    "import matplotlib.pyplot as plt\n",
    "import pandas as pd\n",
    "import numpy as np\n",
    "import seaborn as sns\n",
    "import h5py\n",
    "import glob\n",
    "from sklearn.preprocessing import StandardScaler\n",
    "from sklearn.tree import DecisionTreeClassifier\n",
    "import random"
   ]
  },
  {
   "cell_type": "code",
   "execution_count": 2,
   "metadata": {},
   "outputs": [
    {
     "name": "stdout",
     "output_type": "stream",
     "text": [
      "['left', 'right']\n",
      "(samples, timesteps, features) (26, 276, 7)\n"
     ]
    }
   ],
   "source": [
    "f=h5py.File(r'features_database_gait_two_cycles_both_legs.h5', 'r')\n",
    "print(list(f.keys()))\n",
    "x = f['left'][:,:,:]\n",
    "print('(samples, timesteps, features)', x.shape)"
   ]
  },
  {
   "cell_type": "code",
   "execution_count": 31,
   "metadata": {},
   "outputs": [],
   "source": [
    "path = f'cut_one_gait_two_cycle_left'\n",
    "filelist =[]\n",
    "digits =[]\n",
    "digits_int =[]\n",
    "for file in glob.glob(f'{path}\\\\*.c3d',recursive = True):\n",
    "    filelist.append(file[4:-4].replace(\"_\", \"\"))\n",
    "    digits.append(file[28:-9])\n",
    "\n",
    "for ele in digits:\n",
    "    digits_int.append(1) if ele=='degeneration' else digits_int.append(0)"
   ]
  },
  {
   "cell_type": "code",
   "execution_count": 47,
   "metadata": {},
   "outputs": [
    {
     "data": {
      "text/plain": [
       "['degeneration',\n",
       " 'degeneration',\n",
       " 'degeneration',\n",
       " 'degeneration',\n",
       " 'degeneration',\n",
       " 'degeneration',\n",
       " 'degeneration',\n",
       " 'degeneration',\n",
       " 'degeneration',\n",
       " 'degeneration',\n",
       " 'degeneration',\n",
       " 'degeneration',\n",
       " 'degeneration',\n",
       " 'degeneration',\n",
       " 'healthy',\n",
       " 'healthy',\n",
       " 'healthy',\n",
       " 'healthy',\n",
       " 'healthy',\n",
       " 'healthy',\n",
       " 'healthy',\n",
       " 'healthy',\n",
       " 'healthy',\n",
       " 'healthy',\n",
       " 'healthy',\n",
       " 'healthy']"
      ]
     },
     "execution_count": 47,
     "metadata": {},
     "output_type": "execute_result"
    }
   ],
   "source": [
    "digits"
   ]
  },
  {
   "cell_type": "code",
   "execution_count": 48,
   "metadata": {},
   "outputs": [],
   "source": [
    "nsamples, nx, ny = x.shape\n",
    "d2_x = x.reshape((nsamples,nx*ny))"
   ]
  },
  {
   "cell_type": "code",
   "execution_count": 49,
   "metadata": {},
   "outputs": [
    {
     "data": {
      "text/plain": [
       "array([[-1.22267435,  0.05630691, -0.5715779 , ..., -0.89653304,\n",
       "         0.42794146, -0.66281856],\n",
       "       [-1.90840876,  1.58146286, -0.80308318, ..., -3.1474704 ,\n",
       "         1.50433924, -0.33194932],\n",
       "       [-0.35911177,  0.56277204, -1.08919772, ..., -1.13858822,\n",
       "        -1.04997721,  1.04939722],\n",
       "       ...,\n",
       "       [ 0.31472414, -0.92402367, -0.48923583, ...,  0.14859258,\n",
       "         0.58714367, -0.84544729],\n",
       "       [ 1.23243316, -0.7999598 , -0.89885525, ...,  0.84641101,\n",
       "        -1.68199852,  1.78105282],\n",
       "       [ 1.23243316, -0.7999598 , -0.89885525, ...,  0.84641101,\n",
       "        -1.68199852,  1.78105282]])"
      ]
     },
     "execution_count": 49,
     "metadata": {},
     "output_type": "execute_result"
    }
   ],
   "source": [
    "scaler = StandardScaler()\n",
    "scaled_data = scaler.fit_transform(d2_x)\n",
    "scaled_data"
   ]
  },
  {
   "cell_type": "code",
   "execution_count": 34,
   "metadata": {},
   "outputs": [],
   "source": [
    "from sklearn.model_selection import train_test_split \n"
   ]
  },
  {
   "cell_type": "code",
   "execution_count": 35,
   "metadata": {},
   "outputs": [],
   "source": [
    "# sc = StandardScaler()   \n",
    "# X_train = sc.fit_transform(X_train) \n",
    "# X_test = sc.transform(X_test) "
   ]
  },
  {
   "cell_type": "code",
   "execution_count": 36,
   "metadata": {},
   "outputs": [],
   "source": [
    "# mean_vec=np.mean(X_train,axis=0)\n",
    "# cov_mat=(X_train-mean_vec).T.dot((X_train-mean_vec))/(X_train.shape[0]-1)\n",
    "# mean_vect=np.mean(X_test,axis=0)\n",
    "# cov_matt=(X_test-mean_vec).T.dot((X_test-mean_vec))/(X_test.shape[0]-1)\n",
    "# print(cov_mat)"
   ]
  },
  {
   "cell_type": "code",
   "execution_count": 37,
   "metadata": {},
   "outputs": [],
   "source": [
    "# cov_mat=np.cov(X_train.T)\n",
    "# eig_vals,eig_vecs=np.linalg.eig(cov_mat)\n",
    "# cov_matt=np.cov(X_test.T)\n",
    "# eig_vals,eig_vecs=np.linalg.eig(cov_mat)"
   ]
  },
  {
   "cell_type": "code",
   "execution_count": 38,
   "metadata": {},
   "outputs": [],
   "source": [
    "from sklearn.decomposition import PCA \n",
    "pca = PCA(n_components=scaled_data.shape[0], svd_solver='full')\n",
    "X_pca = pca.fit_transform(scaled_data) \n",
    "# X_test = pca.transform(X_test) \n",
    "# X_train.shape"
   ]
  },
  {
   "cell_type": "code",
   "execution_count": 39,
   "metadata": {},
   "outputs": [],
   "source": [
    "# from sklearn.tree import DecisionTreeClassifier\n",
    "\n",
    "# X_train, X_test, y_train, y_test = train_test_split(X_pca, digits_int, test_size = 0.2, random_state = 0) \n",
    "# clf = DecisionTreeClassifier()\n",
    "# clf = clf.fit(X_train,y_train)\n",
    "# y_pred_test = clf.predict(X_test)\n",
    "# y_pred_train = clf.predict(X_train)"
   ]
  },
  {
   "cell_type": "code",
   "execution_count": 40,
   "metadata": {},
   "outputs": [],
   "source": [
    "# plt.figure(figsize=(15,15))\n",
    "# plt.scatter(X_train[:,0],X_train[:,1], c='blue', label='Train Data')\n",
    "# for x,y,z in zip(X_train[:,0],X_train[:,1], y_pred_train):\n",
    "#     label = f\"({z})\"\n",
    "#     plt.annotate(label, \n",
    "#                  (x,y), \n",
    "#                  textcoords=\"offset points\", \n",
    "#                  xytext=(0,10),\n",
    "#                  ha='center')\n",
    "# plt.scatter(X_test[:,0],X_test[:,1], c='red', label='Train Data')\n",
    "# for x,y,z in zip(X_test[:,0],X_test[:,1], y_pred_test):\n",
    "#     label = f\"({z})\"\n",
    "#     plt.annotate(label, \n",
    "#                  (x,y), \n",
    "#                  textcoords=\"offset points\", \n",
    "#                  xytext=(0,10),\n",
    "#                  ha='center')\n",
    "    \n",
    "# plt.xlabel('First principal component')\n",
    "# plt.ylabel('Second Principal Component')\n",
    "# plt.title('Prediction of Data Train and Test')\n",
    "# plt.legend()"
   ]
  },
  {
   "cell_type": "code",
   "execution_count": 41,
   "metadata": {},
   "outputs": [],
   "source": [
    "# from sklearn.metrics import f1_score, classification_report, plot_confusion_matrix\n",
    "# train_f1 = []\n",
    "# test_f1 = []\n",
    "\n",
    "# for i in range(8):\n",
    "    \n",
    "#     X = scaled_data[:,0:i+1]\n",
    "    \n",
    "#     # Train-test-split\n",
    "#     X_train, X_test, y_train, y_test = train_test_split(X, digits_int,\n",
    "#                                                         test_size=0.25,\n",
    "#                                                         random_state=42)\n",
    "\n",
    "#     # Perform feature scaling\n",
    "#     scaler = StandardScaler()\n",
    "#     X_train = scaler.fit_transform(X_train)\n",
    "#     X_test = scaler.transform(X_test)\n",
    "\n",
    "#     # Fit k-NN classifier and make predictions\n",
    "#     dtc = DecisionTreeClassifier()\n",
    "#     dtc.fit(X_train, y_train)\n",
    "#     y_pred_train = dtc.predict(X_train)\n",
    "#     y_pred_test = dtc.predict(X_test)\n",
    "#     train_f1.append(f1_score(y_train, y_pred_train))\n",
    "#     test_f1.append(f1_score(y_test, y_pred_test))\n",
    "\n",
    "# # Plot accuracy by n_neighbors\n",
    "# plt.figure(figsize=(8, 6))\n",
    "# plt.plot(range(1,9), train_f1, label='Train f1 Score')\n",
    "# plt.plot(range(1,9), test_f1, label='Test f1 Score')\n",
    "# plt.ylabel('f1 Score')\n",
    "# plt.xlabel('# of Principal Components')\n",
    "# plt.legend()\n",
    "# plt.show()"
   ]
  },
  {
   "cell_type": "code",
   "execution_count": 42,
   "metadata": {},
   "outputs": [],
   "source": [
    "# X = scaled_data[:,0:26]\n",
    "    \n",
    "# # Train-test-split\n",
    "# X_train, X_test, y_train, y_test = train_test_split(X, digits_int,\n",
    "#                                                     test_size=0.25,\n",
    "#                                                     random_state=42)\n",
    "\n",
    "# # Perform feature scaling\n",
    "# scaler = StandardScaler()\n",
    "# X_train = scaler.fit_transform(X_train)\n",
    "# X_test = scaler.transform(X_test)\n",
    "\n",
    "# dtc = DecisionTreeClassifier()\n",
    "# dtc.fit(X_train, y_train)\n",
    "# y_pred_train = dtc.predict(X_train)\n",
    "# y_pred_test = dtc.predict(X_test)\n",
    "    \n",
    "# print(f'Train f1 Score: {f1_score(y_train, y_pred_train)}')\n",
    "# print(f'Test f1 Score: {f1_score(y_test, y_pred_test)}')\n",
    "# print(classification_report(y_test, y_pred_test))"
   ]
  },
  {
   "cell_type": "code",
   "execution_count": 43,
   "metadata": {},
   "outputs": [],
   "source": [
    "# plot_confusion_matrix(dtc, X_test, y_test, display_labels=['healthy','degeneration'],\n",
    "#                       normalize='true', cmap='Blues');"
   ]
  },
  {
   "cell_type": "code",
   "execution_count": 53,
   "metadata": {},
   "outputs": [
    {
     "name": "stdout",
     "output_type": "stream",
     "text": [
      "Train f1 Score: 1.0\n",
      "Test f1 Score: 0.0\n",
      "              precision    recall  f1-score   support\n",
      "\n",
      "           0       0.29      1.00      0.44         2\n",
      "           1       0.00      0.00      0.00         5\n",
      "\n",
      "    accuracy                           0.29         7\n",
      "   macro avg       0.14      0.50      0.22         7\n",
      "weighted avg       0.08      0.29      0.13         7\n",
      "\n"
     ]
    },
    {
     "name": "stderr",
     "output_type": "stream",
     "text": [
      "C:\\Users\\alekk\\anaconda3\\lib\\site-packages\\sklearn\\metrics\\_classification.py:1221: UndefinedMetricWarning: Precision and F-score are ill-defined and being set to 0.0 in labels with no predicted samples. Use `zero_division` parameter to control this behavior.\n",
      "  _warn_prf(average, modifier, msg_start, len(result))\n"
     ]
    }
   ],
   "source": [
    "from sklearn.metrics import f1_score, classification_report, plot_confusion_matrix\n",
    "X = X_pca[:,0:26]\n",
    "    \n",
    "# Train-test-split\n",
    "X_train, X_test, y_train, y_test = train_test_split(X, digits_int,\n",
    "                                                    test_size=0.25,\n",
    "                                                    random_state=42)\n",
    "\n",
    "# Perform feature scaling\n",
    "scaler = StandardScaler()\n",
    "X_train = scaler.fit_transform(X_train)\n",
    "X_test = scaler.transform(X_test)\n",
    "\n",
    "# Fit DT classifier and make predictions\n",
    "dtc = DecisionTreeClassifier()\n",
    "dtc.fit(X_train, y_train)\n",
    "y_pred_train = dtc.predict(X_train)\n",
    "y_pred_test = dtc.predict(X_test)\n",
    "    \n",
    "print(f'Train f1 Score: {f1_score(y_train, y_pred_train)}')\n",
    "print(f'Test f1 Score: {f1_score(y_test, y_pred_test)}')\n",
    "print(classification_report(y_test, y_pred_test))\n"
   ]
  },
  {
   "cell_type": "code",
   "execution_count": 45,
   "metadata": {},
   "outputs": [
    {
     "ename": "IndexError",
     "evalue": "index 27 is out of bounds for axis 1 with size 26",
     "output_type": "error",
     "traceback": [
      "\u001b[1;31m---------------------------------------------------------------------------\u001b[0m",
      "\u001b[1;31mIndexError\u001b[0m                                Traceback (most recent call last)",
      "\u001b[1;32m<ipython-input-45-5c78da8feeae>\u001b[0m in \u001b[0;36m<module>\u001b[1;34m\u001b[0m\n\u001b[0;32m      3\u001b[0m \u001b[1;31m#DT and PCA\u001b[0m\u001b[1;33m\u001b[0m\u001b[1;33m\u001b[0m\u001b[1;33m\u001b[0m\u001b[0m\n\u001b[0;32m      4\u001b[0m \u001b[1;33m\u001b[0m\u001b[0m\n\u001b[1;32m----> 5\u001b[1;33m \u001b[0max\u001b[0m\u001b[1;33m[\u001b[0m\u001b[1;36m0\u001b[0m\u001b[1;33m]\u001b[0m\u001b[1;33m.\u001b[0m\u001b[0mscatter\u001b[0m\u001b[1;33m(\u001b[0m\u001b[0mX_train\u001b[0m\u001b[1;33m[\u001b[0m\u001b[1;33m:\u001b[0m\u001b[1;33m,\u001b[0m\u001b[1;36m2\u001b[0m\u001b[1;33m]\u001b[0m\u001b[1;33m,\u001b[0m\u001b[0mX_train\u001b[0m\u001b[1;33m[\u001b[0m\u001b[1;33m:\u001b[0m\u001b[1;33m,\u001b[0m\u001b[1;36m27\u001b[0m\u001b[1;33m]\u001b[0m\u001b[1;33m,\u001b[0m \u001b[0mc\u001b[0m\u001b[1;33m=\u001b[0m\u001b[1;34m'blue'\u001b[0m\u001b[1;33m,\u001b[0m \u001b[0mlabel\u001b[0m\u001b[1;33m=\u001b[0m\u001b[1;34m'Train Data'\u001b[0m\u001b[1;33m)\u001b[0m\u001b[1;33m\u001b[0m\u001b[1;33m\u001b[0m\u001b[0m\n\u001b[0m\u001b[0;32m      6\u001b[0m \u001b[1;32mfor\u001b[0m \u001b[0mx\u001b[0m\u001b[1;33m,\u001b[0m\u001b[0my\u001b[0m\u001b[1;33m,\u001b[0m\u001b[0mz\u001b[0m \u001b[1;32min\u001b[0m \u001b[0mzip\u001b[0m\u001b[1;33m(\u001b[0m\u001b[0mX_train\u001b[0m\u001b[1;33m[\u001b[0m\u001b[1;33m:\u001b[0m\u001b[1;33m,\u001b[0m\u001b[1;36m2\u001b[0m\u001b[1;33m]\u001b[0m\u001b[1;33m,\u001b[0m\u001b[0mX_train\u001b[0m\u001b[1;33m[\u001b[0m\u001b[1;33m:\u001b[0m\u001b[1;33m,\u001b[0m\u001b[1;36m27\u001b[0m\u001b[1;33m]\u001b[0m\u001b[1;33m,\u001b[0m \u001b[0my_pred_train\u001b[0m\u001b[1;33m)\u001b[0m\u001b[1;33m:\u001b[0m\u001b[1;33m\u001b[0m\u001b[1;33m\u001b[0m\u001b[0m\n\u001b[0;32m      7\u001b[0m     \u001b[0mlabel\u001b[0m \u001b[1;33m=\u001b[0m \u001b[1;34mf\"({z})\"\u001b[0m\u001b[1;33m\u001b[0m\u001b[1;33m\u001b[0m\u001b[0m\n",
      "\u001b[1;31mIndexError\u001b[0m: index 27 is out of bounds for axis 1 with size 26"
     ]
    },
    {
     "data": {
      "image/png": "[encoded data removed]",
      "text/plain": [
       "<Figure size 1800x720 with 2 Axes>"
      ]
     },
     "metadata": {
      "needs_background": "light"
     },
     "output_type": "display_data"
    }
   ],
   "source": [
    "fig, ax = plt.subplots(1, 2, figsize=(25,10))\n",
    "\n",
    "#DT and PCA\n",
    "\n",
    "ax[0].scatter(X_train[:,2],X_train[:,27], c='blue', label='Train Data')\n",
    "for x,y,z in zip(X_train[:,2],X_train[:,27], y_pred_train):\n",
    "    label = f\"({z})\"\n",
    "    ax[0].annotate(label, \n",
    "                 (x,y), \n",
    "                 textcoords=\"offset points\", \n",
    "                 xytext=(0,10),\n",
    "                 ha='center')\n",
    "\n",
    "ax[0].scatter(X_test[:,2],X_test[:,27], c='red', label='Test Data')\n",
    "for x,y,z in zip(X_test[:,2],X_test[:,27], y_pred_test):\n",
    "    label = f\"({z})\"\n",
    "    ax[0].annotate(label, \n",
    "                 (x,y), \n",
    "                 textcoords=\"offset points\", \n",
    "                 xytext=(0,10),\n",
    "                 ha='center')\n",
    "    \n",
    "ax[0].set_xlabel('Second principal component')\n",
    "ax[0].set_ylabel('Twenty-seventh Principal Component')\n",
    "ax[0].legend()\n",
    "\n",
    "#Only PCA\n",
    "ax[1].plot(X_pca[0:41,2],X_pca[0:41,27], 'x', markersize=7, color='blue', alpha=0.5, label='degeneration')\n",
    "ax[1].plot(X_pca[41:76,2],X_pca[41:76,27], 'o', markersize=7, color='red', alpha=0.5, label='healthy')\n",
    "ax[1].legend()\n",
    "ax[1].set_xlabel('Second principal component')\n",
    "ax[1].set_ylabel('Twenty-seventh Principal Component')"
   ]
  },
  {
   "cell_type": "code",
   "execution_count": null,
   "metadata": {},
   "outputs": [],
   "source": []
  },
  {
   "cell_type": "code",
   "execution_count": null,
   "metadata": {},
   "outputs": [],
   "source": []
  }
 ],
 "metadata": {
  "kernelspec": {
   "display_name": "Python 3",
   "language": "python",
   "name": "python3"
  },
  "language_info": {
   "codemirror_mode": {
    "name": "ipython",
    "version": 3
   },
   "file_extension": ".py",
   "mimetype": "text/x-python",
   "name": "python",
   "nbconvert_exporter": "python",
   "pygments_lexer": "ipython3",
   "version": "3.7.9"
  }
 },
 "nbformat": 4,
 "nbformat_minor": 4
}
