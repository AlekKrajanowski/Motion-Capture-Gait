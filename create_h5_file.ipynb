{
 "cells": [
  {
   "cell_type": "code",
   "execution_count": 2,
   "metadata": {},
   "outputs": [],
   "source": [
    "import h5py\n",
    "\n",
    "def create_h5(path, feature, timestamp, file_name):\n",
    "    f = h5py.File(path, mode='w')\n",
    "    f.create_dataset(\"feature\", data=feature)\n",
    "    f.create_dataset(\"time\", data=time)\n",
    "    f.create_dataset(\"file_name\", data=file_name)   \n",
    "    f.close()\n"
   ]
  },
  {
   "cell_type": "code",
   "execution_count": 4,
   "metadata": {},
   "outputs": [],
   "source": [
    "def create_h5_b(path, x):\n",
    "    f = h5py.File(path, mode='w')\n",
    "    f.create_dataset(\"feature\", data=x) \n",
    "    f.close()"
   ]
  }
 ],
 "metadata": {
  "kernelspec": {
   "display_name": "Python 3",
   "language": "python",
   "name": "python3"
  },
  "language_info": {
   "codemirror_mode": {
    "name": "ipython",
    "version": 3
   },
   "file_extension": ".py",
   "mimetype": "text/x-python",
   "name": "python",
   "nbconvert_exporter": "python",
   "pygments_lexer": "ipython3",
   "version": "3.7.6"
  }
 },
 "nbformat": 4,
 "nbformat_minor": 4
}
